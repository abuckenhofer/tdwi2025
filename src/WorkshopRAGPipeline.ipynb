{
  "cells": [
    {
      "cell_type": "markdown",
      "id": "b43752e1",
      "metadata": {
        "id": "b43752e1"
      },
      "source": [
        "# RAG Workshop Notebook\n",
        "\n",
        "**TDWI 2025 – Hands-on Session**\n",
        "\n",
        "Dieses Notebook führt dich Schritt für Schritt durch den kompletten RAG-Workflow:\n",
        "\n",
        "1. **Setup & Ziele** - Umgebung vorbereiten, Lernziele verstehen\n",
        "# Index Pipeline\n",
        "2. **🧹Daten laden & reinigen** – denn ohne Qualität läuft mal wieder nix\n",
        "3. **✂️Chunking** – den Elefanten in Scheiben schneiden\n",
        "4. **🧮Embedding** – die Welt in Vektoren gießen\n",
        "# Vektorspeicher\n",
        "5. **🗄️Vector Store** – Mathe statt Magie rund um FAISS, DuckDB, PostgreSQL\n",
        "# RAG Pipeline\n",
        "6. **🌀Prompt pimpen** – Quellen smart einbauen\n",
        "7. **🪄Chat GPTiert** – Kontext drin, Halluzinationen draußen!?\n",
        "8. **Evaluierung** - Ein paar einfache Checks\n"
      ]
    },
    {
      "cell_type": "markdown",
      "source": [
        "### Lernziele\n",
        "Nach diesem Notebook kannst du …\n",
        "\n",
        "1. die Kernidee hinter Retrieval‑Augmented Generation (RAG) erklären,\n",
        "2. Beispiel-Webdaten laden und inspizieren,\n",
        "3. Semantische Suche in Vektordatenbanken/indexes durchführen.\n",
        "\n",
        "Du kannst das Notebook in Google Colab ausführen oder lokal auf deinem eigenen Notebook.\n",
        "### Voraussetzungen\n",
        "Voraussetzungen\n",
        "\n",
        "Python-Kenntnisse\n",
        "- Google Colab (frei verfügbare Notebook Umgebung https://colab.research.google.com/)\n",
        "- HuggingFace-Account https://huggingface.co/ und LLM wie Gemini https://aistudio.google.com/apikey (jeweils ohne Kosten)\n",
        "- Optional OpenAI-Account (API Guthaben notwendig, kostenpflichtig)\n",
        "\n",
        "Zusätzliche Voraussetzungen bei lokaler Ausführung\n",
        "- Python ≥ 3.12\n",
        "- Falls PostgreSQL pgvector genutzt werden soll: lokale Docker/podman Installation\n",
        "\n",
        "### Ablauf - grober Überblick\n",
        "| Abschnitt | Zeit | Inhalt |\n",
        "|-----------|------|--------|\n",
        "| Setup (dieses Notebook) | 10 min | Umgebung, Datenquellen, Key-Handling |\n",
        "| Daten laden | 10 min | Wiki Seite abrufen |\n",
        "| Chunking | 15 min | Text in Häppchen |\n",
        "| Embedding | 10 min | Vektorisierung & Kosten |\n",
        "| Indexing | 15 min | Vektor-Datenbanken |\n",
        "| Augmentation & Retrieval | 15 min | Daten anreichern und Chat |\n",
        "| Evaluierung & Extras | 5 min | Metriken, RAG-Chains |"
      ],
      "metadata": {
        "id": "7PFy_pitCW3F"
      },
      "id": "7PFy_pitCW3F"
    },
    {
      "cell_type": "markdown",
      "id": "b3375a2c",
      "metadata": {
        "id": "b3375a2c"
      },
      "source": [
        "# 01 Setup\n",
        "In diesem Abschnitt installieren wir Abhängigkeiten, importieren Libraries und definieren globale Konstanten."
      ]
    },
    {
      "cell_type": "markdown",
      "id": "91e6266c",
      "metadata": {
        "id": "91e6266c"
      },
      "source": [
        "### Schritt 01-01 – Python Pakete installieren\n",
        "- In google colab requirements.txt zuerst nach content kopieren!\n",
        "- Bei einem lokalen Notebook: requirements.txt liegt im Repository/Projekt-Rootverzeichnis, d.h. eine Ebene oberhalb von src/(dieses Notebook)\n",
        "\n",
        "Der nachfolgende Installationsvorgang wird einige Minuten benötigen!"
      ]
    },
    {
      "cell_type": "code",
      "source": [
        "import sys\n",
        "import subprocess\n",
        "from pathlib import Path\n",
        "import os, pathlib, sys\n",
        "\n",
        "# prueft ob in Colab-Umgebung\n",
        "is_colab  = \"google.colab\" in sys.modules\n",
        "req_path  = Path(\"requirements.txt\") if is_colab else Path(\"..\") / \"requirements.txt\"\n",
        "python_exe = sys.executable\n",
        "\n",
        "# ist requirements.txt vorhanden?\n",
        "if not req_path.exists():\n",
        "    raise FileNotFoundError(\n",
        "        f\"Requirements-Datei nicht gefunden: {req_path.resolve()}\\n\"\n",
        "        f\"Aktueller Ordner des Kernels: {Path().resolve()}\"\n",
        "    )\n",
        "\n",
        "subprocess.check_call(\n",
        "    [python_exe, \"-m\", \"pip\", \"install\", \"-r\", str(req_path), \"--no-cache-dir\"]\n",
        ")\n",
        "\n",
        "print(\"Arbeitsverzeichnis:\", os.getcwd())\n",
        "print(\"Python-Version    :\", sys.version.split()[0])\n",
        "print(\"Inhalt:\", list(pathlib.Path().iterdir())[:5])"
      ],
      "metadata": {
        "colab": {
          "base_uri": "https://localhost:8080/"
        },
        "id": "k5RUpDazDd9q",
        "outputId": "dc844444-9072-4e88-ae16-a6c98d254013"
      },
      "id": "k5RUpDazDd9q",
      "execution_count": 3,
      "outputs": [
        {
          "output_type": "stream",
          "name": "stdout",
          "text": [
            "Arbeitsverzeichnis: /content\n",
            "Python-Version    : 3.11.13\n",
            "Inhalt: [PosixPath('.config'), PosixPath('requirements.txt'), PosixPath('sample_data')]\n"
          ]
        }
      ]
    },
    {
      "cell_type": "markdown",
      "id": "a8a8832b",
      "metadata": {
        "id": "a8a8832b"
      },
      "source": [
        "### Schritt 01-02 – Import der Python Pakete und initiale Einstellungen\n",
        "**LangChain** ist ein Open-Source-Framework, das Hilfsklassen und Bausteine bereitstellt, um Large-Language-Model-(LLM-)Anwendungen – vom einfachen Prompt-Template bis zum komplexen Retrieval-Augmented-Generation-(RAG-)Workflow – schnell zusammenzustecken.\n",
        "\n",
        "Seit Ende 2024 wurden alle optionalen Integrationen (Loader, Embeddings, Tools u. a.) in das separate Paket **langchain-community** ausgelagert; das Kernpaket enthält nur noch die zentralen Abstraktionen, während langchain_community die Schnittstellen zu Dritt-Libs wie HuggingFace, OpenAI, Pinecone usw. bündelt.\n",
        "Beide Pakete werden gemeinsam gepflegt und folgen demselben API-Stil.\n",
        "\n",
        "**Vorteile**\n",
        "* Sehr große Auswahl an fertigen Komponenten (Loader, Splitter, Embeddings, Vektordatenbanken).\n",
        "* Einheitliche Schnittstellen erleichtern Rapid Prototyping und späteren Austausch einzelner Bausteine.\n",
        "* Aktive Community, laufend neue Integrationen, gute Tutorials und Beispiele.\n",
        "\n",
        "**Nachteile**\n",
        "* Häufige Breaking Changes; Upgrade kann Code-Anpassungen erfordern.\n",
        "* Viele optionale Abhängigkeiten → voluminöse Installation und längere Import-Zeit.\n",
        "* Abstraktionslage kann Debugging erschweren, weil interne Aufrufe in mehreren Schichten verborgen sind."
      ]
    },
    {
      "cell_type": "code",
      "execution_count": 48,
      "id": "4f03951b",
      "metadata": {
        "id": "4f03951b"
      },
      "outputs": [],
      "source": [
        "import warnings\n",
        "import textwrap\n",
        "import copy\n",
        "from langchain_community.document_loaders import AsyncHtmlLoader\n",
        "from langchain_community.document_transformers import BeautifulSoupTransformer\n",
        "\n",
        "from langchain.text_splitter import CharacterTextSplitter, RecursiveCharacterTextSplitter\n",
        "from langchain_text_splitters import HTMLSectionSplitter\n",
        "\n",
        "from langchain_huggingface import HuggingFaceEmbeddings\n",
        "from langchain_openai import OpenAIEmbeddings\n",
        "\n",
        "import google.generativeai as genai\n",
        "\n",
        "import faiss\n",
        "from langchain_community.docstore.in_memory import InMemoryDocstore\n",
        "from langchain_community.vectorstores import FAISS\n",
        "from langchain_community.vectorstores.faiss import DistanceStrategy\n",
        "from langchain_community.vectorstores import DuckDB\n",
        "from langchain_core.prompts import PromptTemplate\n",
        "from langchain_core.runnables import Runnable\n",
        "\n",
        "from sklearn.metrics.pairwise import cosine_similarity\n",
        "import matplotlib.pyplot as plt\n",
        "import numpy as np\n",
        "from textwrap import shorten\n",
        "import duckdb, pandas as pd\n",
        "\n",
        "# stellt den globalen Warnfilter so ein, dass keine Warnungen mehr angezeigt werden.\n",
        "# Praktisch für saubere Demo-Notebooks, aber gefährlich,\n",
        "# denn wichtige Infos können unterdrückt werden.\n",
        "warnings.filterwarnings(\"ignore\")"
      ]
    },
    {
      "cell_type": "markdown",
      "id": "573766ad",
      "metadata": {
        "id": "573766ad"
      },
      "source": [
        "### Schritt 01-03 – Konfigurationen\n",
        "Im Notebook wird nur eine Seite genutzt. Anhand dieser Seite werden die einzelnen Schritte gezeigt."
      ]
    },
    {
      "cell_type": "code",
      "execution_count": 5,
      "id": "dbf211e7",
      "metadata": {
        "id": "dbf211e7"
      },
      "outputs": [],
      "source": [
        "# Link zur Wikipedia-Seite, die verarbeitet wird\n",
        "url = \"https://en.wikipedia.org/wiki/Retrieval-augmented_generation\""
      ]
    },
    {
      "cell_type": "markdown",
      "source": [
        "# 02 🧹Daten laden & reinigen – denn ohne Qualität läuft mal wieder nix\n",
        "In diesem Abschnitt laden wir die Wiki-Seite, zeigen die Metadaten und Nutzdaten an sowie entfernen html-Tags."
      ],
      "metadata": {
        "id": "aPLqhNvoW2JB"
      },
      "id": "aPLqhNvoW2JB"
    },
    {
      "cell_type": "markdown",
      "id": "df648b66",
      "metadata": {
        "id": "df648b66"
      },
      "source": [
        "### Schritt 02-01 – Abrufen der Wiki-Seite\n",
        "Die Wiki-Seite wird gelesen in die Variable html_page_ori. Diese Variable enthält\n",
        "- Metadaten\n",
        "- Nutzdaten (\"Wikiseite\") inklusive html-Tags.\n",
        "Die Nutzdaten müssen im weiteren Verlauf bereinigt werden (\"Cleansing\")."
      ]
    },
    {
      "cell_type": "code",
      "execution_count": 7,
      "id": "c38ba0a9",
      "metadata": {
        "colab": {
          "base_uri": "https://localhost:8080/"
        },
        "id": "c38ba0a9",
        "outputId": "399558bb-bb15-445c-cac7-8bab40c5c0ff"
      },
      "outputs": [
        {
          "output_type": "stream",
          "name": "stderr",
          "text": [
            "Fetching pages: 100%|##########| 1/1 [00:00<00:00, 15.47it/s]\n"
          ]
        }
      ],
      "source": [
        "# AsyncHtmlLoader (Langchain) lädt HTML-Seiten parallel ein und liefert sie als Document-Objekte zurück\n",
        "HTMLloader = AsyncHtmlLoader (url)\n",
        "\n",
        "html_page_ori = HTMLloader.load()"
      ]
    },
    {
      "cell_type": "markdown",
      "id": "c6035612",
      "metadata": {
        "id": "c6035612"
      },
      "source": [
        "### Schritt 02-02 – Metadaten prüfen/anzeigen"
      ]
    },
    {
      "cell_type": "code",
      "execution_count": 9,
      "id": "a85995b9",
      "metadata": {
        "colab": {
          "base_uri": "https://localhost:8080/"
        },
        "id": "a85995b9",
        "outputId": "ebfb297d-50f4-4277-e163-f40beb5d7aaa"
      },
      "outputs": [
        {
          "output_type": "stream",
          "name": "stdout",
          "text": [
            "{'source': 'https://en.wikipedia.org/wiki/Retrieval-augmented_generation', 'title': 'Retrieval-augmented generation - Wikipedia', 'language': 'en'}\n"
          ]
        }
      ],
      "source": [
        "html_page = copy.deepcopy(html_page_ori)\n",
        "print(html_page[0].metadata)"
      ]
    },
    {
      "cell_type": "markdown",
      "id": "3d929243",
      "metadata": {
        "id": "3d929243"
      },
      "source": [
        "### Schritt 02-03 – Nutzdaten prüfen/anzeigen"
      ]
    },
    {
      "cell_type": "code",
      "execution_count": 10,
      "id": "9f5a2ab0",
      "metadata": {
        "colab": {
          "base_uri": "https://localhost:8080/"
        },
        "collapsed": true,
        "id": "9f5a2ab0",
        "outputId": "2923fc1c-3b36-45ae-cb35-bdc2f66ba542"
      },
      "outputs": [
        {
          "output_type": "stream",
          "name": "stdout",
          "text": [
            "<!DOCTYPE html> <html class=\"client-nojs vector-feature-language-in-header-\n",
            "enabled vector-feature-language-in-main-page-header-disabled vector-feature-\n",
            "page-tools-pinned-disabled vector-feature-toc-pinned-clientpref-1 vector-\n",
            "feature-main-menu-pinned-disabled vector-feature-limited-width-clientpref-1\n",
            "vector-feature-limited-width-content-enabled vector-feature-custom-font-size-\n",
            "clientpref-1 vector-feature-appearance-pinned-clientpref-1 vector-feature-night-\n",
            "mode-enabled skin-theme-clientpref-day vector-sticky-header-enabled vector-toc-\n",
            "available\" lang=\"en\" dir=\"ltr\"> <head> <meta charset=\"UTF-8\"> <title>Retrieval-\n",
            "augmented generation - Wikipedia</title> <script>(function(){var\n",
            "className=\"client-js vector-feature-language-in-header-enabled vector-feature-\n",
            "language-in-main-page-header-disabled vector-feature-page-tools-pinned-disabled\n",
            "vector-feature-toc-pinned-clientpref-1 vector-feature-main-menu-pinned-disabled\n",
            "vector-feature-limited-width-clientpref-1 vector-feature-limited-width-content-\n",
            "ena\n"
          ]
        }
      ],
      "source": [
        "# Es werden die ersten 1000 Zeichen angezeigt\n",
        "# und mit Hilfe von textwrap \"umgebrochen\" statt einer langen Zeile\n",
        "# html Tags sin noch enthalten\n",
        "html_page = copy.deepcopy(html_page_ori)\n",
        "content = html_page[0].page_content[:1000]\n",
        "wrapped = textwrap.fill(content, width=80)\n",
        "\n",
        "print(wrapped)"
      ]
    },
    {
      "cell_type": "markdown",
      "id": "7e957d60",
      "metadata": {
        "id": "7e957d60"
      },
      "source": [
        "### Schritt 02-04 – Cleansing\n",
        "Das Dokument beinhaltet html-Tags, die bereinigt werden müssen.\n",
        "Dazu wird transform_documents aufgerufen. transform_documents ändert die Originaldaten, daher wird zuerst eine Kopie angelegt. Durch das Anlegen der Kopie können Zellen im Notebook mehrfach aufgerufen werden und ist somit fehlertoleranter (insb. transform_documents könnte sonst nur ein Mal aufgerufen werden oder es muss wieder von vorne begonnen werden und die Wiki-Seite muss abgerufen werden).\n",
        "\n",
        "BeautifulSoupTransformer ist ein LangChain-Helper, der HTML-Dokumente mit Beautiful Soup parst und den Inhalt nach vorgegebenen Regeln ausdünnt.\n",
        "Durch copy.deepcopy(html_page_ori) wird zuerst eine vollständige Kopie der geladenen Document-Liste erzeugt, damit das Original unverändert bleibt.\n",
        "transform_documents(..., tags_to_extract=[\"p\"]) entfernt anschließend alles außer den p-Tags: Jeder zurückgegebene Document enthält nur noch den reinen Paragraph-Text, Metadaten wie die URL bleiben erhalten."
      ]
    },
    {
      "cell_type": "code",
      "execution_count": 11,
      "id": "6563e71d",
      "metadata": {
        "id": "6563e71d"
      },
      "outputs": [],
      "source": [
        "soup_transformer = BeautifulSoupTransformer()\n",
        "\n",
        "html_page = copy.deepcopy(html_page_ori)\n",
        "html_page_transformed = soup_transformer.transform_documents(html_page, tags_to_extract=[\"p\"])"
      ]
    },
    {
      "cell_type": "markdown",
      "id": "f47455b8",
      "metadata": {
        "id": "f47455b8"
      },
      "source": [
        "### Schrittm 02-05 – Metadaten prüfen/anzeigen"
      ]
    },
    {
      "cell_type": "code",
      "execution_count": 12,
      "id": "67cf206e",
      "metadata": {
        "colab": {
          "base_uri": "https://localhost:8080/"
        },
        "id": "67cf206e",
        "outputId": "7f0cf431-2a84-44aa-87d9-c1d5837ff495"
      },
      "outputs": [
        {
          "output_type": "stream",
          "name": "stdout",
          "text": [
            "{'source': 'https://en.wikipedia.org/wiki/Retrieval-augmented_generation', 'title': 'Retrieval-augmented generation - Wikipedia', 'language': 'en'}\n"
          ]
        }
      ],
      "source": [
        "print(html_page_transformed[0].metadata)"
      ]
    },
    {
      "cell_type": "markdown",
      "id": "4fc5672a",
      "metadata": {
        "id": "4fc5672a"
      },
      "source": [
        "### Schritt 02-06 – Nutzdaten prüfen/anzeigen"
      ]
    },
    {
      "cell_type": "code",
      "execution_count": 15,
      "id": "424c2173",
      "metadata": {
        "colab": {
          "base_uri": "https://localhost:8080/"
        },
        "collapsed": true,
        "id": "424c2173",
        "outputId": "2b446815-8f69-4cdd-e593-0c96a62222eb"
      },
      "outputs": [
        {
          "output_type": "stream",
          "name": "stdout",
          "text": [
            "Retrieval-augmented generation ( RAG ) is a technique that enables large\n",
            "language models (/wiki/Large_language_model) (LLMs) to retrieve and incorporate\n",
            "new information. [ 1 (#cite_note-:1-1) ] With RAG, LLMs do not respond to user\n",
            "queries until they refer to a specified set of documents. These documents\n",
            "supplement information from the LLM's pre-existing training data\n",
            "(/wiki/Training_data) . [ 2 (#cite_note-:2-2) ] This allows LLMs to use domain-\n",
            "specific and/or updated information that is not available in the training data.\n",
            "[ 2 (#cite_note-:2-2) ] [ 3 (#cite_note-:4-3) ] For example, this helps LLM-\n",
            "based chatbots (/wiki/Chatbot) access internal company data or generate\n",
            "responses based on authoritative sources. RAG improves large language models\n",
            "(LLMs) by incorporating information retrieval (/wiki/Information_retrieval)\n",
            "before generating responses. [ 4 (#cite_note-:5-4) ] Unlike traditional LLMs\n",
            "that rely on static training data, RAG pulls relevant text from databases,\n",
            "uploaded documents, or web sources. [ 1 (#cite_note-:1-1) ] According to Ars\n",
            "Technica (/wiki/Ars_Technica) , \"RAG is a way of improving LLM performance, in\n",
            "essence by blending the LLM process with a web search or other document look-up\n",
            "process to help LLMs stick to the facts.\" This method helps reduce AI\n",
            "hallucinations (/wiki/AI_hallucinations) , [ 4 (#cite_note-:5-4) ] [ 5\n",
            "(#cite_note-:7-5) ] which have caused chatbots to describe policies that don't\n",
            "exist, or recommend nonexistent legal cases to lawyers that are looking for\n",
            "citations to support their arguments. [ 6 (#cite_note-:0-6) ]  RAG also reduces\n",
            "the need to retrain LLMs with new data, saving on computational and financial\n",
            "costs. [ 1 (#cite_note-:1-1) ] Beyond efficiency gains, RAG also allows LLMs to\n",
            "include sources in their responses, so users can verify the cited sources. This\n",
            "provides greater transparency, as users can cross-check retrieved content to\n",
            "ensure accuracy and relevance. The term RAG was first introduced in a 2020\n",
            "research paper [ 4 (#cite_note-:5-4) ] from Meta (/wiki/Meta_(Company)) . [ 7\n",
            "(#cite_note-:6-7) ] [ 3 (#cite_note-:4-3) ]  LLMs can provide incorrect\n",
            "information. For example, when Google first demonstrated its LLM tool \" Google\n",
            "Bard (/wiki/Google_Bard) \", the LLM provided incorrect information about the\n",
            "James Webb Space Telescope (/wiki/James_Webb_Space_Telescope) . This error\n",
            "contributed to a $100 billion decline in the company (/wiki/Alphabet_Inc.) ’s\n",
            "stock value. [ 6 (#cite_note-:0-6) ] RAG is used to prevent these errors, but it\n",
            "does not solve all the problems. For example, LLMs can generate misinformation\n",
            "even when pulling from factually correct sources if they misinterpret the\n",
            "context. [ 8 (#cite_note-:8-8) ]  MIT Technology Review\n",
            "(/wiki/MIT_Technology_Review) gives the example of an AI-generated response\n",
            "stating, \"The United States has had one Muslim president, Barack Hussein Obama.\"\n",
            "The model retrieved this from an academic book rhetorically titled Barack\n",
            "Hussein Obama: America’s First Muslim President? The LLM did not \"know\" or\n",
            "\"understand\" the context of the title, generating a false statement. [ 2\n",
            "(#cite_note-:2-2) ]  LLMs with RAG are programmed to prioritize new information.\n",
            "This technique has been called \"prompt stuffing.\" Without \"prompt stuffing\", the\n",
            "LLM's input is generated by a user; with prompt stuff, additional relevant\n",
            "context is added to this input to guide the model’s response. This approach\n",
            "provides the LLM with key information early in the prompt, encouraging it to\n",
            "prioritize the supplied data over pre-existing training knowledge. [ 9\n",
            "(#cite_note-9) ]  Retrieval-Augmented Generation (RAG) enhances large language\n",
            "models (LLMs) by incorporating an information-retrieval\n",
            "(/wiki/Information_retrieval) mechanism that allows models to access and utilize\n",
            "additional data beyond their original training set. AWS (/wiki/AWS) states, \"RAG\n",
            "allows LLMs to retrieve relevant information from external data sources to\n",
            "generate more accurate and contextually relevant responses\" ( indexing ). [ 10\n",
            "(#cite_note-AWS-10) ] This approach reduces reliance on static datasets, which\n",
            "can quickly become outdated. When a user submits a query, RAG uses a document\n",
            "retriever to search for relevant content from available sources before\n",
            "incorporating the retrieved information into the model’s response ( retrieval ).\n",
            "[ 11 (#cite_note-:9-11) ]  Ars Technica notes that \"when new information becomes\n",
            "available, rather than having to retrain the model, all that’s needed is to\n",
            "augment the model’s external knowledge base with the updated information\" (\n",
            "augmentation ). [ 6 (#cite_note-:0-6) ] By dynamically integrating relevant\n",
            "data, RAG enables LLMs to generate more informed and contextually grounded\n",
            "responses ( generation ). [ 5 (#cite_note-:7-5) ] IBM states that \"in the\n",
            "generative phase, the LLM draws from the augmented prompt and its internal\n",
            "representation of its training data to synthesize an engaging answer tailored to\n",
            "the user in that instant. [ 1 (#cite_note-:1-1) ]  T\n"
          ]
        }
      ],
      "source": [
        "content = html_page_transformed[0].page_content[:5000]\n",
        "wrapped = textwrap.fill(content, width=80)\n",
        "\n",
        "print(wrapped)"
      ]
    },
    {
      "cell_type": "markdown",
      "id": "f13c9d8b",
      "metadata": {
        "id": "f13c9d8b"
      },
      "source": [
        "# 03 ✂️Chunking – den Elefanten in Scheiben schneiden"
      ]
    },
    {
      "cell_type": "markdown",
      "source": [
        "### Theorie: Warum Chunking?\n",
        "Large-Language-Modelle haben ein Kontextlimit (z.&nbsp;B. 128k Tokens bei GPT-4o). Ein langer Artikel muss daher in kleinere Teile („Chunks“) zerlegt werden. Die Wahl der Chunk-Größe und des Overlaps beeinflusst die Qualität der Ergebnisse.\n",
        "Das Kontextlimit wird immer größer. Trotzdem ist ein Chunking sinnvoll, denn je größer der Text (Chunk) ist, umso mehr gehen relevante, spezifische Inhalte verloren.\n",
        "\n",
        "Es gibt eine Vielzahl von Chunking-Möglichkeiten:\n",
        "* **Fixed Length** (z.&nbsp;B. 1000 Zeichen) – simpel, aber ignoriert Satzgrenzen  \n",
        "* **Token-basiert** – präziser, braucht `tiktoken`  \n",
        "* **Rekursives Splitten** – behält semantische Einheiten (Absätze, Sätze)"
      ],
      "metadata": {
        "id": "YKCsw9wECrkd"
      },
      "id": "YKCsw9wECrkd"
    },
    {
      "cell_type": "markdown",
      "id": "4b3445ff",
      "metadata": {
        "id": "4b3445ff"
      },
      "source": [
        "### Schritt 03-01 – Anzahl Zeichen der Webseite"
      ]
    },
    {
      "cell_type": "code",
      "execution_count": 16,
      "id": "c5cc2e6f",
      "metadata": {
        "colab": {
          "base_uri": "https://localhost:8080/"
        },
        "id": "c5cc2e6f",
        "outputId": "65c435b3-ed10-437f-8d83-8afab640d028"
      },
      "outputs": [
        {
          "output_type": "stream",
          "name": "stdout",
          "text": [
            "11534\n"
          ]
        }
      ],
      "source": [
        "print(len(html_page_transformed[0].page_content))"
      ]
    },
    {
      "cell_type": "markdown",
      "id": "4a653488",
      "metadata": {
        "id": "4a653488"
      },
      "source": [
        "### Schritt 03-02 – Fixed Length Chunking\n",
        "Einfaches Chunking anhand fixer Größen mit/ohne Überlappung von Zeichen.\n",
        "\n",
        "Führe die Schritte 03-01 bis 03-03 mit verschiedenen Überlappungen aus (chunk_overlap=...), siehe 03-01."
      ]
    },
    {
      "cell_type": "code",
      "execution_count": 18,
      "id": "a7deeecb",
      "metadata": {
        "colab": {
          "base_uri": "https://localhost:8080/"
        },
        "id": "a7deeecb",
        "outputId": "62822078-0613-494b-ae3c-8519b7272d99"
      },
      "outputs": [
        {
          "output_type": "stream",
          "name": "stdout",
          "text": [
            "Anzahl Chunks, die erzeugt wurden: 12\n"
          ]
        }
      ],
      "source": [
        "text_splitter = CharacterTextSplitter(\n",
        "separator=\" \",               # Zeichen für das Trennen des Textes\n",
        "chunk_size=1000,             # Anzahl Zeichen im Chunk\n",
        "chunk_overlap=0,             # Anzahl überlappende Zeichen; wiederhole die nächsten Schritte mit anderen Werten, z.B. 0 oder 50\n",
        ")\n",
        "\n",
        "text_chunks=text_splitter.create_documents([html_page_transformed[0].page_content])\n",
        "\n",
        "print(f\"Anzahl Chunks, die erzeugt wurden: {len(text_chunks)}\")"
      ]
    },
    {
      "cell_type": "markdown",
      "id": "41a6e376",
      "metadata": {
        "id": "41a6e376"
      },
      "source": [
        "### Schritt 03-03 – Chunks prüfen/anzeigen (1 von 2)\n",
        "Es werden nun 2 Chunks miteinander verglichen."
      ]
    },
    {
      "cell_type": "code",
      "execution_count": 21,
      "id": "e72afe1f",
      "metadata": {
        "colab": {
          "base_uri": "https://localhost:8080/"
        },
        "id": "e72afe1f",
        "outputId": "622b04e2-c399-4b45-d6eb-1baba2100f02"
      },
      "outputs": [
        {
          "output_type": "stream",
          "name": "stdout",
          "text": [
            "documents, or web sources. [ 1 (#cite_note-:1-1) ] According to Ars Technica (/wiki/Ars_Technica) ,\n",
            "\"RAG is a way of improving LLM performance, in essence by blending the LLM process with a web search\n",
            "or other document look-up process to help LLMs stick to the facts.\" This method helps reduce AI\n",
            "hallucinations (/wiki/AI_hallucinations) , [ 4 (#cite_note-:5-4) ] [ 5 (#cite_note-:7-5) ] which\n",
            "have caused chatbots to describe policies that don't exist, or recommend nonexistent legal cases to\n",
            "lawyers that are looking for citations to support their arguments. [ 6 (#cite_note-:0-6) ] RAG also\n",
            "reduces the need to retrain LLMs with new data, saving on computational and financial costs. [ 1\n",
            "(#cite_note-:1-1) ] Beyond efficiency gains, RAG also allows LLMs to include sources in their\n",
            "responses, so users can verify the cited sources. This provides greater transparency, as users can\n",
            "cross-check retrieved content to ensure accuracy and relevance. The term RAG was first introduced in\n",
            "a 2020 research\n"
          ]
        }
      ],
      "source": [
        "# vergleiche die letzten Zeichen von Chunk 4 mit den ersten Zeichen von Chunk 5\n",
        "\n",
        "content = text_chunks[1].page_content\n",
        "wrapped = textwrap.fill(content, width=100)\n",
        "\n",
        "print(wrapped)"
      ]
    },
    {
      "cell_type": "markdown",
      "id": "e52d0c1d",
      "metadata": {
        "id": "e52d0c1d"
      },
      "source": [
        "### Schritt 03-03 – Chunks prüfen/anzeigen (2 von 2)"
      ]
    },
    {
      "cell_type": "code",
      "execution_count": 22,
      "id": "f50b86a2",
      "metadata": {
        "colab": {
          "base_uri": "https://localhost:8080/"
        },
        "collapsed": true,
        "id": "f50b86a2",
        "outputId": "41a1e2ff-31b7-4f92-dd4f-aead5c7dfc3f"
      },
      "outputs": [
        {
          "output_type": "stream",
          "name": "stdout",
          "text": [
            "paper [ 4 (#cite_note-:5-4) ] from Meta (/wiki/Meta_(Company)) . [ 7 (#cite_note-:6-7) ] [ 3\n",
            "(#cite_note-:4-3) ] LLMs can provide incorrect information. For example, when Google first\n",
            "demonstrated its LLM tool \" Google Bard (/wiki/Google_Bard) \", the LLM provided incorrect\n",
            "information about the James Webb Space Telescope (/wiki/James_Webb_Space_Telescope) . This error\n",
            "contributed to a $100 billion decline in the company (/wiki/Alphabet_Inc.) ’s stock value. [ 6\n",
            "(#cite_note-:0-6) ] RAG is used to prevent these errors, but it does not solve all the problems. For\n",
            "example, LLMs can generate misinformation even when pulling from factually correct sources if they\n",
            "misinterpret the context. [ 8 (#cite_note-:8-8) ] MIT Technology Review\n",
            "(/wiki/MIT_Technology_Review) gives the example of an AI-generated response stating, \"The United\n",
            "States has had one Muslim president, Barack Hussein Obama.\" The model retrieved this from an\n",
            "academic book rhetorically titled Barack Hussein Obama: America’s First\n"
          ]
        }
      ],
      "source": [
        "content = text_chunks[2].page_content\n",
        "wrapped = textwrap.fill(content, width=100)\n",
        "\n",
        "print(wrapped)"
      ]
    },
    {
      "cell_type": "markdown",
      "id": "4d742d8f",
      "metadata": {
        "id": "4d742d8f"
      },
      "source": [
        "### Schritt 03-04 - Verteilung der Anzahl Zeichen von Minimum bis Maximum"
      ]
    },
    {
      "cell_type": "code",
      "execution_count": 23,
      "id": "61cc8e10",
      "metadata": {
        "colab": {
          "base_uri": "https://localhost:8080/",
          "height": 545
        },
        "collapsed": true,
        "id": "61cc8e10",
        "outputId": "aea5f1c2-ce0d-4ced-c181-0bb184830b36"
      },
      "outputs": [
        {
          "output_type": "display_data",
          "data": {
            "text/plain": [
              "<Figure size 640x480 with 1 Axes>"
            ],
            "image/png": "[encoded data removed]"
          },
          "metadata": {}
        },
        {
          "output_type": "stream",
          "name": "stdout",
          "text": [
            "Median Chunk Länge: 996.0\n",
            "Durchschnittliche Chunk Länge: 958.58\n",
            "Minimum Chunk Länge: 545\n",
            "Max Chunk Länge: 1000\n"
          ]
        }
      ],
      "source": [
        "data = [len(doc.page_content) for doc in text_chunks]\n",
        "\n",
        "plt.boxplot(data)\n",
        "plt.title('Box Plot der Chunk Längen')\n",
        "plt.xlabel('Chunk Länge')\n",
        "plt.ylabel('Werte')\n",
        "\n",
        "plt.show()\n",
        "\n",
        "print(f\"Median Chunk Länge: {round(np.median(data),2)}\")\n",
        "print(f\"Durchschnittliche Chunk Länge: {round(np.mean(data),2)}\")\n",
        "print(f\"Minimum Chunk Länge: {round(np.min(data),2)}\")\n",
        "print(f\"Max Chunk Länge: {round(np.max(data),2)}\")"
      ]
    },
    {
      "cell_type": "markdown",
      "id": "f2aca33d",
      "metadata": {
        "id": "f2aca33d"
      },
      "source": [
        "### Schritt 03-05 – Rekursives Splitten\n",
        "Verbessertes Chunking anhand thematischer Einheiten, z.B. Überschriften oder Tabellen in einer html-Seite.\n",
        "\n",
        "sections_to_split_on legt fest, an welchen HTML-Elementen der Text zerlegt werden soll: Immer wenn im Quell-HTML ein h1, h2, h3 oder table auftaucht, beginnt der HTMLSectionSplitter einen neuen Abschnitt.\n",
        "\n",
        "Mit HTMLSectionSplitter(sections_to_split_on) erstellst du daher einen Chunker, der strukturbewusst entlang dieser Tags splittet, statt einfach blind nach Zeichenlänge.\n",
        "\n",
        "copy.deepcopy(html_page_ori) schützt das Original vor Veränderungen, anschließend wird in split_text(html_page[0].page_content) nur der kopierte HTML-String verarbeitet.\n",
        "\n",
        "Das Ergebnis split_content ist eine Liste von Textsegmenten, die jeweils genau den Inhalt eines Headers bzw. einer Tabelle (plus folgenden Fließtext bis zum nächsten Split-Tag) enthalten – optimal für ein verbessertes Chunking vor dem Embedding.\n",
        "\n",
        "Führe die nachfolgenden Schritte durch und vergleiche die Ergebnisse wenn (\"p\",\"P\") auskommentiert ist oder nicht."
      ]
    },
    {
      "cell_type": "code",
      "execution_count": 25,
      "id": "2f6483b9",
      "metadata": {
        "id": "2f6483b9"
      },
      "outputs": [],
      "source": [
        "sections_to_split_on = [\n",
        "     (\"h1\", \"Header 1\"),\n",
        "     (\"h2\", \"Header 2\"),\n",
        "     (\"h3\", \"Header 3\"),\n",
        "     (\"table\",\"Table\"),\n",
        "     #(\"div\", \"Div\"),\n",
        "     #(\"img\",\"Image\"),\n",
        "     #(\"p\",\"P\"),\n",
        "]\n",
        "\n",
        "splitter = HTMLSectionSplitter(sections_to_split_on)\n",
        "\n",
        "html_page = copy.deepcopy(html_page_ori)\n",
        "split_content = splitter.split_text(html_page[0].page_content)"
      ]
    },
    {
      "cell_type": "markdown",
      "id": "70b5ab76",
      "metadata": {
        "id": "70b5ab76"
      },
      "source": [
        "### Schritt 03-06 - Anzahl Chunks prüfen/anzeigen"
      ]
    },
    {
      "cell_type": "code",
      "execution_count": 26,
      "id": "dc7c9d51",
      "metadata": {
        "colab": {
          "base_uri": "https://localhost:8080/"
        },
        "id": "dc7c9d51",
        "outputId": "e3446444-aad3-4e36-ca4e-5f6e0546a534"
      },
      "outputs": [
        {
          "output_type": "execute_result",
          "data": {
            "text/plain": [
              "22"
            ]
          },
          "metadata": {},
          "execution_count": 26
        }
      ],
      "source": [
        "len(split_content)"
      ]
    },
    {
      "cell_type": "markdown",
      "id": "4b4680bf",
      "metadata": {
        "id": "4b4680bf"
      },
      "source": [
        "### Schritt 03-07 - die ersten 5 Chunks prüfen/anzeigen"
      ]
    },
    {
      "cell_type": "code",
      "execution_count": 33,
      "id": "18f624e5",
      "metadata": {
        "colab": {
          "base_uri": "https://localhost:8080/"
        },
        "id": "18f624e5",
        "outputId": "2c935a82-56d9-469f-8576-3c8ae610ea56"
      },
      "outputs": [
        {
          "output_type": "stream",
          "name": "stdout",
          "text": [
            "01. #TITLE#: Jump to content Main menu Main menu move to sidebar hide Navigation Main page Contents Current events Random [...]\n",
            "02. Contents: Contents move to sidebar hide (Top) 1 RAG and LLM Limitations 2 Process Toggle Process subsection 2.1 RAG key [...]\n",
            "03. Retrieval-augmented generation: Retrieval-augmented generation 12 languages Català Čeština Deutsch Français 한국어 Italiano Polski Русский Ślůnski [...]\n",
            "04. RAG and LLM Limitations: RAG and LLM Limitations [ edit ] LLMs can provide incorrect information. For example, when Google first [...]\n",
            "05. Process: Process [ edit ] Retrieval-Augmented Generation (RAG) enhances large language models (LLMs) by incorporating an [...]\n"
          ]
        }
      ],
      "source": [
        "#split_content[:5]\n",
        "for i, doc in enumerate(split_content[:5], 1):\n",
        "   header = next(iter(doc.metadata.values()), \"–\")\n",
        "   preview = shorten(doc.page_content.replace(\"\\n\", \" \"), 120)\n",
        "   print(f\"{i:02d}. {header}: {preview}\")\n"
      ]
    },
    {
      "cell_type": "markdown",
      "id": "1d21e44f",
      "metadata": {
        "id": "1d21e44f"
      },
      "source": [
        "### Schritt 03-08 – Chunks per Abschnitt prüfen/anzeigen\n",
        "Abschnitte sind z.B. Überschriften 1., 2., 3. Ebene, Tabellen oder andere html-Abschnitte. Wie viele Chunks je Abschnitt sind vorhanden?"
      ]
    },
    {
      "cell_type": "code",
      "execution_count": null,
      "id": "99896218",
      "metadata": {
        "colab": {
          "base_uri": "https://localhost:8080/"
        },
        "id": "99896218",
        "outputId": "aafd2563-3a4d-4266-aa1d-7c741b865f62"
      },
      "outputs": [
        {
          "output_type": "stream",
          "name": "stdout",
          "text": [
            "Counter({'Header 3': 8, 'Header 2': 6, 'Table': 6, 'Header 1': 2})\n"
          ]
        }
      ],
      "source": [
        "from collections import Counter\n",
        "\n",
        "class_counter = Counter()\n",
        "\n",
        "for doc in split_content:\n",
        "    document_class = next(iter(doc.metadata.keys()))\n",
        "    class_counter[document_class] += 1\n",
        "\n",
        "print(class_counter)"
      ]
    },
    {
      "cell_type": "markdown",
      "id": "f502a81f",
      "metadata": {
        "id": "f502a81f"
      },
      "source": [
        "### Schritt 03-09 - Verteilung der Anzahl Zeichen von Minimum bis Maximum"
      ]
    },
    {
      "cell_type": "code",
      "execution_count": 34,
      "id": "5838471e",
      "metadata": {
        "colab": {
          "base_uri": "https://localhost:8080/",
          "height": 545
        },
        "id": "5838471e",
        "outputId": "3c4bc2a0-1394-4ab9-dcad-bb4d5bd93d7d"
      },
      "outputs": [
        {
          "output_type": "display_data",
          "data": {
            "text/plain": [
              "<Figure size 640x480 with 1 Axes>"
            ],
            "image/png": "[encoded data removed]"
          },
          "metadata": {}
        },
        {
          "output_type": "stream",
          "name": "stdout",
          "text": [
            "Median Chunk Länge: 1273.0\n",
            "Durchschnittliche Chunk Länge: 1918.68\n",
            "Minimum Chunk Länge: 19\n",
            "Max Chunk Länge: 12595\n"
          ]
        }
      ],
      "source": [
        "data = [len(doc.page_content) for doc in split_content]\n",
        "\n",
        "plt.boxplot(data)\n",
        "plt.title('Box Plot der Chunk Längen')\n",
        "plt.xlabel('Chunk Länge')\n",
        "plt.ylabel('Werte')\n",
        "\n",
        "plt.show()\n",
        "\n",
        "print(f\"Median Chunk Länge: {round(np.median(data),2)}\")\n",
        "print(f\"Durchschnittliche Chunk Länge: {round(np.mean(data),2)}\")\n",
        "print(f\"Minimum Chunk Länge: {round(np.min(data),2)}\")\n",
        "print(f\"Max Chunk Länge: {round(np.max(data),2)}\")"
      ]
    },
    {
      "cell_type": "markdown",
      "id": "3569ee9f",
      "metadata": {
        "id": "3569ee9f"
      },
      "source": [
        "### Schritt 03-10 - Verteilung der Anzahl Zeichen ändern\n",
        "In der nächsten Zelle werden die Anzahl Zeichen limitiert, so dass die Ungleichverteilung reduziert wird."
      ]
    },
    {
      "cell_type": "code",
      "execution_count": 37,
      "id": "0b452e9c",
      "metadata": {
        "colab": {
          "base_uri": "https://localhost:8080/"
        },
        "id": "0b452e9c",
        "outputId": "76f9420f-f73d-474a-ad0d-13c6e83a4aa4"
      },
      "outputs": [
        {
          "output_type": "stream",
          "name": "stdout",
          "text": [
            "Anzahl Chunks, die erzeugt wurden: 25\n"
          ]
        }
      ],
      "source": [
        "# Obergrenze von chunk_size= Zeichen innerhalb eines Chunks\n",
        "text_splitter = RecursiveCharacterTextSplitter(\n",
        "separators=[\" \",\"\\n\",\".\"],   # Zeichen für das Trennen des Textes\n",
        "chunk_size=5000,             # Anzahl Zeichen im Chunk\n",
        "chunk_overlap=50,            # Anzahl überlappende Zeichen; wiederhole die nächsten Schritte mit anderen Werten, z.B. 0 oder 50\n",
        ")\n",
        "\n",
        "final_chunks=text_splitter.split_documents(split_content)\n",
        "\n",
        "print(f\"Anzahl Chunks, die erzeugt wurden: {len(final_chunks)}\")"
      ]
    },
    {
      "cell_type": "markdown",
      "id": "31eb0c02",
      "metadata": {
        "id": "31eb0c02"
      },
      "source": [
        "### Schritt 03-11 - Verteilung der Anzahl Zeichen von Minimum bis Maximum"
      ]
    },
    {
      "cell_type": "code",
      "execution_count": 38,
      "id": "93a77748",
      "metadata": {
        "colab": {
          "base_uri": "https://localhost:8080/",
          "height": 545
        },
        "id": "93a77748",
        "outputId": "3d221b99-90cf-4e77-b6ca-1ede7ff8aa49"
      },
      "outputs": [
        {
          "output_type": "display_data",
          "data": {
            "text/plain": [
              "<Figure size 640x480 with 1 Axes>"
            ],
            "image/png": "[encoded data removed]"
          },
          "metadata": {}
        },
        {
          "output_type": "stream",
          "name": "stdout",
          "text": [
            "Median Chunk Länge: 1302.0\n",
            "Durchschnittliche Chunk Länge: 1693.56\n",
            "Minimum Chunk Länge: 19\n",
            "Max Chunk Länge: 4993\n"
          ]
        }
      ],
      "source": [
        "data = [len(doc.page_content) for doc in final_chunks]\n",
        "\n",
        "plt.boxplot(data)\n",
        "plt.title('Box Plot der Chunk Längen')\n",
        "plt.xlabel('Chunk Länge')\n",
        "plt.ylabel('Werte')\n",
        "\n",
        "plt.show()\n",
        "\n",
        "print(f\"Median Chunk Länge: {round(np.median(data),2)}\")\n",
        "print(f\"Durchschnittliche Chunk Länge: {round(np.mean(data),2)}\")\n",
        "print(f\"Minimum Chunk Länge: {round(np.min(data),2)}\")\n",
        "print(f\"Max Chunk Länge: {round(np.max(data),2)}\")"
      ]
    },
    {
      "cell_type": "markdown",
      "id": "64f64ca7",
      "metadata": {
        "id": "64f64ca7"
      },
      "source": [
        "# 04 🧮Embedding – die Welt in Vektoren gießen"
      ]
    },
    {
      "cell_type": "markdown",
      "source": [
        "### Schritt 04-01 – API Keys einlesen\n",
        "Die API Keys in Google Colab in Secrets hinzufügen oder bei einem lokalen Notebook in die Datei .env\n",
        "\n",
        "Der OpenAI Key ist optional (zumindest einen dummy Wert setzen). Die API Keys für Huggingface und Gemini sind frei (ohne Kosten). Die Keys haben die folgenden Namen:\n",
        "* OPENAI_API_KEY\n",
        "* HF\n",
        "* GEMINI\n",
        "\n",
        "Für OpenAI: Einen API Key unter https://platform.openai.com/settings/organization/api-keys erzeugen. Achtung: der Zugriff erzeugt Kosten. Ein ChatGPT Abo reicht nicht, es muss ein API-Guthaben vorhanden sein.\n",
        "\n",
        "Gür GEMINI: Einen API Key unter https://aistudio.google.com/apikey erzeugen."
      ],
      "metadata": {
        "id": "5OJTq3y4-LnD"
      },
      "id": "5OJTq3y4-LnD"
    },
    {
      "cell_type": "code",
      "source": [
        "if is_colab:\n",
        "  from google.colab import userdata\n",
        "  api_key_openai = userdata.get('OPENAI_API_KEY')\n",
        "  api_key_hf = userdata.get(\"HF\")\n",
        "  api_key_gemini = userdata.get(\"GEMINI\")\n",
        "else:\n",
        "  from pathlib import Path\n",
        "  from dotenv import load_dotenv, find_dotenv\n",
        "  import os\n",
        "  load_dotenv(find_dotenv())\n",
        "  api_key_openai = os.getenv(\"OPENAI_API_KEY\")\n",
        "  api_key_hf = os.getenv(\"HF\")\n",
        "  api_key_gemini = os.getenv(\"GEMINI\")"
      ],
      "metadata": {
        "id": "awmyPOiNGEDh"
      },
      "id": "awmyPOiNGEDh",
      "execution_count": 42,
      "outputs": []
    },
    {
      "cell_type": "markdown",
      "id": "7104a15a",
      "metadata": {
        "id": "7104a15a"
      },
      "source": [
        "### Schritt 04-02 – Open Source Embedding Modell Hugging Face\n",
        "logout() entfernt eventuell veraltete Hugging-Face-Tokens aus der lokalen Cache-Datei, damit nach einem fehlgeschlagenen Auth-Versuch keine 401-Fehler mehr auftreten.\n",
        "\n",
        "login(api_key_hf) hinterlegt anschließend deinen aktuellen API-Key, sodass der Transformer-Checkpoint später automatisch aus dem Hub geladen werden kann.\n",
        "\n",
        "Mit HuggingFaceEmbeddings(model_name=\"sentence-transformers/all-mpnet-base-v2\") erstellst du einen LangChain-Wrapper, der das Sentence-Transformer-Modell all-mpnet-base-v2 intern als Encoder nutzt.\n",
        "\n",
        "embed_documents([...]) feuert den Encoder auf jede Text-Chunk-Zeile aus final_chunks und liefert für jeden Chunk einen hochdimensionalen Vektor zurück – die Basis für semantische Suche oder Retrieval-Augmented-Generation.\n",
        "\n",
        "Der nachfolgende Codeabschnitt kann einige Minuten dauern und mit einer Warnung beginnen: Not logged in!\n",
        "WARNING:huggingface_hub._login:Not logged in!"
      ]
    },
    {
      "cell_type": "code",
      "execution_count": 43,
      "id": "b823d5d6",
      "metadata": {
        "id": "b823d5d6",
        "colab": {
          "base_uri": "https://localhost:8080/",
          "height": 405,
          "referenced_widgets": [
            "56f41be531bb4c9aa7d0388c5295cdc6",
            "bee5509f1354469e916630a628d05041",
            "5b0a620d9ae149a9b714a41e80f4f81e",
            "dd5045dc97b04dee8a2cb891a2e97c35",
            "f02756863d11410d95bf56a655c985ca",
            "d118f2c483af400e9a304c1673bd9ac5",
            "094e8bce8fed48dcbeff0b97ccebd18c",
            "21608762ce8d4755944cab0cfe2dedac",
            "aeb29e296f4e4519ae9991748bfb110f",
            "098236fce6a444da86a9902f1af4db5e",
            "2e5a24eb214744cbae5ee9fd2eb307b6",
            "ab5141b10474411d959c456dca917112",
            "dda3b8771fc845698c2966ec91bf020c",
            "afc993e4636e47cf96ea176d591f6543",
            "94af8576f31f4a74a2d03fae4865b11e",
            "e832ce81067d4d0c87c319c6d933b8ed",
            "f79a2e32c4344b45a4099145f4ee2dd6",
            "199b0fa2a5384f039c9e37607f24a0c7",
            "1ef62c58dfc84803abc07627477c426b",
            "37bc1038084f407b88199b810ecee99b",
            "c9867453d8e147889379aafe0090b3e5",
            "07a605c3336d4e409ee445134f630afe",
            "922a26fe9bfc476d8ee479b02310e73d",
            "62cac877be6b402a9827510dd7dcd309",
            "040ae2a7cf5d42d4a79bb257a0cf0f42",
            "5ea71dd4391d42df9cf87f3628123704",
            "7d9362fcf52046f68c725c2eaac18371",
            "32005a3151844541b57204a1a450bd36",
            "66b88e2c8bba4a2db0bc497c9c163c2b",
            "83bf0682e1d346dbae506e769545f7ca",
            "80257fbc3c214effb8520281e21bf78c",
            "d01be09cce1d4d6ba7d2698fb7830387",
            "87b58a9124de4e368e689c7bec06012f",
            "e91dab9559de4e87848dfd90241c6ac3",
            "643b5af30b20496fbb30ff71c6d748aa",
            "6b64eace839a4879ad343625d3c9dd09",
            "d5b0594a85644634979e501efe300598",
            "2ad1e5193b784982beff5ca04ed2a51d",
            "dd90fe0eca8741759ab27a6633e7d688",
            "32f4cc3033de42aabf41a34f6edf43d5",
            "43a25c9f286446b9831354bc5b40dd77",
            "b1c89876e876400da84f7c4e6398fdb7",
            "7832a085ae8045e68b482fdcd0552761",
            "c7646d2ff3784974bd00309b2a5a1381",
            "665de1639fd944259d76219ed9686046",
            "9f222091105642588d533988b992a5b8",
            "6759edba4f8c4d1c9557eb208b467d4b",
            "af0d2bdf204c416faec8db1b47eeca27",
            "0fe4120564ca4bbbb10f98ead2d72e3d",
            "e673286b9cdb4c60bc71dde541c1a886",
            "47c5434d44a04d8f8c9a5418b804679f",
            "ce9cb4f61c844b6c9b618a1072a65538",
            "172f9e6a2a564300a153a1b1580a27b1",
            "0a922954bd9a4854bde73c159c562d00",
            "372dd1536f9a4d7e826de4849f40bd10",
            "f05761398bd940a59d2d976de673bf79",
            "a06c5a9e029c45588f55600ff777df52",
            "43b75dc92c6c43709f1173f061a0f36f",
            "91acb995495448a8bbc7dfeb10242449",
            "aab810c23a554a51ba341c4acb6aa656",
            "7a7c68b8af78440dbdf6539407c1b851",
            "48e986cc25a445188fa67096850f62f7",
            "7ef47cb28385407db3b2bb2a42649016",
            "eab0464f6d9e40e8ae5eba5a5e6e26cd",
            "aa1cc5f29b844505abfbbe3fbc199338",
            "6743a770aeb2460c9d4c574f3f528bcb",
            "6f36a0b4193f490086b66dd60c894a9b",
            "b141b2e7124e4f2b9e370e341a0487d3",
            "75ba44f852274991bd9877bb5a93b0db",
            "b022e1ea46534cbca4d48a3272cef1e4",
            "6d0827370cd643fab8b976d5593a1ef3",
            "962a5689923047e8bb3b28e0b9947450",
            "3af4b04934254c05b934039f1f4f2600",
            "267904f5558b44c9891795232ffd61d8",
            "a487f39ef6e64e93a0586b438a5d8261",
            "87baac4de0784d82bce8804a58a36991",
            "00a9cc24006c415b9e624f4251160412",
            "28e5d73af27944028caf912443aaecd8",
            "f7482b8ad3c848cc8985050399014221",
            "85a02ad928bb44729bea40f765cd9c6b",
            "7fd2ecd191ea4fb892d600d60eb11949",
            "4290be4716a94af08452a925fe0c4a10",
            "0e87330d85ba4789ad078a2d583502f9",
            "99d0f62a419c4db0beea74db79261e50",
            "8f393e5a7b8344fab8bfd9bef7dee5f9",
            "0ea3ce36c01c44178ca8919601169fd9",
            "849d91e4d490431ebdf1b9fe829ac0ce",
            "61e14a97480c474483cdc58bee36533c",
            "7596c257582947b4a96ba7609ed84dd0",
            "70690608340e4034b69b336b16d5cc1e",
            "351872fd70a14a488326745270c377c3",
            "45e69bc4efbe4853828b1ec0b9806137",
            "b221d2b4d3eb4dc2898b5fb18d7c82b4",
            "a57aa328b7794485a9ad188452384355",
            "1ccc3af987344b3089eee3410a4ab5ce",
            "6fcc2386e0c540918ed8ca44a1dda161",
            "03007b41578042ac8b35904b2d85dc8b",
            "28e70309c44746908ecf62e85fce1266",
            "34fcd6a3b2254bb1baa1cf56746fb415",
            "d0ff8a76d7094293851e67a0b81630a8",
            "07a7d2688ae848c6b25893db4eaed186",
            "f2575b9b2344482faea46a974dd8715e",
            "41ee9f40473a44dc8bc8a6a444feb0b3",
            "c88175319a274bc483b46222600d311e",
            "37e68cc583bd485bbb333c24352a1351",
            "c5daf30934ff4e87a9131006d0d74717",
            "e2bd4b749be14b13812a66fd03cb2425",
            "2f81fa7d33b64ba88c0792ae0860f1cc",
            "a8f2d0d28ec14575b75577892d366f5e",
            "236a60b57f3f475fa2ca00e36cc0d79d",
            "d8fd128be4ba4f9e979258e3a01d71c2",
            "9dda2aee29fb491b9ee275e17fe656e1",
            "bd84b2339b1f4292becdb354d5e000cf",
            "1386c2f76a1247cb83ca29a19fd98d9f",
            "1c2ddc8c2923414fae57ad7394d9e83c",
            "751cfd46ecf540b1a0cd136e58f7db32",
            "89ad689a0fa54ec9a9fc8e0c3daedeb7",
            "4df72ae0e7b645359c5c6d4101ee32ad",
            "311e558b34b3464e8029e02c2a21a965",
            "b386a832fedd4cffa3192649760f3968",
            "a164767af4c84ebea6cacf7a0de8edb7"
          ]
        },
        "outputId": "eac8f003-cd18-4987-f897-d693053055b9"
      },
      "outputs": [
        {
          "output_type": "stream",
          "name": "stderr",
          "text": [
            "Not logged in!\n",
            "WARNING:huggingface_hub._login:Not logged in!\n"
          ]
        },
        {
          "output_type": "display_data",
          "data": {
            "text/plain": [
              "modules.json:   0%|          | 0.00/349 [00:00<?, ?B/s]"
            ],
            "application/vnd.jupyter.widget-view+json": {
              "version_major": 2,
              "version_minor": 0,
              "model_id": "56f41be531bb4c9aa7d0388c5295cdc6"
            }
          },
          "metadata": {}
        },
        {
          "output_type": "display_data",
          "data": {
            "text/plain": [
              "config_sentence_transformers.json:   0%|          | 0.00/116 [00:00<?, ?B/s]"
            ],
            "application/vnd.jupyter.widget-view+json": {
              "version_major": 2,
              "version_minor": 0,
              "model_id": "ab5141b10474411d959c456dca917112"
            }
          },
          "metadata": {}
        },
        {
          "output_type": "display_data",
          "data": {
            "text/plain": [
              "README.md:   0%|          | 0.00/10.4k [00:00<?, ?B/s]"
            ],
            "application/vnd.jupyter.widget-view+json": {
              "version_major": 2,
              "version_minor": 0,
              "model_id": "922a26fe9bfc476d8ee479b02310e73d"
            }
          },
          "metadata": {}
        },
        {
          "output_type": "display_data",
          "data": {
            "text/plain": [
              "sentence_bert_config.json:   0%|          | 0.00/53.0 [00:00<?, ?B/s]"
            ],
            "application/vnd.jupyter.widget-view+json": {
              "version_major": 2,
              "version_minor": 0,
              "model_id": "e91dab9559de4e87848dfd90241c6ac3"
            }
          },
          "metadata": {}
        },
        {
          "output_type": "display_data",
          "data": {
            "text/plain": [
              "config.json:   0%|          | 0.00/571 [00:00<?, ?B/s]"
            ],
            "application/vnd.jupyter.widget-view+json": {
              "version_major": 2,
              "version_minor": 0,
              "model_id": "665de1639fd944259d76219ed9686046"
            }
          },
          "metadata": {}
        },
        {
          "output_type": "display_data",
          "data": {
            "text/plain": [
              "model.safetensors:   0%|          | 0.00/438M [00:00<?, ?B/s]"
            ],
            "application/vnd.jupyter.widget-view+json": {
              "version_major": 2,
              "version_minor": 0,
              "model_id": "f05761398bd940a59d2d976de673bf79"
            }
          },
          "metadata": {}
        },
        {
          "output_type": "display_data",
          "data": {
            "text/plain": [
              "tokenizer_config.json:   0%|          | 0.00/363 [00:00<?, ?B/s]"
            ],
            "application/vnd.jupyter.widget-view+json": {
              "version_major": 2,
              "version_minor": 0,
              "model_id": "6f36a0b4193f490086b66dd60c894a9b"
            }
          },
          "metadata": {}
        },
        {
          "output_type": "display_data",
          "data": {
            "text/plain": [
              "vocab.txt:   0%|          | 0.00/232k [00:00<?, ?B/s]"
            ],
            "application/vnd.jupyter.widget-view+json": {
              "version_major": 2,
              "version_minor": 0,
              "model_id": "28e5d73af27944028caf912443aaecd8"
            }
          },
          "metadata": {}
        },
        {
          "output_type": "display_data",
          "data": {
            "text/plain": [
              "tokenizer.json:   0%|          | 0.00/466k [00:00<?, ?B/s]"
            ],
            "application/vnd.jupyter.widget-view+json": {
              "version_major": 2,
              "version_minor": 0,
              "model_id": "7596c257582947b4a96ba7609ed84dd0"
            }
          },
          "metadata": {}
        },
        {
          "output_type": "display_data",
          "data": {
            "text/plain": [
              "special_tokens_map.json:   0%|          | 0.00/239 [00:00<?, ?B/s]"
            ],
            "application/vnd.jupyter.widget-view+json": {
              "version_major": 2,
              "version_minor": 0,
              "model_id": "d0ff8a76d7094293851e67a0b81630a8"
            }
          },
          "metadata": {}
        },
        {
          "output_type": "display_data",
          "data": {
            "text/plain": [
              "config.json:   0%|          | 0.00/190 [00:00<?, ?B/s]"
            ],
            "application/vnd.jupyter.widget-view+json": {
              "version_major": 2,
              "version_minor": 0,
              "model_id": "d8fd128be4ba4f9e979258e3a01d71c2"
            }
          },
          "metadata": {}
        }
      ],
      "source": [
        "from huggingface_hub import logout, login\n",
        "logout()\n",
        "login(api_key_hf)\n",
        "\n",
        "embeddings_os = HuggingFaceEmbeddings(\n",
        "    model_name=\"sentence-transformers/all-mpnet-base-v2\"\n",
        ")\n",
        "\n",
        "hf_embeddings_os = embeddings_os.embed_documents([chunk.page_content for chunk in final_chunks])"
      ]
    },
    {
      "cell_type": "markdown",
      "id": "ca9b65e0",
      "metadata": {
        "id": "ca9b65e0"
      },
      "source": [
        "### Schritt 04-03 - Embeddings prüfen/anzeigen"
      ]
    },
    {
      "cell_type": "code",
      "execution_count": 44,
      "id": "1658202c",
      "metadata": {
        "colab": {
          "base_uri": "https://localhost:8080/"
        },
        "id": "1658202c",
        "outputId": "c9abd861-801a-484b-eab3-a6479be196a5"
      },
      "outputs": [
        {
          "output_type": "stream",
          "name": "stdout",
          "text": [
            "Länge des Embedding Vektors ist 768\n",
            "Das Embedding Objekt ist ein Array mit Anzahl Zeilen (Anzahl Chunks) X Vektorlänge 25 X 768\n"
          ]
        }
      ],
      "source": [
        "print(f\"Länge des Embedding Vektors ist {len(hf_embeddings_os[0])}\")\n",
        "print(f\"Das Embedding Objekt ist ein Array mit Anzahl Zeilen (Anzahl Chunks) X Vektorlänge {len(hf_embeddings_os)} X {len(hf_embeddings_os[0])}\")"
      ]
    },
    {
      "cell_type": "markdown",
      "id": "c4c59044",
      "metadata": {
        "id": "c4c59044"
      },
      "source": [
        "### Schritt 04-04 – OpenAI Embedding Modell\n",
        "Optionaler Schritt: zum Vergleich werden Embeddings mit OpenAI erzeugt."
      ]
    },
    {
      "cell_type": "code",
      "execution_count": 45,
      "id": "add40ae3",
      "metadata": {
        "id": "add40ae3"
      },
      "outputs": [],
      "source": [
        "embeddings = OpenAIEmbeddings(model=\"text-embedding-3-small\",\n",
        "                              openai_api_key=api_key_openai )\n",
        "\n",
        "openai_embeddings = embeddings.embed_documents([chunk.page_content for chunk in final_chunks])\n"
      ]
    },
    {
      "cell_type": "markdown",
      "id": "a68752e1",
      "metadata": {
        "id": "a68752e1"
      },
      "source": [
        "### Schritt 04-05 - Embeddings prüfen/anzeigen\n",
        "Optionaler Schritt für OpenAI.\n",
        "\n"
      ]
    },
    {
      "cell_type": "code",
      "execution_count": 47,
      "id": "65982672",
      "metadata": {
        "colab": {
          "base_uri": "https://localhost:8080/"
        },
        "id": "65982672",
        "outputId": "43fe80cc-1ae5-42bb-99eb-96f6cc9c9983"
      },
      "outputs": [
        {
          "output_type": "stream",
          "name": "stdout",
          "text": [
            "Länge des Embedding Vektors ist 1536\n",
            "Das Embedding Objekt ist ein Array mit Anzahl Zeilen (Anzahl Chunks) X Vektorlänge 25 X 1536\n"
          ]
        }
      ],
      "source": [
        "print(f\"Länge des Embedding Vektors ist {len(openai_embeddings[0])}\")\n",
        "print(f\"Das Embedding Objekt ist ein Array mit Anzahl Zeilen (Anzahl Chunks) X Vektorlänge {len(openai_embeddings)} X {len(openai_embeddings[0])}\")"
      ]
    },
    {
      "cell_type": "markdown",
      "id": "16b8ef48",
      "metadata": {
        "id": "16b8ef48"
      },
      "source": [
        "# 05 🗄️Vector Store – Mathe statt Magie rund um FAISS, DuckDB, PostgreSQL\n",
        "Speicherung der Vektoren in einer Datenbank (z.B. PostgreSQL pgvector, Qdrant, Chroma, Milvus, Oracle, etc) oder einem Vektroindex (z.B. FAISS \"Facebook AI Similarity Search\").\n",
        "Eine Datenbank kann neben den Vektoren auch die Nutzdaten speichern"
      ]
    },
    {
      "cell_type": "markdown",
      "id": "18cf0e50",
      "metadata": {
        "id": "18cf0e50"
      },
      "source": [
        "### Schritt 05-01 FAISS konfigurieren und Vektoren erzeugen\n",
        "faiss.IndexFlatIP(...) erzeugt zunächst einen flachen FAISS-Index, der rein das Skalarprodukt auswertet; die Vektordimension wird aus dem ersten Embedding abgeleitet.\n",
        "\n",
        "Der LangChain-Wrapper FAISS(...) verbindet diesen Index mit der Embedder-Funktion (embeddings_os), einem kleinen In-Memory-Docstore und einem leeren Mapping index_to_docstore_id, sodass jede gespeicherte Vektorposition wieder auf ihr Ursprungs-Document zurückgeführt werden kann.\n",
        "\n",
        "Mit distance_strategy=DistanceStrategy.COSINE teilt man LangChain mit, die Ähnlichkeit als Kosinus zu interpretieren – dafür sollten die Dokument-Vektoren vor dem Einfügen (automatisch oder manuell) auf Einheitslänge normiert werden, weil IndexFlatIP selbst nur das Dot-Product speichert.\n",
        "\n",
        "add_documents(final_chunks) lässt LangChain jeden Chunk einbetten, optional normalisieren und anschließend sowohl im FAISS-Index als auch im Docstore ablegen; damit ist der semantische Suchraum für spätere Queries vollständig eingerichtet.\n",
        "\n",
        "**Warum Docstore?**\n",
        "Für den reinen FAISS-Algorithmus brauchst du nur den Index – dort liegen die Vektor­koordinaten.\n",
        "Der docstore ist lediglich eine Komfortschicht von LangChain: Er merkt sich, welches Document (inkl. Metadata) zu welcher Index-Position gehört. Methoden wie similarity_search() oder as_retriever() holen darüber automatisch den Originaltext zurück.\n",
        "Verzichtest du auf den Docstore, musst du nach einer Vektorabfrage die Treffer-IDs selbst in ein externes Mapping auf deine Dokumente auflösen – oder gleich ganz ohne LangChain-Wrapper direkt mit FAISS arbeiten.\n",
        "\n",
        "**Warum normalize=tru?** wenn doch Cosinus ohne Normierung funktioniert? FAISS-Index IndexFlatIP kennt aber nur das reine Skalarprodukt (inner product) und berechnet beim Suchen keinerlei Normen. Damit sein Ergebnis dennoch exakt dem Cosinus entspricht, müssen alle Vektoren schon beim Einfügen auf Einheitslänge normalisiert werden\n"
      ]
    },
    {
      "cell_type": "code",
      "source": [
        "index = faiss.IndexFlatIP(len(hf_embeddings_os[0]))\n",
        "\n",
        "vector_store = FAISS(\n",
        "    embedding_function = embeddings_os,\n",
        "    index               = index,\n",
        "    docstore            = InMemoryDocstore(),\n",
        "    index_to_docstore_id= {},\n",
        "    normalize_L2=True,\n",
        "    distance_strategy   = DistanceStrategy.COSINE\n",
        ")\n",
        "\n",
        "vector_store.add_documents(final_chunks)"
      ],
      "metadata": {
        "colab": {
          "base_uri": "https://localhost:8080/"
        },
        "id": "RLRSHqi9DCDu",
        "outputId": "ae5a1755-64ae-4a41-884a-4e3fb02f3386"
      },
      "id": "RLRSHqi9DCDu",
      "execution_count": 52,
      "outputs": [
        {
          "output_type": "execute_result",
          "data": {
            "text/plain": [
              "['7889273b-7793-43b5-af82-5e05cb90d105',\n",
              " '73915ec8-2db4-47ef-af69-e6d3b62367f1',\n",
              " '9df5f63c-0280-4f31-b121-e16a844831e2',\n",
              " '00b14be4-1b2a-423c-bd8b-b347aca6c64a',\n",
              " 'ae3986a7-0172-421f-b394-84991c0a33a4',\n",
              " 'b383f130-565f-4a03-b00b-aafed951bd0a',\n",
              " '07aae5dc-b67e-46be-bad5-7f7fd2bd0d19',\n",
              " 'c6ad6417-4e54-47bb-bcb2-0a9d952464bb',\n",
              " '1a23abb4-d96e-4792-8f12-fe4d313f257a',\n",
              " '7ad67e5d-d51f-4649-b018-aeb80f4bd288',\n",
              " '008b08db-a9b1-4bcd-a288-e3ec6f776a95',\n",
              " '87b3ac83-e803-407f-8eed-5f74ba57ea2b',\n",
              " '3d23ad44-f756-4495-aa4e-749000c3a36f',\n",
              " 'f7096653-0ca0-40bc-95be-65d4eb339021',\n",
              " '7330014e-9c98-42ec-8b1c-ff71968e1d7b',\n",
              " '2e603e19-5971-4e72-97f4-1b30ddecf654',\n",
              " '99fdf03b-e534-4e3b-90ed-98c98ddd321b',\n",
              " '11f09e49-20ea-4e42-91ea-baf4df685850',\n",
              " 'd4e9b6fe-8b9e-4c34-bfa6-ddba7bfb7148',\n",
              " 'b5ffcb19-3e10-4702-9128-9f472e16ecec',\n",
              " '5e528909-42f6-4614-a3e5-691e4032ff19',\n",
              " 'f502d886-7f42-4712-8cf2-d5ba5c22a147',\n",
              " '8af34475-c277-4ad2-8be2-dac223be049c',\n",
              " '0990b1f8-40c3-4613-b70e-38d92f2d8357',\n",
              " '34f706d8-5cf2-4e73-988f-568358c93389']"
            ]
          },
          "metadata": {},
          "execution_count": 52
        }
      ]
    },
    {
      "cell_type": "markdown",
      "id": "bfc81964",
      "metadata": {
        "id": "bfc81964"
      },
      "source": [
        "### Schritt 05-02 - FAISS Index speichern\n",
        "Der eingebaute InMemoryDocstore lebt nur so lange wie der Python-Prozess; speicherst du lediglich den Roh-Index mit faiss.write_index, überdauern nur die Vektor­daten – die Texte sind danach weg.\n",
        "Nutzt du dagegen den LangChain-Wrapper und rufst vector_store.save_local(\"pfad\") auf, legt er zwei Dateien an: index.faiss für die Vektoren und docstore.pkl für Docs & Mapping. Beim nächsten Start kannst du alles mit FAISS.load_local(\"pfad\", embeddings) vollständig wiederherstellen, inklusive Docstore."
      ]
    },
    {
      "cell_type": "code",
      "execution_count": 54,
      "id": "d9cbd469",
      "metadata": {
        "id": "d9cbd469"
      },
      "outputs": [],
      "source": [
        "vector_store.save_local(folder_path=\"Data\",index_name=\"Wiki_index\")"
      ]
    },
    {
      "cell_type": "markdown",
      "id": "63c108f3",
      "metadata": {
        "id": "63c108f3"
      },
      "source": [
        "### Schritt 05-03 - Ähnlichkeitssuche im FAISS Index\n",
        "In der Vektordatenbank/Vektorindex wird eine Ähnlichkeitssuche durchgeführt und das ähnlichste Dokument wird angezeigt."
      ]
    },
    {
      "cell_type": "code",
      "execution_count": 53,
      "id": "d15a99bc",
      "metadata": {
        "colab": {
          "base_uri": "https://localhost:8080/"
        },
        "id": "d15a99bc",
        "outputId": "3d09c345-04f8-4998-b488-fc3407516d2c"
      },
      "outputs": [
        {
          "output_type": "stream",
          "name": "stdout",
          "text": [
            "RAG key stages \n",
            " [ edit ] \n",
            " \n",
            " \n",
            " Indexing \n",
            " [ edit ] \n",
            " \n",
            " Typically, the data to be referenced is converted into LLM  embeddings , numerical representations in the form of a large vector space. [ 8 ]  RAG can be used on unstructured (usually text), semi-structured, or structured data (for example  knowledge graphs ). [ 12 ]  These embeddings are then stored in a  vector database  to allow for  document retrieval . [ 13 ] \n",
            " \n",
            " Overview of RAG process, combining external documents and user input into an LLM prompt to get tailored output \n",
            " \n",
            " Retrieval \n",
            " [ edit ] \n",
            " \n",
            " Given a user query, a document retriever is first called to select the most relevant documents that will be used to augment the query. [ 2 ] [ 4 ]  This comparison can be done using a variety of methods, which depend in part on the type of indexing used. [ 1 ] [ 12 ] \n",
            " \n",
            " \n",
            " Augmentation \n",
            " [ edit ] \n",
            " \n",
            " The model feeds this relevant retrieved information into the LLM via  prompt engineering  of the user's original query. [ 10 ] [ 14 ]  Newer implementations (as of 2023 [update] ) can also incorporate specific augmentation modules with abilities such as expanding queries into multiple domains and using memory and self-improvement to learn from previous retrievals. [ 12 ] \n",
            " \n",
            " \n",
            " Generation \n",
            " [ edit ] \n",
            " \n",
            " Finally, the LLM can generate output based on both the query and the retrieved documents. [ 2 ] [ 15 ]  Some models incorporate extra steps to improve output, such as the re-ranking of retrieved information, context selection, and  fine-tuning . [ 12 ]\n"
          ]
        }
      ],
      "source": [
        "query = \"What are key stages?\"\n",
        "\n",
        "docs = vector_store.similarity_search(query)\n",
        "\n",
        "print(docs[0].page_content)"
      ]
    },
    {
      "cell_type": "markdown",
      "id": "002f43ab",
      "metadata": {
        "id": "002f43ab"
      },
      "source": [
        "### Schritt 05-04 DuckDB konfigurieren und Vektoren erzeugen\n",
        "DuckDB ist eine spaltenorientierte, in-process OLAP-Datenbank („SQLite für Analytics“). Sie läuft ohne Server, liest direkt Parquet/CSV/JSON, beschleunigt größere Abfragen dank Vektor-Ausführung und lässt sich nahtlos in Python, R oder C++ einbetten – ideal, wenn man analytische SQL-Power in einem einzigen Datei-Container benötigt.\n",
        "\n",
        "Der Code baut einen Vektor-Store auf DuckDB-Basis:\n",
        "* DuckDB.from_documents(...) bettet jeden Chunk mit embeddings_os ein und legt die resultierenden Vektoren samt Original-Text in einer neuen DuckDB-Tabelle ab.\n",
        "* connection sorgt dafür, dass alles sofort in eine Datei geschrieben wird und nach Kernel-Neustarts weiterverwendbar ist."
      ]
    },
    {
      "cell_type": "code",
      "execution_count": 75,
      "id": "8e88ccd2",
      "metadata": {
        "id": "8e88ccd2"
      },
      "outputs": [],
      "source": [
        "conn = duckdb.connect(\"Data/duckdb_vectors.duckdb\")\n",
        "\n",
        "vector_store_duckDB = DuckDB.from_documents(\n",
        "    documents = final_chunks,\n",
        "    embedding = embeddings_os,\n",
        "    connection = conn,\n",
        ")\n",
        "\n",
        "conn.close()"
      ]
    },
    {
      "cell_type": "markdown",
      "source": [
        "### Schritt 05-05 Tabelle in DuckDB anzeigen"
      ],
      "metadata": {
        "id": "wkTxycqcN1e9"
      },
      "id": "wkTxycqcN1e9"
    },
    {
      "cell_type": "markdown",
      "source": [
        "Die Nutzdaten (Texte + Metadaten) wandern zusammen mit den Vektoren in dieselbe .duckdb-Datei.\n",
        "LangChain legt dort intern eine Tabelle embeddings für Metadaten und Nutzdaten an. Diese wird nun mittels SQL abgefragt."
      ],
      "metadata": {
        "id": "HclqMdcuItJZ"
      },
      "id": "HclqMdcuItJZ"
    },
    {
      "cell_type": "code",
      "source": [
        "con = duckdb.connect(\"Data/duckdb_vectors.duckdb\")\n",
        "\n",
        "# Schema inspizieren\n",
        "print(con.execute(\"DESCRIBE embeddings\").fetchdf())\n",
        "\n",
        "# Erste Einträge ansehen\n",
        "df = con.execute(\"\"\"\n",
        "    SELECT id,\n",
        "           left(text, 60)   AS preview,\n",
        "           embedding,\n",
        "           metadata\n",
        "    FROM embeddings\n",
        "    LIMIT 3\n",
        "\"\"\").fetchdf()\n",
        "\n",
        "display(df)\n",
        "con.close()\n"
      ],
      "metadata": {
        "colab": {
          "base_uri": "https://localhost:8080/",
          "height": 287
        },
        "id": "SiKg5tkzIvRh",
        "outputId": "06e84a26-6ae7-43d1-d3ab-c034e1d7cc17"
      },
      "id": "SiKg5tkzIvRh",
      "execution_count": 78,
      "outputs": [
        {
          "output_type": "stream",
          "name": "stdout",
          "text": [
            "  column_name column_type null   key default extra\n",
            "0          id     VARCHAR   NO   PRI    None  None\n",
            "1        text     VARCHAR  YES  None    None  None\n",
            "2   embedding     FLOAT[]  YES  None    None  None\n",
            "3    metadata     VARCHAR  YES  None    None  None\n"
          ]
        },
        {
          "output_type": "display_data",
          "data": {
            "text/plain": [
              "                                     id  \\\n",
              "0  75e6ce45-09be-49b7-a464-84de3cc268da   \n",
              "1  f4dbbc3c-eaf5-421b-bbf4-438be0a21b3a   \n",
              "2  8fc5cd84-34fd-4bcb-a66e-fee26858d79b   \n",
              "\n",
              "                                             preview  \\\n",
              "0  Jump to content \\n \\n \\n \\n \\n \\n \\n \\n Main m...   \n",
              "1  Contents \\n move to sidebar \\n hide \\n \\n \\n \\...   \n",
              "2  Retrieval-augmented generation \\n \\n \\n \\n 12 ...   \n",
              "\n",
              "                                           embedding  \\\n",
              "0  [0.02118021, -0.06125822, -0.022656694, 0.0098...   \n",
              "1  [0.060398534, 0.011601106, -0.029227823, 0.037...   \n",
              "2  [0.071465515, -0.0012724106, -0.043260608, -0....   \n",
              "\n",
              "                                         metadata  \n",
              "0                         {\"Header 1\": \"#TITLE#\"}  \n",
              "1                        {\"Header 2\": \"Contents\"}  \n",
              "2  {\"Header 1\": \"Retrieval-augmented generation\"}  "
            ],
            "text/html": [
              "\n",
              "  <div id=\"df-cfd9c61e-bb97-4c15-b35e-111988c3bb17\" class=\"colab-df-container\">\n",
              "    <div>\n",
              "<style scoped>\n",
              "    .dataframe tbody tr th:only-of-type {\n",
              "        vertical-align: middle;\n",
              "    }\n",
              "\n",
              "    .dataframe tbody tr th {\n",
              "        vertical-align: top;\n",
              "    }\n",
              "\n",
              "    .dataframe thead th {\n",
              "        text-align: right;\n",
              "    }\n",
              "</style>\n",
              "<table border=\"1\" class=\"dataframe\">\n",
              "  <thead>\n",
              "    <tr style=\"text-align: right;\">\n",
              "      <th></th>\n",
              "      <th>id</th>\n",
              "      <th>preview</th>\n",
              "      <th>embedding</th>\n",
              "      <th>metadata</th>\n",
              "    </tr>\n",
              "  </thead>\n",
              "  <tbody>\n",
              "    <tr>\n",
              "      <th>0</th>\n",
              "      <td>75e6ce45-09be-49b7-a464-84de3cc268da</td>\n",
              "      <td>Jump to content \\n \\n \\n \\n \\n \\n \\n \\n Main m...</td>\n",
              "      <td>[0.02118021, -0.06125822, -0.022656694, 0.0098...</td>\n",
              "      <td>{\"Header 1\": \"#TITLE#\"}</td>\n",
              "    </tr>\n",
              "    <tr>\n",
              "      <th>1</th>\n",
              "      <td>f4dbbc3c-eaf5-421b-bbf4-438be0a21b3a</td>\n",
              "      <td>Contents \\n move to sidebar \\n hide \\n \\n \\n \\...</td>\n",
              "      <td>[0.060398534, 0.011601106, -0.029227823, 0.037...</td>\n",
              "      <td>{\"Header 2\": \"Contents\"}</td>\n",
              "    </tr>\n",
              "    <tr>\n",
              "      <th>2</th>\n",
              "      <td>8fc5cd84-34fd-4bcb-a66e-fee26858d79b</td>\n",
              "      <td>Retrieval-augmented generation \\n \\n \\n \\n 12 ...</td>\n",
              "      <td>[0.071465515, -0.0012724106, -0.043260608, -0....</td>\n",
              "      <td>{\"Header 1\": \"Retrieval-augmented generation\"}</td>\n",
              "    </tr>\n",
              "  </tbody>\n",
              "</table>\n",
              "</div>\n",
              "    <div class=\"colab-df-buttons\">\n",
              "\n",
              "  <div class=\"colab-df-container\">\n",
              "    <button class=\"colab-df-convert\" onclick=\"convertToInteractive('df-cfd9c61e-bb97-4c15-b35e-111988c3bb17')\"\n",
              "            title=\"Convert this dataframe to an interactive table.\"\n",
              "            style=\"display:none;\">\n",
              "\n",
              "  <svg xmlns=\"http://www.w3.org/2000/svg\" height=\"24px\" viewBox=\"0 -960 960 960\">\n",
              "    <path d=\"M120-120v-720h720v720H120Zm60-500h600v-160H180v160Zm220 220h160v-160H400v160Zm0 220h160v-160H400v160ZM180-400h160v-160H180v160Zm440 0h160v-160H620v160ZM180-180h160v-160H180v160Zm440 0h160v-160H620v160Z\"/>\n",
              "  </svg>\n",
              "    </button>\n",
              "\n",
              "  <style>\n",
              "    .colab-df-container {\n",
              "      display:flex;\n",
              "      gap: 12px;\n",
              "    }\n",
              "\n",
              "    .colab-df-convert {\n",
              "      background-color: #E8F0FE;\n",
              "      border: none;\n",
              "      border-radius: 50%;\n",
              "      cursor: pointer;\n",
              "      display: none;\n",
              "      fill: #1967D2;\n",
              "      height: 32px;\n",
              "      padding: 0 0 0 0;\n",
              "      width: 32px;\n",
              "    }\n",
              "\n",
              "    .colab-df-convert:hover {\n",
              "      background-color: #E2EBFA;\n",
              "      box-shadow: 0px 1px 2px rgba(60, 64, 67, 0.3), 0px 1px 3px 1px rgba(60, 64, 67, 0.15);\n",
              "      fill: #174EA6;\n",
              "    }\n",
              "\n",
              "    .colab-df-buttons div {\n",
              "      margin-bottom: 4px;\n",
              "    }\n",
              "\n",
              "    [theme=dark] .colab-df-convert {\n",
              "      background-color: #3B4455;\n",
              "      fill: #D2E3FC;\n",
              "    }\n",
              "\n",
              "    [theme=dark] .colab-df-convert:hover {\n",
              "      background-color: #434B5C;\n",
              "      box-shadow: 0px 1px 3px 1px rgba(0, 0, 0, 0.15);\n",
              "      filter: drop-shadow(0px 1px 2px rgba(0, 0, 0, 0.3));\n",
              "      fill: #FFFFFF;\n",
              "    }\n",
              "  </style>\n",
              "\n",
              "    <script>\n",
              "      const buttonEl =\n",
              "        document.querySelector('#df-cfd9c61e-bb97-4c15-b35e-111988c3bb17 button.colab-df-convert');\n",
              "      buttonEl.style.display =\n",
              "        google.colab.kernel.accessAllowed ? 'block' : 'none';\n",
              "\n",
              "      async function convertToInteractive(key) {\n",
              "        const element = document.querySelector('#df-cfd9c61e-bb97-4c15-b35e-111988c3bb17');\n",
              "        const dataTable =\n",
              "          await google.colab.kernel.invokeFunction('convertToInteractive',\n",
              "                                                    [key], {});\n",
              "        if (!dataTable) return;\n",
              "\n",
              "        const docLinkHtml = 'Like what you see? Visit the ' +\n",
              "          '<a target=\"_blank\" href=https://colab.research.google.com/notebooks/data_table.ipynb>data table notebook</a>'\n",
              "          + ' to learn more about interactive tables.';\n",
              "        element.innerHTML = '';\n",
              "        dataTable['output_type'] = 'display_data';\n",
              "        await google.colab.output.renderOutput(dataTable, element);\n",
              "        const docLink = document.createElement('div');\n",
              "        docLink.innerHTML = docLinkHtml;\n",
              "        element.appendChild(docLink);\n",
              "      }\n",
              "    </script>\n",
              "  </div>\n",
              "\n",
              "\n",
              "    <div id=\"df-81ad317e-26ee-4ca8-942b-15a4331220fc\">\n",
              "      <button class=\"colab-df-quickchart\" onclick=\"quickchart('df-81ad317e-26ee-4ca8-942b-15a4331220fc')\"\n",
              "                title=\"Suggest charts\"\n",
              "                style=\"display:none;\">\n",
              "\n",
              "<svg xmlns=\"http://www.w3.org/2000/svg\" height=\"24px\"viewBox=\"0 0 24 24\"\n",
              "     width=\"24px\">\n",
              "    <g>\n",
              "        <path d=\"M19 3H5c-1.1 0-2 .9-2 2v14c0 1.1.9 2 2 2h14c1.1 0 2-.9 2-2V5c0-1.1-.9-2-2-2zM9 17H7v-7h2v7zm4 0h-2V7h2v10zm4 0h-2v-4h2v4z\"/>\n",
              "    </g>\n",
              "</svg>\n",
              "      </button>\n",
              "\n",
              "<style>\n",
              "  .colab-df-quickchart {\n",
              "      --bg-color: #E8F0FE;\n",
              "      --fill-color: #1967D2;\n",
              "      --hover-bg-color: #E2EBFA;\n",
              "      --hover-fill-color: #174EA6;\n",
              "      --disabled-fill-color: #AAA;\n",
              "      --disabled-bg-color: #DDD;\n",
              "  }\n",
              "\n",
              "  [theme=dark] .colab-df-quickchart {\n",
              "      --bg-color: #3B4455;\n",
              "      --fill-color: #D2E3FC;\n",
              "      --hover-bg-color: #434B5C;\n",
              "      --hover-fill-color: #FFFFFF;\n",
              "      --disabled-bg-color: #3B4455;\n",
              "      --disabled-fill-color: #666;\n",
              "  }\n",
              "\n",
              "  .colab-df-quickchart {\n",
              "    background-color: var(--bg-color);\n",
              "    border: none;\n",
              "    border-radius: 50%;\n",
              "    cursor: pointer;\n",
              "    display: none;\n",
              "    fill: var(--fill-color);\n",
              "    height: 32px;\n",
              "    padding: 0;\n",
              "    width: 32px;\n",
              "  }\n",
              "\n",
              "  .colab-df-quickchart:hover {\n",
              "    background-color: var(--hover-bg-color);\n",
              "    box-shadow: 0 1px 2px rgba(60, 64, 67, 0.3), 0 1px 3px 1px rgba(60, 64, 67, 0.15);\n",
              "    fill: var(--button-hover-fill-color);\n",
              "  }\n",
              "\n",
              "  .colab-df-quickchart-complete:disabled,\n",
              "  .colab-df-quickchart-complete:disabled:hover {\n",
              "    background-color: var(--disabled-bg-color);\n",
              "    fill: var(--disabled-fill-color);\n",
              "    box-shadow: none;\n",
              "  }\n",
              "\n",
              "  .colab-df-spinner {\n",
              "    border: 2px solid var(--fill-color);\n",
              "    border-color: transparent;\n",
              "    border-bottom-color: var(--fill-color);\n",
              "    animation:\n",
              "      spin 1s steps(1) infinite;\n",
              "  }\n",
              "\n",
              "  @keyframes spin {\n",
              "    0% {\n",
              "      border-color: transparent;\n",
              "      border-bottom-color: var(--fill-color);\n",
              "      border-left-color: var(--fill-color);\n",
              "    }\n",
              "    20% {\n",
              "      border-color: transparent;\n",
              "      border-left-color: var(--fill-color);\n",
              "      border-top-color: var(--fill-color);\n",
              "    }\n",
              "    30% {\n",
              "      border-color: transparent;\n",
              "      border-left-color: var(--fill-color);\n",
              "      border-top-color: var(--fill-color);\n",
              "      border-right-color: var(--fill-color);\n",
              "    }\n",
              "    40% {\n",
              "      border-color: transparent;\n",
              "      border-right-color: var(--fill-color);\n",
              "      border-top-color: var(--fill-color);\n",
              "    }\n",
              "    60% {\n",
              "      border-color: transparent;\n",
              "      border-right-color: var(--fill-color);\n",
              "    }\n",
              "    80% {\n",
              "      border-color: transparent;\n",
              "      border-right-color: var(--fill-color);\n",
              "      border-bottom-color: var(--fill-color);\n",
              "    }\n",
              "    90% {\n",
              "      border-color: transparent;\n",
              "      border-bottom-color: var(--fill-color);\n",
              "    }\n",
              "  }\n",
              "</style>\n",
              "\n",
              "      <script>\n",
              "        async function quickchart(key) {\n",
              "          const quickchartButtonEl =\n",
              "            document.querySelector('#' + key + ' button');\n",
              "          quickchartButtonEl.disabled = true;  // To prevent multiple clicks.\n",
              "          quickchartButtonEl.classList.add('colab-df-spinner');\n",
              "          try {\n",
              "            const charts = await google.colab.kernel.invokeFunction(\n",
              "                'suggestCharts', [key], {});\n",
              "          } catch (error) {\n",
              "            console.error('Error during call to suggestCharts:', error);\n",
              "          }\n",
              "          quickchartButtonEl.classList.remove('colab-df-spinner');\n",
              "          quickchartButtonEl.classList.add('colab-df-quickchart-complete');\n",
              "        }\n",
              "        (() => {\n",
              "          let quickchartButtonEl =\n",
              "            document.querySelector('#df-81ad317e-26ee-4ca8-942b-15a4331220fc button');\n",
              "          quickchartButtonEl.style.display =\n",
              "            google.colab.kernel.accessAllowed ? 'block' : 'none';\n",
              "        })();\n",
              "      </script>\n",
              "    </div>\n",
              "\n",
              "  <div id=\"id_087ac195-2d2a-438e-ac29-337bbbad45a1\">\n",
              "    <style>\n",
              "      .colab-df-generate {\n",
              "        background-color: #E8F0FE;\n",
              "        border: none;\n",
              "        border-radius: 50%;\n",
              "        cursor: pointer;\n",
              "        display: none;\n",
              "        fill: #1967D2;\n",
              "        height: 32px;\n",
              "        padding: 0 0 0 0;\n",
              "        width: 32px;\n",
              "      }\n",
              "\n",
              "      .colab-df-generate:hover {\n",
              "        background-color: #E2EBFA;\n",
              "        box-shadow: 0px 1px 2px rgba(60, 64, 67, 0.3), 0px 1px 3px 1px rgba(60, 64, 67, 0.15);\n",
              "        fill: #174EA6;\n",
              "      }\n",
              "\n",
              "      [theme=dark] .colab-df-generate {\n",
              "        background-color: #3B4455;\n",
              "        fill: #D2E3FC;\n",
              "      }\n",
              "\n",
              "      [theme=dark] .colab-df-generate:hover {\n",
              "        background-color: #434B5C;\n",
              "        box-shadow: 0px 1px 3px 1px rgba(0, 0, 0, 0.15);\n",
              "        filter: drop-shadow(0px 1px 2px rgba(0, 0, 0, 0.3));\n",
              "        fill: #FFFFFF;\n",
              "      }\n",
              "    </style>\n",
              "    <button class=\"colab-df-generate\" onclick=\"generateWithVariable('df')\"\n",
              "            title=\"Generate code using this dataframe.\"\n",
              "            style=\"display:none;\">\n",
              "\n",
              "  <svg xmlns=\"http://www.w3.org/2000/svg\" height=\"24px\"viewBox=\"0 0 24 24\"\n",
              "       width=\"24px\">\n",
              "    <path d=\"M7,19H8.4L18.45,9,17,7.55,7,17.6ZM5,21V16.75L18.45,3.32a2,2,0,0,1,2.83,0l1.4,1.43a1.91,1.91,0,0,1,.58,1.4,1.91,1.91,0,0,1-.58,1.4L9.25,21ZM18.45,9,17,7.55Zm-12,3A5.31,5.31,0,0,0,4.9,8.1,5.31,5.31,0,0,0,1,6.5,5.31,5.31,0,0,0,4.9,4.9,5.31,5.31,0,0,0,6.5,1,5.31,5.31,0,0,0,8.1,4.9,5.31,5.31,0,0,0,12,6.5,5.46,5.46,0,0,0,6.5,12Z\"/>\n",
              "  </svg>\n",
              "    </button>\n",
              "    <script>\n",
              "      (() => {\n",
              "      const buttonEl =\n",
              "        document.querySelector('#id_087ac195-2d2a-438e-ac29-337bbbad45a1 button.colab-df-generate');\n",
              "      buttonEl.style.display =\n",
              "        google.colab.kernel.accessAllowed ? 'block' : 'none';\n",
              "\n",
              "      buttonEl.onclick = () => {\n",
              "        google.colab.notebook.generateWithVariable('df');\n",
              "      }\n",
              "      })();\n",
              "    </script>\n",
              "  </div>\n",
              "\n",
              "    </div>\n",
              "  </div>\n"
            ],
            "application/vnd.google.colaboratory.intrinsic+json": {
              "type": "dataframe",
              "variable_name": "df",
              "summary": "{\n  \"name\": \"df\",\n  \"rows\": 3,\n  \"fields\": [\n    {\n      \"column\": \"id\",\n      \"properties\": {\n        \"dtype\": \"string\",\n        \"num_unique_values\": 3,\n        \"samples\": [\n          \"75e6ce45-09be-49b7-a464-84de3cc268da\",\n          \"f4dbbc3c-eaf5-421b-bbf4-438be0a21b3a\",\n          \"8fc5cd84-34fd-4bcb-a66e-fee26858d79b\"\n        ],\n        \"semantic_type\": \"\",\n        \"description\": \"\"\n      }\n    },\n    {\n      \"column\": \"preview\",\n      \"properties\": {\n        \"dtype\": \"string\",\n        \"num_unique_values\": 3,\n        \"samples\": [\n          \"Jump to content \\n \\n \\n \\n \\n \\n \\n \\n Main menu \\n \\n \\n \\n \\n \\n Main m\",\n          \"Contents \\n move to sidebar \\n hide \\n \\n \\n \\n \\n (Top) \\n \\n \\n \\n \\n \",\n          \"Retrieval-augmented generation \\n \\n \\n \\n 12 languages \\n \\n \\n \\n \"\n        ],\n        \"semantic_type\": \"\",\n        \"description\": \"\"\n      }\n    },\n    {\n      \"column\": \"embedding\",\n      \"properties\": {\n        \"dtype\": \"object\",\n        \"semantic_type\": \"\",\n        \"description\": \"\"\n      }\n    },\n    {\n      \"column\": \"metadata\",\n      \"properties\": {\n        \"dtype\": \"string\",\n        \"num_unique_values\": 3,\n        \"samples\": [\n          \"{\\\"Header 1\\\": \\\"#TITLE#\\\"}\",\n          \"{\\\"Header 2\\\": \\\"Contents\\\"}\",\n          \"{\\\"Header 1\\\": \\\"Retrieval-augmented generation\\\"}\"\n        ],\n        \"semantic_type\": \"\",\n        \"description\": \"\"\n      }\n    }\n  ]\n}"
            }
          },
          "metadata": {}
        }
      ]
    },
    {
      "cell_type": "markdown",
      "id": "0cbc99e0",
      "metadata": {
        "id": "0cbc99e0"
      },
      "source": [
        "### Schritt 05-06 - Ähnlichkeitssuche in DuckDB\n",
        "Der Code umgeht die fehlende similarity_search_with_relevance_scores()-Methode des DuckDB-Vector-Stores, indem er die Relevanzwerte nachträglich selbst ausrechnet.\n",
        "* Zuerst wird der Abfrage­text mit embeddings_os.embed_query() in einen Vektor übersetzt (query_embedding).\n",
        "* vector_store_duckDB.similarity_search(query, k=3) liefert die drei textlich ähnlichsten Chunks, aber ohne Score.\n",
        "* Für jeden Treffer wird erneut ein Embedding erzeugt (doc_embedding) und per cosine_similarity() aus scikit-learn der Kosinus-Wert zwischen Query- und Dokumentvektor berechnet.\n",
        "* Die Schleife druckt schließlich pro Ergebnis den berechneten Ähnlichkeitswert sowie den zugehörigen Inhalt.\n",
        "Damit erhältst du nachträglich verlässliche Relevanz-Scores, zahlst aber den Preis, die Dokument-Vektoren ein zweites Mal zu berechnen."
      ]
    },
    {
      "cell_type": "code",
      "execution_count": 82,
      "id": "affb777e",
      "metadata": {
        "colab": {
          "base_uri": "https://localhost:8080/"
        },
        "collapsed": true,
        "id": "affb777e",
        "outputId": "5f45a385-1119-466d-ebd1-21eadc199649"
      },
      "outputs": [
        {
          "output_type": "stream",
          "name": "stdout",
          "text": [
            "\n",
            "Ergebnis #1\n",
            "Ähnlichkeit (similarity): 0.2145\n",
            "Inhalt:\n",
            "RAG key stages \n",
            " [ edit ] \n",
            " \n",
            " \n",
            " Indexing \n",
            " [ edit ] \n",
            " \n",
            " Typically, the data to be referenced is converted into LLM  embeddings , numerical representations in the form of a large vector space. [ 8 ]  RAG can be used on unstructured (usually text), semi-structured, or structured data (for example  knowledge graphs ). [ 12 ]  These embeddings are then stored in a  vector database  to allow for  document retrieval . [ 13 ] \n",
            " \n",
            " Overview of RAG process, combining external documents and user input into an LLM prompt to get tailored output \n",
            " \n",
            " Retrieval \n",
            " [ edit ] \n",
            " \n",
            " Given a user query, a document retriever is first called to select the most relevant documents that will be used to augment the query. [ 2 ] [ 4 ]  This comparison can be done using a variety of methods, which depend in part on the type of indexing used. [ 1 ] [ 12 ] \n",
            " \n",
            " \n",
            " Augmentation \n",
            " [ edit ] \n",
            " \n",
            " The model feeds this relevant retrieved information into the LLM via  prompt engineering  of the user's original query. [ 10 ] [ 14 ]  Newer implementations (as of 2023 [update] ) can also incorporate specific augmentation modules with abilities such as expanding queries into multiple domains and using memory and self-improvement to learn from previous retrievals. [ 12 ] \n",
            " \n",
            " \n",
            " Generation \n",
            " [ edit ] \n",
            " \n",
            " Finally, the LLM can generate output based on both the query and the retrieved documents. [ 2 ] [ 15 ]  Some models incorporate extra steps to improve output, such as the re-ranking of retrieved information, context selection, and  fine-tuning . [ 12 ]\n",
            "\n",
            "Ergebnis #2\n",
            "Ähnlichkeit (similarity): 0.1851\n",
            "Inhalt:\n",
            "Code of Conduct \n",
            " Developers \n",
            " Statistics \n",
            " Cookie statement \n",
            " Mobile view \n",
            " \n",
            " \n",
            " \n",
            " \n",
            " \n",
            " \n",
            " \n",
            " \n",
            " \n",
            " \n",
            " \n",
            " \n",
            " \n",
            " \n",
            " Search \n",
            " \n",
            " \n",
            " \n",
            " \n",
            " \n",
            " \n",
            " \n",
            " \n",
            " \n",
            " \n",
            " \n",
            " \n",
            " \n",
            " Search \n",
            " \n",
            " \n",
            " \n",
            " \n",
            " \n",
            " \n",
            " \n",
            " \n",
            " \n",
            " Toggle the table of contents \n",
            " \n",
            " \n",
            " \n",
            " \n",
            " \n",
            " \n",
            " \n",
            " Retrieval-augmented generation \n",
            " \n",
            " \n",
            " \n",
            " \n",
            " \n",
            " \n",
            " \n",
            " \n",
            " \n",
            " \n",
            " \n",
            " \n",
            " \n",
            " \n",
            " \n",
            " \n",
            " \n",
            " \n",
            " \n",
            " \n",
            " \n",
            " \n",
            " \n",
            " \n",
            " \n",
            " \n",
            " \n",
            " \n",
            " 12 languages \n",
            " \n",
            " \n",
            " Add topic \n",
            " \n",
            " \n",
            " \n",
            " \n",
            " \n",
            " \n",
            " \n",
            " \n",
            " \n",
            " \n",
            " \n",
            " \n",
            " \n",
            " (RLQ=window.RLQ||[]).push(function(){mw.config.set({\"wgHostname\":\"mw-web.eqiad.main-5dc9b748d7-q7lcw\",\"wgBackendResponseTime\":166,\"wgPageParseReport\":{\"limitreport\":{\"cputime\":\"0.491\",\"walltime\":\"0.615\",\"ppvisitednodes\":{\"value\":3004,\"limit\":1000000},\"revisionsize\":{\"value\":23512,\"limit\":2097152},\"postexpandincludesize\":{\"value\":140053,\"limit\":2097152},\"templateargumentsize\":{\"value\":4768,\"limit\":2097152},\"expansiondepth\":{\"value\":15,\"limit\":100},\"expensivefunctioncount\":{\"value\":6,\"limit\":500},\"unstrip-depth\":{\"value\":1,\"limit\":20},\"unstrip-size\":{\"value\":117341,\"limit\":5000000},\"entityaccesscount\":{\"value\":0,\"limit\":500},\"timingprofile\":[\"100.00%  502.104      1 -total\",\" 45.41%  228.012      1 Template:Reflist\",\" 20.30%  101.914      4 Template:Navbox\",\" 18.07%   90.730      1 Template:Generative_AI\",\" 16.58%   83.246     19 Template:Cite_web\",\" 15.31%   76.894      2 Template:Cite_arXiv\",\" 10.94%   54.931      1 Template:Short_description\",\" 10.31%   51.787      2 Template:Ambox\",\"  8.47%   42.507      1 Template:Original_research\",\"  6.52%   32.736      2 Template:Pagetype\"]},\"scribunto\":{\"limitreport-timeusage\":{\"value\":\"0.301\",\"limit\":\"10.000\"},\"limitreport-memusage\":{\"value\":7002946,\"limit\":52428800}},\"cachereport\":{\"origin\":\"mw-web.eqiad.main-5dc9b748d7-qqgfd\",\"timestamp\":\"20250619233709\",\"ttl\":2592000,\"transientcontent\":false}}});}); \n",
            " {\"@context\":\"https:\\/\\/schema.org\",\"@type\":\"Article\",\"name\":\"Retrieval-augmented generation\",\"url\":\"https:\\/\\/en.wikipedia.org\\/wiki\\/Retrieval-augmented_generation\",\"sameAs\":\"http:\\/\\/www.wikidata.org\\/entity\\/Q121362277\",\"mainEntity\":\"http:\\/\\/www.wikidata.org\\/entity\\/Q121362277\",\"author\":{\"@type\":\"Organization\",\"name\":\"Contributors to Wikimedia projects\"},\"publisher\":{\"@type\":\"Organization\",\"name\":\"Wikimedia Foundation, Inc.\",\"logo\":{\"@type\":\"ImageObject\",\"url\":\"https:\\/\\/www.wikimedia.org\\/static\\/images\\/wmf-hor-googpub.png\"}},\"datePublished\":\"2023-11-05T13:19:20Z\",\"dateModified\":\"2025-06-02T17:44:13Z\",\"headline\":\"language generation model\"}\n",
            "\n",
            "Ergebnis #3\n",
            "Ähnlichkeit (similarity): 0.1520\n",
            "Inhalt:\n",
            "This section  possibly contains  original research . This section includes uncited claims and arXiv preprints, making it original research under WP:OR and WP:V without reliable sources.  Please  improve it  by  verifying  the claims made and adding  inline citations . Statements consisting only of original research should be removed.   ( March 2025 )  ( Learn how and when to remove this message ) \n",
            " \n",
            " \n",
            " Improvements to the basic process above can be applied at different stages in the RAG flow.\n"
          ]
        }
      ],
      "source": [
        "conn = duckdb.connect(\"Data/duckdb_vectors.duckdb\")\n",
        "vector_store_duckDB = DuckDB(connection=conn,\n",
        "                             embedding=embeddings_os)\n",
        "# Embedding erstellen\n",
        "query_embedding = embeddings_os.embed_query(query)\n",
        "\n",
        "# top-k Dokumente/Chunks abrufen\n",
        "docs = vector_store_duckDB.similarity_search(query, k=3)\n",
        "\n",
        "# Ähnlichkeitsmaß manuell berechnen\n",
        "for i, doc in enumerate(docs):\n",
        "    doc_embedding = embeddings_os.embed_query(doc.page_content)\n",
        "    similarity = cosine_similarity(\n",
        "        np.array(query_embedding).reshape(1, -1),\n",
        "        np.array(doc_embedding).reshape(1, -1)\n",
        "    )[0][0]\n",
        "\n",
        "    print(f\"\\nErgebnis #{i+1}\")\n",
        "    print(f\"Ähnlichkeit (similarity): {similarity:.4f}\")\n",
        "    print(f\"Inhalt:\\n{doc.page_content}\")\n",
        "\n",
        "con.close()"
      ]
    },
    {
      "cell_type": "markdown",
      "id": "e7cde940",
      "metadata": {
        "id": "e7cde940"
      },
      "source": [
        "# 06 🌀Prompt pimpen – Quellen smart einbauen\n",
        "Der Prompt wird angereichert mit dem Inhalt der Ähnlichkeitssuche."
      ]
    },
    {
      "cell_type": "markdown",
      "source": [
        "### Schritt 06-01 - Daten für Prompt abfragen (aus Vektorfdatenbank/index holen)"
      ],
      "metadata": {
        "id": "826QQ-MXSMLH"
      },
      "id": "826QQ-MXSMLH"
    },
    {
      "cell_type": "code",
      "source": [
        "# Abfrage definieren\n",
        "query = \"What are key stages?\"\n",
        "\n",
        "# Ähnlichkeitssuche durchführen\n",
        "retrieved_docs = vector_store_duckDB.similarity_search(query, k=2)  # Top-2 Chunks erhalten\n",
        "\n",
        "# Ergebnisse anzeigen\n",
        "\n",
        "import textwrap\n",
        "\n",
        "for i, doc in enumerate(retrieved_docs):\n",
        "    print(textwrap.fill(f\"\\nRetrieved Chunk {i+1}:\\n{doc.page_content}\",width=100))\n",
        "    print(\"\\n\\n\")"
      ],
      "metadata": {
        "colab": {
          "base_uri": "https://localhost:8080/"
        },
        "id": "swUFbIH3vdFB",
        "outputId": "bfa70d30-5dd9-4e4b-9612-00ea0cdc8040"
      },
      "id": "swUFbIH3vdFB",
      "execution_count": 83,
      "outputs": [
        {
          "output_type": "stream",
          "name": "stdout",
          "text": [
            " Retrieved Chunk 1: RAG key stages   [ edit ]       Indexing   [ edit ]     Typically, the data to\n",
            "be referenced is converted into LLM  embeddings , numerical representations in the form of a large\n",
            "vector space. [ 8 ]  RAG can be used on unstructured (usually text), semi-structured, or structured\n",
            "data (for example  knowledge graphs ). [ 12 ]  These embeddings are then stored in a  vector\n",
            "database  to allow for  document retrieval . [ 13 ]     Overview of RAG process, combining external\n",
            "documents and user input into an LLM prompt to get tailored output     Retrieval   [ edit ]\n",
            "Given a user query, a document retriever is first called to select the most relevant documents that\n",
            "will be used to augment the query. [ 2 ] [ 4 ]  This comparison can be done using a variety of\n",
            "methods, which depend in part on the type of indexing used. [ 1 ] [ 12 ]       Augmentation   [ edit\n",
            "]     The model feeds this relevant retrieved information into the LLM via  prompt engineering  of\n",
            "the user's original query. [ 10 ] [ 14 ]  Newer implementations (as of 2023 [update] ) can also\n",
            "incorporate specific augmentation modules with abilities such as expanding queries into multiple\n",
            "domains and using memory and self-improvement to learn from previous retrievals. [ 12 ]\n",
            "Generation   [ edit ]     Finally, the LLM can generate output based on both the query and the\n",
            "retrieved documents. [ 2 ] [ 15 ]  Some models incorporate extra steps to improve output, such as\n",
            "the re-ranking of retrieved information, context selection, and  fine-tuning . [ 12 ]\n",
            "\n",
            "\n",
            "\n",
            " Retrieved Chunk 2: Code of Conduct   Developers   Statistics   Cookie statement   Mobile view\n",
            "Search                             Search                     Toggle the table of contents\n",
            "Retrieval-augmented generation                                                           12\n",
            "languages       Add topic\n",
            "(RLQ=window.RLQ||[]).push(function(){mw.config.set({\"wgHostname\":\"mw-web.eqiad.main-5dc9b748d7-\n",
            "q7lcw\",\"wgBackendResponseTime\":166,\"wgPageParseReport\":{\"limitreport\":{\"cputime\":\"0.491\",\"walltime\":\n",
            "\"0.615\",\"ppvisitednodes\":{\"value\":3004,\"limit\":1000000},\"revisionsize\":{\"value\":23512,\"limit\":209715\n",
            "2},\"postexpandincludesize\":{\"value\":140053,\"limit\":2097152},\"templateargumentsize\":{\"value\":4768,\"li\n",
            "mit\":2097152},\"expansiondepth\":{\"value\":15,\"limit\":100},\"expensivefunctioncount\":{\"value\":6,\"limit\":\n",
            "500},\"unstrip-depth\":{\"value\":1,\"limit\":20},\"unstrip-size\":{\"value\":117341,\"limit\":5000000},\"entitya\n",
            "ccesscount\":{\"value\":0,\"limit\":500},\"timingprofile\":[\"100.00%  502.104      1 -total\",\" 45.41%\n",
            "228.012      1 Template:Reflist\",\" 20.30%  101.914      4 Template:Navbox\",\" 18.07%   90.730      1\n",
            "Template:Generative_AI\",\" 16.58%   83.246     19 Template:Cite_web\",\" 15.31%   76.894      2\n",
            "Template:Cite_arXiv\",\" 10.94%   54.931      1 Template:Short_description\",\" 10.31%   51.787      2\n",
            "Template:Ambox\",\"  8.47%   42.507      1 Template:Original_research\",\"  6.52%   32.736      2\n",
            "Template:Pagetype\"]},\"scribunto\":{\"limitreport-\n",
            "timeusage\":{\"value\":\"0.301\",\"limit\":\"10.000\"},\"limitreport-\n",
            "memusage\":{\"value\":7002946,\"limit\":52428800}},\"cachereport\":{\"origin\":\"mw-web.eqiad.main-5dc9b748d7-\n",
            "qqgfd\",\"timestamp\":\"20250619233709\",\"ttl\":2592000,\"transientcontent\":false}}});});\n",
            "{\"@context\":\"https:\\/\\/schema.org\",\"@type\":\"Article\",\"name\":\"Retrieval-augmented\n",
            "generation\",\"url\":\"https:\\/\\/en.wikipedia.org\\/wiki\\/Retrieval-augmented_generation\",\"sameAs\":\"http:\n",
            "\\/\\/www.wikidata.org\\/entity\\/Q121362277\",\"mainEntity\":\"http:\\/\\/www.wikidata.org\\/entity\\/Q12136227\n",
            "7\",\"author\":{\"@type\":\"Organization\",\"name\":\"Contributors to Wikimedia\n",
            "projects\"},\"publisher\":{\"@type\":\"Organization\",\"name\":\"Wikimedia Foundation,\n",
            "Inc.\",\"logo\":{\"@type\":\"ImageObject\",\"url\":\"https:\\/\\/www.wikimedia.org\\/static\\/images\\/wmf-hor-goog\n",
            "pub.png\"}},\"datePublished\":\"2023-11-05T13:19:20Z\",\"dateModified\":\"2025-06-\n",
            "02T17:44:13Z\",\"headline\":\"language generation model\"}\n",
            "\n",
            "\n",
            "\n"
          ]
        }
      ]
    },
    {
      "cell_type": "markdown",
      "source": [
        "### Schritt 06-02 Prompt erstellen\n",
        "Der Code fasst zunächst den Inhalt der beiden relevantesten Dokument-Chunks (retrieved_docs[0] und [1]) zu einem einzigen retrieved_context-String zusammen. Anschließend wird daraus ein augmented_prompt gebaut, der dem LLM klar vorgibt, nur auf Basis dieses Kontexts die gestellte Frage (query) zu beantworten und bei fehlender Information ehrlich mit „I don’t know“ zu reagieren. Mit textwrap.fill wird der Prompt schließlich formatiert, damit er beim Ausdrucken im Notebook leserlich umbricht."
      ],
      "metadata": {
        "id": "8uZEGtGVvpb7"
      },
      "id": "8uZEGtGVvpb7"
    },
    {
      "cell_type": "code",
      "source": [
        "# Die ersten beiden Dokumente werden verwendet\n",
        "retrieved_context=retrieved_docs[0].page_content + retrieved_docs[1].page_content\n",
        "\n",
        "# Prompt zusammenstellen\n",
        "augmented_prompt=f\"\"\"\n",
        "\n",
        "Given the context below answer the question.\n",
        "\n",
        "Question: {query}\n",
        "\n",
        "Context : {retrieved_context}\n",
        "\n",
        "Remember to answer only based on the context provided and not from any other source.\n",
        "\n",
        "If the question cannot be answered based on the provided context, say I don’t know.\n",
        "\n",
        "\"\"\"\n",
        "\n",
        "print(textwrap.fill(augmented_prompt,width=150))"
      ],
      "metadata": {
        "colab": {
          "base_uri": "https://localhost:8080/"
        },
        "id": "H8jR7g0lvrDz",
        "outputId": "6c245503-dec2-4d62-af6c-4975eeac5482"
      },
      "id": "H8jR7g0lvrDz",
      "execution_count": 84,
      "outputs": [
        {
          "output_type": "stream",
          "name": "stdout",
          "text": [
            "  Given the context below answer the question.  Question: What are key stages?  Context : RAG key stages   [ edit ]       Indexing   [ edit ]\n",
            "Typically, the data to be referenced is converted into LLM  embeddings , numerical representations in the form of a large vector space. [ 8 ]  RAG can\n",
            "be used on unstructured (usually text), semi-structured, or structured data (for example  knowledge graphs ). [ 12 ]  These embeddings are then stored\n",
            "in a  vector database  to allow for  document retrieval . [ 13 ]     Overview of RAG process, combining external documents and user input into an LLM\n",
            "prompt to get tailored output     Retrieval   [ edit ]     Given a user query, a document retriever is first called to select the most relevant\n",
            "documents that will be used to augment the query. [ 2 ] [ 4 ]  This comparison can be done using a variety of methods, which depend in part on the\n",
            "type of indexing used. [ 1 ] [ 12 ]       Augmentation   [ edit ]     The model feeds this relevant retrieved information into the LLM via  prompt\n",
            "engineering  of the user's original query. [ 10 ] [ 14 ]  Newer implementations (as of 2023 [update] ) can also incorporate specific augmentation\n",
            "modules with abilities such as expanding queries into multiple domains and using memory and self-improvement to learn from previous retrievals. [ 12 ]\n",
            "Generation   [ edit ]     Finally, the LLM can generate output based on both the query and the retrieved documents. [ 2 ] [ 15 ]  Some models\n",
            "incorporate extra steps to improve output, such as the re-ranking of retrieved information, context selection, and  fine-tuning . [ 12 ]Code of\n",
            "Conduct   Developers   Statistics   Cookie statement   Mobile view                               Search                             Search\n",
            "Toggle the table of contents                 Retrieval-augmented generation                                                           12 languages\n",
            "Add topic                             (RLQ=window.RLQ||[]).push(function(){mw.config.set({\"wgHostname\":\"mw-web.eqiad.main-5dc9b748d7-\n",
            "q7lcw\",\"wgBackendResponseTime\":166,\"wgPageParseReport\":{\"limitreport\":{\"cputime\":\"0.491\",\"walltime\":\"0.615\",\"ppvisitednodes\":{\"value\":3004,\"limit\":100\n",
            "0000},\"revisionsize\":{\"value\":23512,\"limit\":2097152},\"postexpandincludesize\":{\"value\":140053,\"limit\":2097152},\"templateargumentsize\":{\"value\":4768,\"li\n",
            "mit\":2097152},\"expansiondepth\":{\"value\":15,\"limit\":100},\"expensivefunctioncount\":{\"value\":6,\"limit\":500},\"unstrip-\n",
            "depth\":{\"value\":1,\"limit\":20},\"unstrip-size\":{\"value\":117341,\"limit\":5000000},\"entityaccesscount\":{\"value\":0,\"limit\":500},\"timingprofile\":[\"100.00%\n",
            "502.104      1 -total\",\" 45.41%  228.012      1 Template:Reflist\",\" 20.30%  101.914      4 Template:Navbox\",\" 18.07%   90.730      1\n",
            "Template:Generative_AI\",\" 16.58%   83.246     19 Template:Cite_web\",\" 15.31%   76.894      2 Template:Cite_arXiv\",\" 10.94%   54.931      1\n",
            "Template:Short_description\",\" 10.31%   51.787      2 Template:Ambox\",\"  8.47%   42.507      1 Template:Original_research\",\"  6.52%   32.736      2\n",
            "Template:Pagetype\"]},\"scribunto\":{\"limitreport-timeusage\":{\"value\":\"0.301\",\"limit\":\"10.000\"},\"limitreport-\n",
            "memusage\":{\"value\":7002946,\"limit\":52428800}},\"cachereport\":{\"origin\":\"mw-\n",
            "web.eqiad.main-5dc9b748d7-qqgfd\",\"timestamp\":\"20250619233709\",\"ttl\":2592000,\"transientcontent\":false}}});});\n",
            "{\"@context\":\"https:\\/\\/schema.org\",\"@type\":\"Article\",\"name\":\"Retrieval-augmented generation\",\"url\":\"https:\\/\\/en.wikipedia.org\\/wiki\\/Retrieval-augmen\n",
            "ted_generation\",\"sameAs\":\"http:\\/\\/www.wikidata.org\\/entity\\/Q121362277\",\"mainEntity\":\"http:\\/\\/www.wikidata.org\\/entity\\/Q121362277\",\"author\":{\"@type\n",
            "\":\"Organization\",\"name\":\"Contributors to Wikimedia projects\"},\"publisher\":{\"@type\":\"Organization\",\"name\":\"Wikimedia Foundation,\n",
            "Inc.\",\"logo\":{\"@type\":\"ImageObject\",\"url\":\"https:\\/\\/www.wikimedia.org\\/static\\/images\\/wmf-hor-\n",
            "googpub.png\"}},\"datePublished\":\"2023-11-05T13:19:20Z\",\"dateModified\":\"2025-06-02T17:44:13Z\",\"headline\":\"language generation model\"}  Remember to\n",
            "answer only based on the context provided and not from any other source.  If the question cannot be answered based on the provided context, say I\n",
            "don’t know.\n"
          ]
        }
      ]
    },
    {
      "cell_type": "markdown",
      "source": [
        "# 07 🪄Chat GPTiert – Kontext drin, Halluzinationen draußen!?\n",
        "Der Prompt ist erstellt und die Anfrage kann nun an das LLM gesendet werden."
      ],
      "metadata": {
        "id": "nr53mqISvyIY"
      },
      "id": "nr53mqISvyIY"
    },
    {
      "cell_type": "markdown",
      "source": [
        "### Schritt 07-01 - Prompt an öffentliche gehostetes GEMINI Modell senden und Antwort anzeigen\n",
        "genai.configure(api_key=…) legt den Google-API-Key fest, damit nachfolgende Aufrufe authentifiziert sind.\n",
        "GenerativeModel(\"gemini-1.5-flash\") instanziiert die schnelle Gemini-1.5-Flash-Variante.\n",
        "Die Klasse GeminiRunnable verpackt das Modell in ein LangChain-kompatibles Runnable: invoke() wandelt jeden Input in einen String, ruft model.generate_content(prompt) auf und gibt nur den reinen Antwort­text zurück.\n",
        "Mit gemini_llm.invoke(augmented_prompt) wird genau dieser Ablauf ausgeführt und die Antwort für das zuvor gebaute Retrieval-Prompt ausgegeben."
      ],
      "metadata": {
        "id": "IvgQwHShckaH"
      },
      "id": "IvgQwHShckaH"
    },
    {
      "cell_type": "code",
      "source": [
        "genai.configure(api_key=api_key_gemini)\n",
        "\n",
        "model = genai.GenerativeModel(\"gemini-1.5-flash\")\n",
        "\n",
        "class GeminiRunnable(Runnable):\n",
        "    def invoke(self, input, config=None):\n",
        "        prompt = input.to_string() if hasattr(input, \"to_string\") else str(input)\n",
        "        response = model.generate_content(prompt)\n",
        "        return response.text\n",
        "\n",
        "gemini_llm = GeminiRunnable()\n",
        "\n",
        "response_gemini = gemini_llm.invoke(augmented_prompt)\n",
        "print(response_gemini)"
      ],
      "metadata": {
        "colab": {
          "base_uri": "https://localhost:8080/",
          "height": 53
        },
        "id": "EH-mqVGAWW6g",
        "outputId": "25f7113e-ad17-4025-a739-e9bd8a842d82"
      },
      "id": "EH-mqVGAWW6g",
      "execution_count": 85,
      "outputs": [
        {
          "output_type": "stream",
          "name": "stdout",
          "text": [
            "Based on the provided text, the key stages of RAG are:  Indexing, Retrieval, Augmentation, and Generation.\n",
            "\n"
          ]
        }
      ]
    },
    {
      "cell_type": "markdown",
      "source": [
        "### Schritt 07-02 - Prompt an OpenAI senden und Antwort anzeigen\n",
        "ChatOpenAI legt eine Chat-Schnittstelle zu OpenAI fest; hier wird das kompakte Modell „gpt-4o-mini“ genutzt und mit temperature=0 deterministisch gemacht.\n",
        "Mit max_tokens=None übernimmt die API ihr Standardlimit, timeout=None wartet unbegrenzt, und max_retries=2 erlaubt zwei automatische Wiederholungen bei Netz-/Rate-Limit-Fehlern.\n",
        "messages enthält genau eine Rolle-Inhalts-Kombination – der Retrieval-Prompt steht als „human“-Nachricht darin – und wird via llm.invoke(messages) an das Modell geschickt.\n",
        "Die Methode liefert ein AIMessage-Objekt zurück (ai_msg), dessen .content den finalen Antworttext des LLM enthält."
      ],
      "metadata": {
        "id": "rIVtjGDrkYiQ"
      },
      "id": "rIVtjGDrkYiQ"
    },
    {
      "cell_type": "code",
      "source": [
        "from langchain_openai import ChatOpenAI\n",
        "\n",
        "# LLM Anfrage konfigurieren\n",
        "llm = ChatOpenAI(\n",
        "    model=\"gpt-4o-mini\",\n",
        "    temperature=0,\n",
        "    max_tokens=None,\n",
        "    timeout=None,\n",
        "    max_retries=2,\n",
        "    openai_api_key=api_key_openai\n",
        ")\n",
        "\n",
        "messages=[(\"human\",augmented_prompt)]\n",
        "\n",
        "ai_msg = llm.invoke(messages)\n",
        "\n",
        "\n",
        "\n",
        "# Antwort aus dem Response-Objekt extrahieren\n",
        "response_openai=ai_msg.content\n",
        "\n",
        "print(response_openai)"
      ],
      "metadata": {
        "colab": {
          "base_uri": "https://localhost:8080/"
        },
        "id": "VUfpnjCCv0oZ",
        "outputId": "bd69f1e3-2880-42a5-d039-e754f098db36"
      },
      "id": "VUfpnjCCv0oZ",
      "execution_count": 86,
      "outputs": [
        {
          "output_type": "stream",
          "name": "stdout",
          "text": [
            "The key stages in the RAG (Retrieval-Augmented Generation) process are:\n",
            "\n",
            "1. **Indexing**: Data is converted into LLM embeddings and stored in a vector database for document retrieval.\n",
            "2. **Retrieval**: A document retriever selects the most relevant documents based on a user query.\n",
            "3. **Augmentation**: Relevant retrieved information is fed into the LLM through prompt engineering of the user's query.\n",
            "4. **Generation**: The LLM generates output based on the query and the retrieved documents, potentially incorporating additional steps for improving the output.\n"
          ]
        }
      ]
    },
    {
      "cell_type": "markdown",
      "source": [
        "# 08 Evaluierung - Ein paar einfache Checks"
      ],
      "metadata": {
        "id": "49E-Hn66kdeU"
      },
      "id": "49E-Hn66kdeU"
    },
    {
      "cell_type": "markdown",
      "source": [
        "### Schritt 08-01 Einfache Evaluierung (1)\n",
        "Evaluierung durch Vergleich von erwarteten Schlüsselwörtern in der Antwort.\n",
        "Vergleich mit Antwort von GEMINI."
      ],
      "metadata": {
        "id": "ILyOW4sz-YLe"
      },
      "id": "ILyOW4sz-YLe"
    },
    {
      "cell_type": "code",
      "source": [
        "ground_truth = {\n",
        "    \"What are key stages?\": [\"Indexing\", \"Vector\", \"Retrieval\", \"Augmentation\", \"Generation\"],\n",
        "}\n",
        "\n",
        "\n",
        "treffer = sum([1 for wort in ground_truth[\"What are key stages?\"] if wort.lower() in response_gemini.lower()])\n",
        "print(f\"Antwort: {response_gemini}\\nTreffer: {treffer}/{len(ground_truth['What are key stages?'])}\")\n"
      ],
      "metadata": {
        "colab": {
          "base_uri": "https://localhost:8080/"
        },
        "id": "dSfZJ6Yw48_2",
        "outputId": "e1703c93-8391-4a75-ea93-6131ba124182"
      },
      "id": "dSfZJ6Yw48_2",
      "execution_count": 87,
      "outputs": [
        {
          "output_type": "stream",
          "name": "stdout",
          "text": [
            "Antwort: Based on the provided text, the key stages of RAG are:  Indexing, Retrieval, Augmentation, and Generation.\n",
            "\n",
            "Treffer: 4/5\n"
          ]
        }
      ]
    },
    {
      "cell_type": "markdown",
      "source": [
        "### Schritt 08-02 Einfache Evaluierung (2)\n",
        "Evaluierung durch Vergleich von erwarteten Schlüsselwörtern in der Antwort.\n",
        "Vergleich mit Antwort von OpenAI."
      ],
      "metadata": {
        "id": "x5ZviXFC--4X"
      },
      "id": "x5ZviXFC--4X"
    },
    {
      "cell_type": "code",
      "source": [
        "ground_truth = {\n",
        "    \"What are key stages?\": [\"Indexing\", \"Vector\", \"Retrieval\", \"Augmentation\", \"Generation\"],\n",
        "}\n",
        "\n",
        "\n",
        "treffer = sum([1 for wort in ground_truth[\"What are key stages?\"] if wort.lower() in response_openai.lower()])\n",
        "print(f\"Antwort: {response_openai}\\nTreffer: {treffer}/{len(ground_truth['What are key stages?'])}\")"
      ],
      "metadata": {
        "colab": {
          "base_uri": "https://localhost:8080/"
        },
        "id": "H6CivZHa_WOD",
        "outputId": "a238ed47-464f-4301-eb26-756edbac4d09"
      },
      "id": "H6CivZHa_WOD",
      "execution_count": 88,
      "outputs": [
        {
          "output_type": "stream",
          "name": "stdout",
          "text": [
            "Antwort: The key stages in the RAG (Retrieval-Augmented Generation) process are:\n",
            "\n",
            "1. **Indexing**: Data is converted into LLM embeddings and stored in a vector database for document retrieval.\n",
            "2. **Retrieval**: A document retriever selects the most relevant documents based on a user query.\n",
            "3. **Augmentation**: Relevant retrieved information is fed into the LLM through prompt engineering of the user's query.\n",
            "4. **Generation**: The LLM generates output based on the query and the retrieved documents, potentially incorporating additional steps for improving the output.\n",
            "Treffer: 5/5\n"
          ]
        }
      ]
    },
    {
      "cell_type": "markdown",
      "source": [
        "### Schritt 08-03 Evaluierung durch LLM (1)\n",
        "Evaluierung der Antwort von Gemini durch OpenAI LLM\n",
        "*   correctness: Ist die Antwort sachlich korrekt?\n",
        "*   conciseness: Ist sie knapp & auf den Punkt?\n",
        "*   relevance: Beantwortet sie die Frage?\n",
        "*   coherence: Klingt sie flüssig & verständlich?"
      ],
      "metadata": {
        "id": "Qv0wIbRoCB79"
      },
      "id": "Qv0wIbRoCB79"
    },
    {
      "cell_type": "code",
      "source": [
        "from langchain.evaluation import load_evaluator\n",
        "from langchain_openai import ChatOpenAI\n",
        "\n",
        "# correctness, relevance, conciseness, coherence\n",
        "evaluator = load_evaluator(\"labeled_criteria\", criteria=\"correctness\", llm=ChatOpenAI(openai_api_key=api_key_openai))\n",
        "\n",
        "ergebnis = evaluator.evaluate_strings(\n",
        "    input=\"What are key stages?\",\n",
        "    prediction=response_gemini,\n",
        "    reference=\"Indexing, Vector, Retrieval, Augmentation, Generation\"\n",
        ")\n",
        "print(ergebnis[\"score\"], ergebnis[\"reasoning\"])\n"
      ],
      "metadata": {
        "colab": {
          "base_uri": "https://localhost:8080/"
        },
        "id": "dYcbnnNoAyup",
        "outputId": "12f93665-b9b0-4244-f02a-29c57580ece6"
      },
      "id": "dYcbnnNoAyup",
      "execution_count": 89,
      "outputs": [
        {
          "output_type": "stream",
          "name": "stdout",
          "text": [
            "0 Step by step reasoning:\n",
            "1. The submission lists \"Indexing, Retrieval, Augmentation, and Generation\" as the key stages of RAG.\n",
            "2. The reference states \"Indexing, Vector, Retrieval, Augmentation, Generation\" as the key stages of RAG.\n",
            "3. Comparing the submission and reference, the submission is missing \"Vector\" and includes \"Retrieval\" instead of \"Vector\".\n",
            "4. Therefore, the submission is not completely correct, accurate, and factual based on the reference.\n",
            "\n",
            "Therefore, the submission does not meet the criteria.\n",
            "\n",
            "N\n"
          ]
        }
      ]
    },
    {
      "cell_type": "markdown",
      "source": [
        "### Schritt 08-04 Evaluierung durch LLM (2)\n",
        "Evaluierung der Antwort von OpenAI durch OpenAI LLM\n",
        "*   correctness: Ist die Antwort sachlich korrekt?\n",
        "*   conciseness: Ist sie knapp & auf den Punkt?\n",
        "*   relevance: Beantwortet sie die Frage?\n",
        "*   coherence: Klingt sie flüssig & verständlich?"
      ],
      "metadata": {
        "id": "QFHajwt-Ca7O"
      },
      "id": "QFHajwt-Ca7O"
    },
    {
      "cell_type": "code",
      "source": [
        "from langchain.evaluation import load_evaluator\n",
        "from langchain_openai import ChatOpenAI\n",
        "\n",
        "evaluator = load_evaluator(\"labeled_criteria\", criteria=\"correctness\", llm=ChatOpenAI(openai_api_key=api_key_openai))\n",
        "\n",
        "ergebnis = evaluator.evaluate_strings(\n",
        "    input=\"What are key stages?\",\n",
        "    prediction=response_openai,\n",
        "    reference=\"Indexing, Vector, Retrieval, Augmentation, Generation\"\n",
        ")\n",
        "print(ergebnis[\"score\"], ergebnis[\"reasoning\"])"
      ],
      "metadata": {
        "id": "5WbBO_dhCc1N",
        "colab": {
          "base_uri": "https://localhost:8080/"
        },
        "outputId": "09f3fe19-7c03-48be-d3cc-92a1acffd7fb"
      },
      "id": "5WbBO_dhCc1N",
      "execution_count": 90,
      "outputs": [
        {
          "output_type": "stream",
          "name": "stdout",
          "text": [
            "1 1. The submission mentions key stages in the RAG process: Indexing, Retrieval, Augmentation, and Generation, as requested.\n",
            "2. The description of each key stage in the submission matches with the provided reference (Indexing, Vector, Retrieval, Augmentation, Generation).\n",
            "3. The submission provides a clear and accurate explanation of each key stage.\n",
            "\n",
            "Therefore, based on the evaluation against the correctness criteria, the submission meets the criteria.\n"
          ]
        }
      ]
    }
  ],
  "metadata": {
    "colab": {
      "provenance": []
    },
    "kernelspec": {
      "display_name": "Python 3",
      "name": "python3"
    },
    "language_info": {
      "name": "python"
    },
    "widgets": {
      "application/vnd.jupyter.widget-state+json": {
        "56f41be531bb4c9aa7d0388c5295cdc6": {
          "model_module": "@jupyter-widgets/controls",
          "model_name": "HBoxModel",
          "model_module_version": "1.5.0",
          "state": {
            "_dom_classes": [],
            "_model_module": "@jupyter-widgets/controls",
            "_model_module_version": "1.5.0",
            "_model_name": "HBoxModel",
            "_view_count": null,
            "_view_module": "@jupyter-widgets/controls",
            "_view_module_version": "1.5.0",
            "_view_name": "HBoxView",
            "box_style": "",
            "children": [
              "IPY_MODEL_bee5509f1354469e916630a628d05041",
              "IPY_MODEL_5b0a620d9ae149a9b714a41e80f4f81e",
              "IPY_MODEL_dd5045dc97b04dee8a2cb891a2e97c35"
            ],
            "layout": "IPY_MODEL_f02756863d11410d95bf56a655c985ca"
          }
        },
        "bee5509f1354469e916630a628d05041": {
          "model_module": "@jupyter-widgets/controls",
          "model_name": "HTMLModel",
          "model_module_version": "1.5.0",
          "state": {
            "_dom_classes": [],
            "_model_module": "@jupyter-widgets/controls",
            "_model_module_version": "1.5.0",
            "_model_name": "HTMLModel",
            "_view_count": null,
            "_view_module": "@jupyter-widgets/controls",
            "_view_module_version": "1.5.0",
            "_view_name": "HTMLView",
            "description": "",
            "description_tooltip": null,
            "layout": "IPY_MODEL_d118f2c483af400e9a304c1673bd9ac5",
            "placeholder": "​",
            "style": "IPY_MODEL_094e8bce8fed48dcbeff0b97ccebd18c",
            "value": "modules.json: 100%"
          }
        },
        "5b0a620d9ae149a9b714a41e80f4f81e": {
          "model_module": "@jupyter-widgets/controls",
          "model_name": "FloatProgressModel",
          "model_module_version": "1.5.0",
          "state": {
            "_dom_classes": [],
            "_model_module": "@jupyter-widgets/controls",
            "_model_module_version": "1.5.0",
            "_model_name": "FloatProgressModel",
            "_view_count": null,
            "_view_module": "@jupyter-widgets/controls",
            "_view_module_version": "1.5.0",
            "_view_name": "ProgressView",
            "bar_style": "success",
            "description": "",
            "description_tooltip": null,
            "layout": "IPY_MODEL_21608762ce8d4755944cab0cfe2dedac",
            "max": 349,
            "min": 0,
            "orientation": "horizontal",
            "style": "IPY_MODEL_aeb29e296f4e4519ae9991748bfb110f",
            "value": 349
          }
        },
        "dd5045dc97b04dee8a2cb891a2e97c35": {
          "model_module": "@jupyter-widgets/controls",
          "model_name": "HTMLModel",
          "model_module_version": "1.5.0",
          "state": {
            "_dom_classes": [],
            "_model_module": "@jupyter-widgets/controls",
            "_model_module_version": "1.5.0",
            "_model_name": "HTMLModel",
            "_view_count": null,
            "_view_module": "@jupyter-widgets/controls",
            "_view_module_version": "1.5.0",
            "_view_name": "HTMLView",
            "description": "",
            "description_tooltip": null,
            "layout": "IPY_MODEL_098236fce6a444da86a9902f1af4db5e",
            "placeholder": "​",
            "style": "IPY_MODEL_2e5a24eb214744cbae5ee9fd2eb307b6",
            "value": " 349/349 [00:00&lt;00:00, 5.37kB/s]"
          }
        },
        "f02756863d11410d95bf56a655c985ca": {
          "model_module": "@jupyter-widgets/base",
          "model_name": "LayoutModel",
          "model_module_version": "1.2.0",
          "state": {
            "_model_module": "@jupyter-widgets/base",
            "_model_module_version": "1.2.0",
            "_model_name": "LayoutModel",
            "_view_count": null,
            "_view_module": "@jupyter-widgets/base",
            "_view_module_version": "1.2.0",
            "_view_name": "LayoutView",
            "align_content": null,
            "align_items": null,
            "align_self": null,
            "border": null,
            "bottom": null,
            "display": null,
            "flex": null,
            "flex_flow": null,
            "grid_area": null,
            "grid_auto_columns": null,
            "grid_auto_flow": null,
            "grid_auto_rows": null,
            "grid_column": null,
            "grid_gap": null,
            "grid_row": null,
            "grid_template_areas": null,
            "grid_template_columns": null,
            "grid_template_rows": null,
            "height": null,
            "justify_content": null,
            "justify_items": null,
            "left": null,
            "margin": null,
            "max_height": null,
            "max_width": null,
            "min_height": null,
            "min_width": null,
            "object_fit": null,
            "object_position": null,
            "order": null,
            "overflow": null,
            "overflow_x": null,
            "overflow_y": null,
            "padding": null,
            "right": null,
            "top": null,
            "visibility": null,
            "width": null
          }
        },
        "d118f2c483af400e9a304c1673bd9ac5": {
          "model_module": "@jupyter-widgets/base",
          "model_name": "LayoutModel",
          "model_module_version": "1.2.0",
          "state": {
            "_model_module": "@jupyter-widgets/base",
            "_model_module_version": "1.2.0",
            "_model_name": "LayoutModel",
            "_view_count": null,
            "_view_module": "@jupyter-widgets/base",
            "_view_module_version": "1.2.0",
            "_view_name": "LayoutView",
            "align_content": null,
            "align_items": null,
            "align_self": null,
            "border": null,
            "bottom": null,
            "display": null,
            "flex": null,
            "flex_flow": null,
            "grid_area": null,
            "grid_auto_columns": null,
            "grid_auto_flow": null,
            "grid_auto_rows": null,
            "grid_column": null,
            "grid_gap": null,
            "grid_row": null,
            "grid_template_areas": null,
            "grid_template_columns": null,
            "grid_template_rows": null,
            "height": null,
            "justify_content": null,
            "justify_items": null,
            "left": null,
            "margin": null,
            "max_height": null,
            "max_width": null,
            "min_height": null,
            "min_width": null,
            "object_fit": null,
            "object_position": null,
            "order": null,
            "overflow": null,
            "overflow_x": null,
            "overflow_y": null,
            "padding": null,
            "right": null,
            "top": null,
            "visibility": null,
            "width": null
          }
        },
        "094e8bce8fed48dcbeff0b97ccebd18c": {
          "model_module": "@jupyter-widgets/controls",
          "model_name": "DescriptionStyleModel",
          "model_module_version": "1.5.0",
          "state": {
            "_model_module": "@jupyter-widgets/controls",
            "_model_module_version": "1.5.0",
            "_model_name": "DescriptionStyleModel",
            "_view_count": null,
            "_view_module": "@jupyter-widgets/base",
            "_view_module_version": "1.2.0",
            "_view_name": "StyleView",
            "description_width": ""
          }
        },
        "21608762ce8d4755944cab0cfe2dedac": {
          "model_module": "@jupyter-widgets/base",
          "model_name": "LayoutModel",
          "model_module_version": "1.2.0",
          "state": {
            "_model_module": "@jupyter-widgets/base",
            "_model_module_version": "1.2.0",
            "_model_name": "LayoutModel",
            "_view_count": null,
            "_view_module": "@jupyter-widgets/base",
            "_view_module_version": "1.2.0",
            "_view_name": "LayoutView",
            "align_content": null,
            "align_items": null,
            "align_self": null,
            "border": null,
            "bottom": null,
            "display": null,
            "flex": null,
            "flex_flow": null,
            "grid_area": null,
            "grid_auto_columns": null,
            "grid_auto_flow": null,
            "grid_auto_rows": null,
            "grid_column": null,
            "grid_gap": null,
            "grid_row": null,
            "grid_template_areas": null,
            "grid_template_columns": null,
            "grid_template_rows": null,
            "height": null,
            "justify_content": null,
            "justify_items": null,
            "left": null,
            "margin": null,
            "max_height": null,
            "max_width": null,
            "min_height": null,
            "min_width": null,
            "object_fit": null,
            "object_position": null,
            "order": null,
            "overflow": null,
            "overflow_x": null,
            "overflow_y": null,
            "padding": null,
            "right": null,
            "top": null,
            "visibility": null,
            "width": null
          }
        },
        "aeb29e296f4e4519ae9991748bfb110f": {
          "model_module": "@jupyter-widgets/controls",
          "model_name": "ProgressStyleModel",
          "model_module_version": "1.5.0",
          "state": {
            "_model_module": "@jupyter-widgets/controls",
            "_model_module_version": "1.5.0",
            "_model_name": "ProgressStyleModel",
            "_view_count": null,
            "_view_module": "@jupyter-widgets/base",
            "_view_module_version": "1.2.0",
            "_view_name": "StyleView",
            "bar_color": null,
            "description_width": ""
          }
        },
        "098236fce6a444da86a9902f1af4db5e": {
          "model_module": "@jupyter-widgets/base",
          "model_name": "LayoutModel",
          "model_module_version": "1.2.0",
          "state": {
            "_model_module": "@jupyter-widgets/base",
            "_model_module_version": "1.2.0",
            "_model_name": "LayoutModel",
            "_view_count": null,
            "_view_module": "@jupyter-widgets/base",
            "_view_module_version": "1.2.0",
            "_view_name": "LayoutView",
            "align_content": null,
            "align_items": null,
            "align_self": null,
            "border": null,
            "bottom": null,
            "display": null,
            "flex": null,
            "flex_flow": null,
            "grid_area": null,
            "grid_auto_columns": null,
            "grid_auto_flow": null,
            "grid_auto_rows": null,
            "grid_column": null,
            "grid_gap": null,
            "grid_row": null,
            "grid_template_areas": null,
            "grid_template_columns": null,
            "grid_template_rows": null,
            "height": null,
            "justify_content": null,
            "justify_items": null,
            "left": null,
            "margin": null,
            "max_height": null,
            "max_width": null,
            "min_height": null,
            "min_width": null,
            "object_fit": null,
            "object_position": null,
            "order": null,
            "overflow": null,
            "overflow_x": null,
            "overflow_y": null,
            "padding": null,
            "right": null,
            "top": null,
            "visibility": null,
            "width": null
          }
        },
        "2e5a24eb214744cbae5ee9fd2eb307b6": {
          "model_module": "@jupyter-widgets/controls",
          "model_name": "DescriptionStyleModel",
          "model_module_version": "1.5.0",
          "state": {
            "_model_module": "@jupyter-widgets/controls",
            "_model_module_version": "1.5.0",
            "_model_name": "DescriptionStyleModel",
            "_view_count": null,
            "_view_module": "@jupyter-widgets/base",
            "_view_module_version": "1.2.0",
            "_view_name": "StyleView",
            "description_width": ""
          }
        },
        "ab5141b10474411d959c456dca917112": {
          "model_module": "@jupyter-widgets/controls",
          "model_name": "HBoxModel",
          "model_module_version": "1.5.0",
          "state": {
            "_dom_classes": [],
            "_model_module": "@jupyter-widgets/controls",
            "_model_module_version": "1.5.0",
            "_model_name": "HBoxModel",
            "_view_count": null,
            "_view_module": "@jupyter-widgets/controls",
            "_view_module_version": "1.5.0",
            "_view_name": "HBoxView",
            "box_style": "",
            "children": [
              "IPY_MODEL_dda3b8771fc845698c2966ec91bf020c",
              "IPY_MODEL_afc993e4636e47cf96ea176d591f6543",
              "IPY_MODEL_94af8576f31f4a74a2d03fae4865b11e"
            ],
            "layout": "IPY_MODEL_e832ce81067d4d0c87c319c6d933b8ed"
          }
        },
        "dda3b8771fc845698c2966ec91bf020c": {
          "model_module": "@jupyter-widgets/controls",
          "model_name": "HTMLModel",
          "model_module_version": "1.5.0",
          "state": {
            "_dom_classes": [],
            "_model_module": "@jupyter-widgets/controls",
            "_model_module_version": "1.5.0",
            "_model_name": "HTMLModel",
            "_view_count": null,
            "_view_module": "@jupyter-widgets/controls",
            "_view_module_version": "1.5.0",
            "_view_name": "HTMLView",
            "description": "",
            "description_tooltip": null,
            "layout": "IPY_MODEL_f79a2e32c4344b45a4099145f4ee2dd6",
            "placeholder": "​",
            "style": "IPY_MODEL_199b0fa2a5384f039c9e37607f24a0c7",
            "value": "config_sentence_transformers.json: 100%"
          }
        },
        "afc993e4636e47cf96ea176d591f6543": {
          "model_module": "@jupyter-widgets/controls",
          "model_name": "FloatProgressModel",
          "model_module_version": "1.5.0",
          "state": {
            "_dom_classes": [],
            "_model_module": "@jupyter-widgets/controls",
            "_model_module_version": "1.5.0",
            "_model_name": "FloatProgressModel",
            "_view_count": null,
            "_view_module": "@jupyter-widgets/controls",
            "_view_module_version": "1.5.0",
            "_view_name": "ProgressView",
            "bar_style": "success",
            "description": "",
            "description_tooltip": null,
            "layout": "IPY_MODEL_1ef62c58dfc84803abc07627477c426b",
            "max": 116,
            "min": 0,
            "orientation": "horizontal",
            "style": "IPY_MODEL_37bc1038084f407b88199b810ecee99b",
            "value": 116
          }
        },
        "94af8576f31f4a74a2d03fae4865b11e": {
          "model_module": "@jupyter-widgets/controls",
          "model_name": "HTMLModel",
          "model_module_version": "1.5.0",
          "state": {
            "_dom_classes": [],
            "_model_module": "@jupyter-widgets/controls",
            "_model_module_version": "1.5.0",
            "_model_name": "HTMLModel",
            "_view_count": null,
            "_view_module": "@jupyter-widgets/controls",
            "_view_module_version": "1.5.0",
            "_view_name": "HTMLView",
            "description": "",
            "description_tooltip": null,
            "layout": "IPY_MODEL_c9867453d8e147889379aafe0090b3e5",
            "placeholder": "​",
            "style": "IPY_MODEL_07a605c3336d4e409ee445134f630afe",
            "value": " 116/116 [00:00&lt;00:00, 4.14kB/s]"
          }
        },
        "e832ce81067d4d0c87c319c6d933b8ed": {
          "model_module": "@jupyter-widgets/base",
          "model_name": "LayoutModel",
          "model_module_version": "1.2.0",
          "state": {
            "_model_module": "@jupyter-widgets/base",
            "_model_module_version": "1.2.0",
            "_model_name": "LayoutModel",
            "_view_count": null,
            "_view_module": "@jupyter-widgets/base",
            "_view_module_version": "1.2.0",
            "_view_name": "LayoutView",
            "align_content": null,
            "align_items": null,
            "align_self": null,
            "border": null,
            "bottom": null,
            "display": null,
            "flex": null,
            "flex_flow": null,
            "grid_area": null,
            "grid_auto_columns": null,
            "grid_auto_flow": null,
            "grid_auto_rows": null,
            "grid_column": null,
            "grid_gap": null,
            "grid_row": null,
            "grid_template_areas": null,
            "grid_template_columns": null,
            "grid_template_rows": null,
            "height": null,
            "justify_content": null,
            "justify_items": null,
            "left": null,
            "margin": null,
            "max_height": null,
            "max_width": null,
            "min_height": null,
            "min_width": null,
            "object_fit": null,
            "object_position": null,
            "order": null,
            "overflow": null,
            "overflow_x": null,
            "overflow_y": null,
            "padding": null,
            "right": null,
            "top": null,
            "visibility": null,
            "width": null
          }
        },
        "f79a2e32c4344b45a4099145f4ee2dd6": {
          "model_module": "@jupyter-widgets/base",
          "model_name": "LayoutModel",
          "model_module_version": "1.2.0",
          "state": {
            "_model_module": "@jupyter-widgets/base",
            "_model_module_version": "1.2.0",
            "_model_name": "LayoutModel",
            "_view_count": null,
            "_view_module": "@jupyter-widgets/base",
            "_view_module_version": "1.2.0",
            "_view_name": "LayoutView",
            "align_content": null,
            "align_items": null,
            "align_self": null,
            "border": null,
            "bottom": null,
            "display": null,
            "flex": null,
            "flex_flow": null,
            "grid_area": null,
            "grid_auto_columns": null,
            "grid_auto_flow": null,
            "grid_auto_rows": null,
            "grid_column": null,
            "grid_gap": null,
            "grid_row": null,
            "grid_template_areas": null,
            "grid_template_columns": null,
            "grid_template_rows": null,
            "height": null,
            "justify_content": null,
            "justify_items": null,
            "left": null,
            "margin": null,
            "max_height": null,
            "max_width": null,
            "min_height": null,
            "min_width": null,
            "object_fit": null,
            "object_position": null,
            "order": null,
            "overflow": null,
            "overflow_x": null,
            "overflow_y": null,
            "padding": null,
            "right": null,
            "top": null,
            "visibility": null,
            "width": null
          }
        },
        "199b0fa2a5384f039c9e37607f24a0c7": {
          "model_module": "@jupyter-widgets/controls",
          "model_name": "DescriptionStyleModel",
          "model_module_version": "1.5.0",
          "state": {
            "_model_module": "@jupyter-widgets/controls",
            "_model_module_version": "1.5.0",
            "_model_name": "DescriptionStyleModel",
            "_view_count": null,
            "_view_module": "@jupyter-widgets/base",
            "_view_module_version": "1.2.0",
            "_view_name": "StyleView",
            "description_width": ""
          }
        },
        "1ef62c58dfc84803abc07627477c426b": {
          "model_module": "@jupyter-widgets/base",
          "model_name": "LayoutModel",
          "model_module_version": "1.2.0",
          "state": {
            "_model_module": "@jupyter-widgets/base",
            "_model_module_version": "1.2.0",
            "_model_name": "LayoutModel",
            "_view_count": null,
            "_view_module": "@jupyter-widgets/base",
            "_view_module_version": "1.2.0",
            "_view_name": "LayoutView",
            "align_content": null,
            "align_items": null,
            "align_self": null,
            "border": null,
            "bottom": null,
            "display": null,
            "flex": null,
            "flex_flow": null,
            "grid_area": null,
            "grid_auto_columns": null,
            "grid_auto_flow": null,
            "grid_auto_rows": null,
            "grid_column": null,
            "grid_gap": null,
            "grid_row": null,
            "grid_template_areas": null,
            "grid_template_columns": null,
            "grid_template_rows": null,
            "height": null,
            "justify_content": null,
            "justify_items": null,
            "left": null,
            "margin": null,
            "max_height": null,
            "max_width": null,
            "min_height": null,
            "min_width": null,
            "object_fit": null,
            "object_position": null,
            "order": null,
            "overflow": null,
            "overflow_x": null,
            "overflow_y": null,
            "padding": null,
            "right": null,
            "top": null,
            "visibility": null,
            "width": null
          }
        },
        "37bc1038084f407b88199b810ecee99b": {
          "model_module": "@jupyter-widgets/controls",
          "model_name": "ProgressStyleModel",
          "model_module_version": "1.5.0",
          "state": {
            "_model_module": "@jupyter-widgets/controls",
            "_model_module_version": "1.5.0",
            "_model_name": "ProgressStyleModel",
            "_view_count": null,
            "_view_module": "@jupyter-widgets/base",
            "_view_module_version": "1.2.0",
            "_view_name": "StyleView",
            "bar_color": null,
            "description_width": ""
          }
        },
        "c9867453d8e147889379aafe0090b3e5": {
          "model_module": "@jupyter-widgets/base",
          "model_name": "LayoutModel",
          "model_module_version": "1.2.0",
          "state": {
            "_model_module": "@jupyter-widgets/base",
            "_model_module_version": "1.2.0",
            "_model_name": "LayoutModel",
            "_view_count": null,
            "_view_module": "@jupyter-widgets/base",
            "_view_module_version": "1.2.0",
            "_view_name": "LayoutView",
            "align_content": null,
            "align_items": null,
            "align_self": null,
            "border": null,
            "bottom": null,
            "display": null,
            "flex": null,
            "flex_flow": null,
            "grid_area": null,
            "grid_auto_columns": null,
            "grid_auto_flow": null,
            "grid_auto_rows": null,
            "grid_column": null,
            "grid_gap": null,
            "grid_row": null,
            "grid_template_areas": null,
            "grid_template_columns": null,
            "grid_template_rows": null,
            "height": null,
            "justify_content": null,
            "justify_items": null,
            "left": null,
            "margin": null,
            "max_height": null,
            "max_width": null,
            "min_height": null,
            "min_width": null,
            "object_fit": null,
            "object_position": null,
            "order": null,
            "overflow": null,
            "overflow_x": null,
            "overflow_y": null,
            "padding": null,
            "right": null,
            "top": null,
            "visibility": null,
            "width": null
          }
        },
        "07a605c3336d4e409ee445134f630afe": {
          "model_module": "@jupyter-widgets/controls",
          "model_name": "DescriptionStyleModel",
          "model_module_version": "1.5.0",
          "state": {
            "_model_module": "@jupyter-widgets/controls",
            "_model_module_version": "1.5.0",
            "_model_name": "DescriptionStyleModel",
            "_view_count": null,
            "_view_module": "@jupyter-widgets/base",
            "_view_module_version": "1.2.0",
            "_view_name": "StyleView",
            "description_width": ""
          }
        },
        "922a26fe9bfc476d8ee479b02310e73d": {
          "model_module": "@jupyter-widgets/controls",
          "model_name": "HBoxModel",
          "model_module_version": "1.5.0",
          "state": {
            "_dom_classes": [],
            "_model_module": "@jupyter-widgets/controls",
            "_model_module_version": "1.5.0",
            "_model_name": "HBoxModel",
            "_view_count": null,
            "_view_module": "@jupyter-widgets/controls",
            "_view_module_version": "1.5.0",
            "_view_name": "HBoxView",
            "box_style": "",
            "children": [
              "IPY_MODEL_62cac877be6b402a9827510dd7dcd309",
              "IPY_MODEL_040ae2a7cf5d42d4a79bb257a0cf0f42",
              "IPY_MODEL_5ea71dd4391d42df9cf87f3628123704"
            ],
            "layout": "IPY_MODEL_7d9362fcf52046f68c725c2eaac18371"
          }
        },
        "62cac877be6b402a9827510dd7dcd309": {
          "model_module": "@jupyter-widgets/controls",
          "model_name": "HTMLModel",
          "model_module_version": "1.5.0",
          "state": {
            "_dom_classes": [],
            "_model_module": "@jupyter-widgets/controls",
            "_model_module_version": "1.5.0",
            "_model_name": "HTMLModel",
            "_view_count": null,
            "_view_module": "@jupyter-widgets/controls",
            "_view_module_version": "1.5.0",
            "_view_name": "HTMLView",
            "description": "",
            "description_tooltip": null,
            "layout": "IPY_MODEL_32005a3151844541b57204a1a450bd36",
            "placeholder": "​",
            "style": "IPY_MODEL_66b88e2c8bba4a2db0bc497c9c163c2b",
            "value": "README.md: 100%"
          }
        },
        "040ae2a7cf5d42d4a79bb257a0cf0f42": {
          "model_module": "@jupyter-widgets/controls",
          "model_name": "FloatProgressModel",
          "model_module_version": "1.5.0",
          "state": {
            "_dom_classes": [],
            "_model_module": "@jupyter-widgets/controls",
            "_model_module_version": "1.5.0",
            "_model_name": "FloatProgressModel",
            "_view_count": null,
            "_view_module": "@jupyter-widgets/controls",
            "_view_module_version": "1.5.0",
            "_view_name": "ProgressView",
            "bar_style": "success",
            "description": "",
            "description_tooltip": null,
            "layout": "IPY_MODEL_83bf0682e1d346dbae506e769545f7ca",
            "max": 10415,
            "min": 0,
            "orientation": "horizontal",
            "style": "IPY_MODEL_80257fbc3c214effb8520281e21bf78c",
            "value": 10415
          }
        },
        "5ea71dd4391d42df9cf87f3628123704": {
          "model_module": "@jupyter-widgets/controls",
          "model_name": "HTMLModel",
          "model_module_version": "1.5.0",
          "state": {
            "_dom_classes": [],
            "_model_module": "@jupyter-widgets/controls",
            "_model_module_version": "1.5.0",
            "_model_name": "HTMLModel",
            "_view_count": null,
            "_view_module": "@jupyter-widgets/controls",
            "_view_module_version": "1.5.0",
            "_view_name": "HTMLView",
            "description": "",
            "description_tooltip": null,
            "layout": "IPY_MODEL_d01be09cce1d4d6ba7d2698fb7830387",
            "placeholder": "​",
            "style": "IPY_MODEL_87b58a9124de4e368e689c7bec06012f",
            "value": " 10.4k/10.4k [00:00&lt;00:00, 488kB/s]"
          }
        },
        "7d9362fcf52046f68c725c2eaac18371": {
          "model_module": "@jupyter-widgets/base",
          "model_name": "LayoutModel",
          "model_module_version": "1.2.0",
          "state": {
            "_model_module": "@jupyter-widgets/base",
            "_model_module_version": "1.2.0",
            "_model_name": "LayoutModel",
            "_view_count": null,
            "_view_module": "@jupyter-widgets/base",
            "_view_module_version": "1.2.0",
            "_view_name": "LayoutView",
            "align_content": null,
            "align_items": null,
            "align_self": null,
            "border": null,
            "bottom": null,
            "display": null,
            "flex": null,
            "flex_flow": null,
            "grid_area": null,
            "grid_auto_columns": null,
            "grid_auto_flow": null,
            "grid_auto_rows": null,
            "grid_column": null,
            "grid_gap": null,
            "grid_row": null,
            "grid_template_areas": null,
            "grid_template_columns": null,
            "grid_template_rows": null,
            "height": null,
            "justify_content": null,
            "justify_items": null,
            "left": null,
            "margin": null,
            "max_height": null,
            "max_width": null,
            "min_height": null,
            "min_width": null,
            "object_fit": null,
            "object_position": null,
            "order": null,
            "overflow": null,
            "overflow_x": null,
            "overflow_y": null,
            "padding": null,
            "right": null,
            "top": null,
            "visibility": null,
            "width": null
          }
        },
        "32005a3151844541b57204a1a450bd36": {
          "model_module": "@jupyter-widgets/base",
          "model_name": "LayoutModel",
          "model_module_version": "1.2.0",
          "state": {
            "_model_module": "@jupyter-widgets/base",
            "_model_module_version": "1.2.0",
            "_model_name": "LayoutModel",
            "_view_count": null,
            "_view_module": "@jupyter-widgets/base",
            "_view_module_version": "1.2.0",
            "_view_name": "LayoutView",
            "align_content": null,
            "align_items": null,
            "align_self": null,
            "border": null,
            "bottom": null,
            "display": null,
            "flex": null,
            "flex_flow": null,
            "grid_area": null,
            "grid_auto_columns": null,
            "grid_auto_flow": null,
            "grid_auto_rows": null,
            "grid_column": null,
            "grid_gap": null,
            "grid_row": null,
            "grid_template_areas": null,
            "grid_template_columns": null,
            "grid_template_rows": null,
            "height": null,
            "justify_content": null,
            "justify_items": null,
            "left": null,
            "margin": null,
            "max_height": null,
            "max_width": null,
            "min_height": null,
            "min_width": null,
            "object_fit": null,
            "object_position": null,
            "order": null,
            "overflow": null,
            "overflow_x": null,
            "overflow_y": null,
            "padding": null,
            "right": null,
            "top": null,
            "visibility": null,
            "width": null
          }
        },
        "66b88e2c8bba4a2db0bc497c9c163c2b": {
          "model_module": "@jupyter-widgets/controls",
          "model_name": "DescriptionStyleModel",
          "model_module_version": "1.5.0",
          "state": {
            "_model_module": "@jupyter-widgets/controls",
            "_model_module_version": "1.5.0",
            "_model_name": "DescriptionStyleModel",
            "_view_count": null,
            "_view_module": "@jupyter-widgets/base",
            "_view_module_version": "1.2.0",
            "_view_name": "StyleView",
            "description_width": ""
          }
        },
        "83bf0682e1d346dbae506e769545f7ca": {
          "model_module": "@jupyter-widgets/base",
          "model_name": "LayoutModel",
          "model_module_version": "1.2.0",
          "state": {
            "_model_module": "@jupyter-widgets/base",
            "_model_module_version": "1.2.0",
            "_model_name": "LayoutModel",
            "_view_count": null,
            "_view_module": "@jupyter-widgets/base",
            "_view_module_version": "1.2.0",
            "_view_name": "LayoutView",
            "align_content": null,
            "align_items": null,
            "align_self": null,
            "border": null,
            "bottom": null,
            "display": null,
            "flex": null,
            "flex_flow": null,
            "grid_area": null,
            "grid_auto_columns": null,
            "grid_auto_flow": null,
            "grid_auto_rows": null,
            "grid_column": null,
            "grid_gap": null,
            "grid_row": null,
            "grid_template_areas": null,
            "grid_template_columns": null,
            "grid_template_rows": null,
            "height": null,
            "justify_content": null,
            "justify_items": null,
            "left": null,
            "margin": null,
            "max_height": null,
            "max_width": null,
            "min_height": null,
            "min_width": null,
            "object_fit": null,
            "object_position": null,
            "order": null,
            "overflow": null,
            "overflow_x": null,
            "overflow_y": null,
            "padding": null,
            "right": null,
            "top": null,
            "visibility": null,
            "width": null
          }
        },
        "80257fbc3c214effb8520281e21bf78c": {
          "model_module": "@jupyter-widgets/controls",
          "model_name": "ProgressStyleModel",
          "model_module_version": "1.5.0",
          "state": {
            "_model_module": "@jupyter-widgets/controls",
            "_model_module_version": "1.5.0",
            "_model_name": "ProgressStyleModel",
            "_view_count": null,
            "_view_module": "@jupyter-widgets/base",
            "_view_module_version": "1.2.0",
            "_view_name": "StyleView",
            "bar_color": null,
            "description_width": ""
          }
        },
        "d01be09cce1d4d6ba7d2698fb7830387": {
          "model_module": "@jupyter-widgets/base",
          "model_name": "LayoutModel",
          "model_module_version": "1.2.0",
          "state": {
            "_model_module": "@jupyter-widgets/base",
            "_model_module_version": "1.2.0",
            "_model_name": "LayoutModel",
            "_view_count": null,
            "_view_module": "@jupyter-widgets/base",
            "_view_module_version": "1.2.0",
            "_view_name": "LayoutView",
            "align_content": null,
            "align_items": null,
            "align_self": null,
            "border": null,
            "bottom": null,
            "display": null,
            "flex": null,
            "flex_flow": null,
            "grid_area": null,
            "grid_auto_columns": null,
            "grid_auto_flow": null,
            "grid_auto_rows": null,
            "grid_column": null,
            "grid_gap": null,
            "grid_row": null,
            "grid_template_areas": null,
            "grid_template_columns": null,
            "grid_template_rows": null,
            "height": null,
            "justify_content": null,
            "justify_items": null,
            "left": null,
            "margin": null,
            "max_height": null,
            "max_width": null,
            "min_height": null,
            "min_width": null,
            "object_fit": null,
            "object_position": null,
            "order": null,
            "overflow": null,
            "overflow_x": null,
            "overflow_y": null,
            "padding": null,
            "right": null,
            "top": null,
            "visibility": null,
            "width": null
          }
        },
        "87b58a9124de4e368e689c7bec06012f": {
          "model_module": "@jupyter-widgets/controls",
          "model_name": "DescriptionStyleModel",
          "model_module_version": "1.5.0",
          "state": {
            "_model_module": "@jupyter-widgets/controls",
            "_model_module_version": "1.5.0",
            "_model_name": "DescriptionStyleModel",
            "_view_count": null,
            "_view_module": "@jupyter-widgets/base",
            "_view_module_version": "1.2.0",
            "_view_name": "StyleView",
            "description_width": ""
          }
        },
        "e91dab9559de4e87848dfd90241c6ac3": {
          "model_module": "@jupyter-widgets/controls",
          "model_name": "HBoxModel",
          "model_module_version": "1.5.0",
          "state": {
            "_dom_classes": [],
            "_model_module": "@jupyter-widgets/controls",
            "_model_module_version": "1.5.0",
            "_model_name": "HBoxModel",
            "_view_count": null,
            "_view_module": "@jupyter-widgets/controls",
            "_view_module_version": "1.5.0",
            "_view_name": "HBoxView",
            "box_style": "",
            "children": [
              "IPY_MODEL_643b5af30b20496fbb30ff71c6d748aa",
              "IPY_MODEL_6b64eace839a4879ad343625d3c9dd09",
              "IPY_MODEL_d5b0594a85644634979e501efe300598"
            ],
            "layout": "IPY_MODEL_2ad1e5193b784982beff5ca04ed2a51d"
          }
        },
        "643b5af30b20496fbb30ff71c6d748aa": {
          "model_module": "@jupyter-widgets/controls",
          "model_name": "HTMLModel",
          "model_module_version": "1.5.0",
          "state": {
            "_dom_classes": [],
            "_model_module": "@jupyter-widgets/controls",
            "_model_module_version": "1.5.0",
            "_model_name": "HTMLModel",
            "_view_count": null,
            "_view_module": "@jupyter-widgets/controls",
            "_view_module_version": "1.5.0",
            "_view_name": "HTMLView",
            "description": "",
            "description_tooltip": null,
            "layout": "IPY_MODEL_dd90fe0eca8741759ab27a6633e7d688",
            "placeholder": "​",
            "style": "IPY_MODEL_32f4cc3033de42aabf41a34f6edf43d5",
            "value": "sentence_bert_config.json: 100%"
          }
        },
        "6b64eace839a4879ad343625d3c9dd09": {
          "model_module": "@jupyter-widgets/controls",
          "model_name": "FloatProgressModel",
          "model_module_version": "1.5.0",
          "state": {
            "_dom_classes": [],
            "_model_module": "@jupyter-widgets/controls",
            "_model_module_version": "1.5.0",
            "_model_name": "FloatProgressModel",
            "_view_count": null,
            "_view_module": "@jupyter-widgets/controls",
            "_view_module_version": "1.5.0",
            "_view_name": "ProgressView",
            "bar_style": "success",
            "description": "",
            "description_tooltip": null,
            "layout": "IPY_MODEL_43a25c9f286446b9831354bc5b40dd77",
            "max": 53,
            "min": 0,
            "orientation": "horizontal",
            "style": "IPY_MODEL_b1c89876e876400da84f7c4e6398fdb7",
            "value": 53
          }
        },
        "d5b0594a85644634979e501efe300598": {
          "model_module": "@jupyter-widgets/controls",
          "model_name": "HTMLModel",
          "model_module_version": "1.5.0",
          "state": {
            "_dom_classes": [],
            "_model_module": "@jupyter-widgets/controls",
            "_model_module_version": "1.5.0",
            "_model_name": "HTMLModel",
            "_view_count": null,
            "_view_module": "@jupyter-widgets/controls",
            "_view_module_version": "1.5.0",
            "_view_name": "HTMLView",
            "description": "",
            "description_tooltip": null,
            "layout": "IPY_MODEL_7832a085ae8045e68b482fdcd0552761",
            "placeholder": "​",
            "style": "IPY_MODEL_c7646d2ff3784974bd00309b2a5a1381",
            "value": " 53.0/53.0 [00:00&lt;00:00, 1.85kB/s]"
          }
        },
        "2ad1e5193b784982beff5ca04ed2a51d": {
          "model_module": "@jupyter-widgets/base",
          "model_name": "LayoutModel",
          "model_module_version": "1.2.0",
          "state": {
            "_model_module": "@jupyter-widgets/base",
            "_model_module_version": "1.2.0",
            "_model_name": "LayoutModel",
            "_view_count": null,
            "_view_module": "@jupyter-widgets/base",
            "_view_module_version": "1.2.0",
            "_view_name": "LayoutView",
            "align_content": null,
            "align_items": null,
            "align_self": null,
            "border": null,
            "bottom": null,
            "display": null,
            "flex": null,
            "flex_flow": null,
            "grid_area": null,
            "grid_auto_columns": null,
            "grid_auto_flow": null,
            "grid_auto_rows": null,
            "grid_column": null,
            "grid_gap": null,
            "grid_row": null,
            "grid_template_areas": null,
            "grid_template_columns": null,
            "grid_template_rows": null,
            "height": null,
            "justify_content": null,
            "justify_items": null,
            "left": null,
            "margin": null,
            "max_height": null,
            "max_width": null,
            "min_height": null,
            "min_width": null,
            "object_fit": null,
            "object_position": null,
            "order": null,
            "overflow": null,
            "overflow_x": null,
            "overflow_y": null,
            "padding": null,
            "right": null,
            "top": null,
            "visibility": null,
            "width": null
          }
        },
        "dd90fe0eca8741759ab27a6633e7d688": {
          "model_module": "@jupyter-widgets/base",
          "model_name": "LayoutModel",
          "model_module_version": "1.2.0",
          "state": {
            "_model_module": "@jupyter-widgets/base",
            "_model_module_version": "1.2.0",
            "_model_name": "LayoutModel",
            "_view_count": null,
            "_view_module": "@jupyter-widgets/base",
            "_view_module_version": "1.2.0",
            "_view_name": "LayoutView",
            "align_content": null,
            "align_items": null,
            "align_self": null,
            "border": null,
            "bottom": null,
            "display": null,
            "flex": null,
            "flex_flow": null,
            "grid_area": null,
            "grid_auto_columns": null,
            "grid_auto_flow": null,
            "grid_auto_rows": null,
            "grid_column": null,
            "grid_gap": null,
            "grid_row": null,
            "grid_template_areas": null,
            "grid_template_columns": null,
            "grid_template_rows": null,
            "height": null,
            "justify_content": null,
            "justify_items": null,
            "left": null,
            "margin": null,
            "max_height": null,
            "max_width": null,
            "min_height": null,
            "min_width": null,
            "object_fit": null,
            "object_position": null,
            "order": null,
            "overflow": null,
            "overflow_x": null,
            "overflow_y": null,
            "padding": null,
            "right": null,
            "top": null,
            "visibility": null,
            "width": null
          }
        },
        "32f4cc3033de42aabf41a34f6edf43d5": {
          "model_module": "@jupyter-widgets/controls",
          "model_name": "DescriptionStyleModel",
          "model_module_version": "1.5.0",
          "state": {
            "_model_module": "@jupyter-widgets/controls",
            "_model_module_version": "1.5.0",
            "_model_name": "DescriptionStyleModel",
            "_view_count": null,
            "_view_module": "@jupyter-widgets/base",
            "_view_module_version": "1.2.0",
            "_view_name": "StyleView",
            "description_width": ""
          }
        },
        "43a25c9f286446b9831354bc5b40dd77": {
          "model_module": "@jupyter-widgets/base",
          "model_name": "LayoutModel",
          "model_module_version": "1.2.0",
          "state": {
            "_model_module": "@jupyter-widgets/base",
            "_model_module_version": "1.2.0",
            "_model_name": "LayoutModel",
            "_view_count": null,
            "_view_module": "@jupyter-widgets/base",
            "_view_module_version": "1.2.0",
            "_view_name": "LayoutView",
            "align_content": null,
            "align_items": null,
            "align_self": null,
            "border": null,
            "bottom": null,
            "display": null,
            "flex": null,
            "flex_flow": null,
            "grid_area": null,
            "grid_auto_columns": null,
            "grid_auto_flow": null,
            "grid_auto_rows": null,
            "grid_column": null,
            "grid_gap": null,
            "grid_row": null,
            "grid_template_areas": null,
            "grid_template_columns": null,
            "grid_template_rows": null,
            "height": null,
            "justify_content": null,
            "justify_items": null,
            "left": null,
            "margin": null,
            "max_height": null,
            "max_width": null,
            "min_height": null,
            "min_width": null,
            "object_fit": null,
            "object_position": null,
            "order": null,
            "overflow": null,
            "overflow_x": null,
            "overflow_y": null,
            "padding": null,
            "right": null,
            "top": null,
            "visibility": null,
            "width": null
          }
        },
        "b1c89876e876400da84f7c4e6398fdb7": {
          "model_module": "@jupyter-widgets/controls",
          "model_name": "ProgressStyleModel",
          "model_module_version": "1.5.0",
          "state": {
            "_model_module": "@jupyter-widgets/controls",
            "_model_module_version": "1.5.0",
            "_model_name": "ProgressStyleModel",
            "_view_count": null,
            "_view_module": "@jupyter-widgets/base",
            "_view_module_version": "1.2.0",
            "_view_name": "StyleView",
            "bar_color": null,
            "description_width": ""
          }
        },
        "7832a085ae8045e68b482fdcd0552761": {
          "model_module": "@jupyter-widgets/base",
          "model_name": "LayoutModel",
          "model_module_version": "1.2.0",
          "state": {
            "_model_module": "@jupyter-widgets/base",
            "_model_module_version": "1.2.0",
            "_model_name": "LayoutModel",
            "_view_count": null,
            "_view_module": "@jupyter-widgets/base",
            "_view_module_version": "1.2.0",
            "_view_name": "LayoutView",
            "align_content": null,
            "align_items": null,
            "align_self": null,
            "border": null,
            "bottom": null,
            "display": null,
            "flex": null,
            "flex_flow": null,
            "grid_area": null,
            "grid_auto_columns": null,
            "grid_auto_flow": null,
            "grid_auto_rows": null,
            "grid_column": null,
            "grid_gap": null,
            "grid_row": null,
            "grid_template_areas": null,
            "grid_template_columns": null,
            "grid_template_rows": null,
            "height": null,
            "justify_content": null,
            "justify_items": null,
            "left": null,
            "margin": null,
            "max_height": null,
            "max_width": null,
            "min_height": null,
            "min_width": null,
            "object_fit": null,
            "object_position": null,
            "order": null,
            "overflow": null,
            "overflow_x": null,
            "overflow_y": null,
            "padding": null,
            "right": null,
            "top": null,
            "visibility": null,
            "width": null
          }
        },
        "c7646d2ff3784974bd00309b2a5a1381": {
          "model_module": "@jupyter-widgets/controls",
          "model_name": "DescriptionStyleModel",
          "model_module_version": "1.5.0",
          "state": {
            "_model_module": "@jupyter-widgets/controls",
            "_model_module_version": "1.5.0",
            "_model_name": "DescriptionStyleModel",
            "_view_count": null,
            "_view_module": "@jupyter-widgets/base",
            "_view_module_version": "1.2.0",
            "_view_name": "StyleView",
            "description_width": ""
          }
        },
        "665de1639fd944259d76219ed9686046": {
          "model_module": "@jupyter-widgets/controls",
          "model_name": "HBoxModel",
          "model_module_version": "1.5.0",
          "state": {
            "_dom_classes": [],
            "_model_module": "@jupyter-widgets/controls",
            "_model_module_version": "1.5.0",
            "_model_name": "HBoxModel",
            "_view_count": null,
            "_view_module": "@jupyter-widgets/controls",
            "_view_module_version": "1.5.0",
            "_view_name": "HBoxView",
            "box_style": "",
            "children": [
              "IPY_MODEL_9f222091105642588d533988b992a5b8",
              "IPY_MODEL_6759edba4f8c4d1c9557eb208b467d4b",
              "IPY_MODEL_af0d2bdf204c416faec8db1b47eeca27"
            ],
            "layout": "IPY_MODEL_0fe4120564ca4bbbb10f98ead2d72e3d"
          }
        },
        "9f222091105642588d533988b992a5b8": {
          "model_module": "@jupyter-widgets/controls",
          "model_name": "HTMLModel",
          "model_module_version": "1.5.0",
          "state": {
            "_dom_classes": [],
            "_model_module": "@jupyter-widgets/controls",
            "_model_module_version": "1.5.0",
            "_model_name": "HTMLModel",
            "_view_count": null,
            "_view_module": "@jupyter-widgets/controls",
            "_view_module_version": "1.5.0",
            "_view_name": "HTMLView",
            "description": "",
            "description_tooltip": null,
            "layout": "IPY_MODEL_e673286b9cdb4c60bc71dde541c1a886",
            "placeholder": "​",
            "style": "IPY_MODEL_47c5434d44a04d8f8c9a5418b804679f",
            "value": "config.json: 100%"
          }
        },
        "6759edba4f8c4d1c9557eb208b467d4b": {
          "model_module": "@jupyter-widgets/controls",
          "model_name": "FloatProgressModel",
          "model_module_version": "1.5.0",
          "state": {
            "_dom_classes": [],
            "_model_module": "@jupyter-widgets/controls",
            "_model_module_version": "1.5.0",
            "_model_name": "FloatProgressModel",
            "_view_count": null,
            "_view_module": "@jupyter-widgets/controls",
            "_view_module_version": "1.5.0",
            "_view_name": "ProgressView",
            "bar_style": "success",
            "description": "",
            "description_tooltip": null,
            "layout": "IPY_MODEL_ce9cb4f61c844b6c9b618a1072a65538",
            "max": 571,
            "min": 0,
            "orientation": "horizontal",
            "style": "IPY_MODEL_172f9e6a2a564300a153a1b1580a27b1",
            "value": 571
          }
        },
        "af0d2bdf204c416faec8db1b47eeca27": {
          "model_module": "@jupyter-widgets/controls",
          "model_name": "HTMLModel",
          "model_module_version": "1.5.0",
          "state": {
            "_dom_classes": [],
            "_model_module": "@jupyter-widgets/controls",
            "_model_module_version": "1.5.0",
            "_model_name": "HTMLModel",
            "_view_count": null,
            "_view_module": "@jupyter-widgets/controls",
            "_view_module_version": "1.5.0",
            "_view_name": "HTMLView",
            "description": "",
            "description_tooltip": null,
            "layout": "IPY_MODEL_0a922954bd9a4854bde73c159c562d00",
            "placeholder": "​",
            "style": "IPY_MODEL_372dd1536f9a4d7e826de4849f40bd10",
            "value": " 571/571 [00:00&lt;00:00, 7.44kB/s]"
          }
        },
        "0fe4120564ca4bbbb10f98ead2d72e3d": {
          "model_module": "@jupyter-widgets/base",
          "model_name": "LayoutModel",
          "model_module_version": "1.2.0",
          "state": {
            "_model_module": "@jupyter-widgets/base",
            "_model_module_version": "1.2.0",
            "_model_name": "LayoutModel",
            "_view_count": null,
            "_view_module": "@jupyter-widgets/base",
            "_view_module_version": "1.2.0",
            "_view_name": "LayoutView",
            "align_content": null,
            "align_items": null,
            "align_self": null,
            "border": null,
            "bottom": null,
            "display": null,
            "flex": null,
            "flex_flow": null,
            "grid_area": null,
            "grid_auto_columns": null,
            "grid_auto_flow": null,
            "grid_auto_rows": null,
            "grid_column": null,
            "grid_gap": null,
            "grid_row": null,
            "grid_template_areas": null,
            "grid_template_columns": null,
            "grid_template_rows": null,
            "height": null,
            "justify_content": null,
            "justify_items": null,
            "left": null,
            "margin": null,
            "max_height": null,
            "max_width": null,
            "min_height": null,
            "min_width": null,
            "object_fit": null,
            "object_position": null,
            "order": null,
            "overflow": null,
            "overflow_x": null,
            "overflow_y": null,
            "padding": null,
            "right": null,
            "top": null,
            "visibility": null,
            "width": null
          }
        },
        "e673286b9cdb4c60bc71dde541c1a886": {
          "model_module": "@jupyter-widgets/base",
          "model_name": "LayoutModel",
          "model_module_version": "1.2.0",
          "state": {
            "_model_module": "@jupyter-widgets/base",
            "_model_module_version": "1.2.0",
            "_model_name": "LayoutModel",
            "_view_count": null,
            "_view_module": "@jupyter-widgets/base",
            "_view_module_version": "1.2.0",
            "_view_name": "LayoutView",
            "align_content": null,
            "align_items": null,
            "align_self": null,
            "border": null,
            "bottom": null,
            "display": null,
            "flex": null,
            "flex_flow": null,
            "grid_area": null,
            "grid_auto_columns": null,
            "grid_auto_flow": null,
            "grid_auto_rows": null,
            "grid_column": null,
            "grid_gap": null,
            "grid_row": null,
            "grid_template_areas": null,
            "grid_template_columns": null,
            "grid_template_rows": null,
            "height": null,
            "justify_content": null,
            "justify_items": null,
            "left": null,
            "margin": null,
            "max_height": null,
            "max_width": null,
            "min_height": null,
            "min_width": null,
            "object_fit": null,
            "object_position": null,
            "order": null,
            "overflow": null,
            "overflow_x": null,
            "overflow_y": null,
            "padding": null,
            "right": null,
            "top": null,
            "visibility": null,
            "width": null
          }
        },
        "47c5434d44a04d8f8c9a5418b804679f": {
          "model_module": "@jupyter-widgets/controls",
          "model_name": "DescriptionStyleModel",
          "model_module_version": "1.5.0",
          "state": {
            "_model_module": "@jupyter-widgets/controls",
            "_model_module_version": "1.5.0",
            "_model_name": "DescriptionStyleModel",
            "_view_count": null,
            "_view_module": "@jupyter-widgets/base",
            "_view_module_version": "1.2.0",
            "_view_name": "StyleView",
            "description_width": ""
          }
        },
        "ce9cb4f61c844b6c9b618a1072a65538": {
          "model_module": "@jupyter-widgets/base",
          "model_name": "LayoutModel",
          "model_module_version": "1.2.0",
          "state": {
            "_model_module": "@jupyter-widgets/base",
            "_model_module_version": "1.2.0",
            "_model_name": "LayoutModel",
            "_view_count": null,
            "_view_module": "@jupyter-widgets/base",
            "_view_module_version": "1.2.0",
            "_view_name": "LayoutView",
            "align_content": null,
            "align_items": null,
            "align_self": null,
            "border": null,
            "bottom": null,
            "display": null,
            "flex": null,
            "flex_flow": null,
            "grid_area": null,
            "grid_auto_columns": null,
            "grid_auto_flow": null,
            "grid_auto_rows": null,
            "grid_column": null,
            "grid_gap": null,
            "grid_row": null,
            "grid_template_areas": null,
            "grid_template_columns": null,
            "grid_template_rows": null,
            "height": null,
            "justify_content": null,
            "justify_items": null,
            "left": null,
            "margin": null,
            "max_height": null,
            "max_width": null,
            "min_height": null,
            "min_width": null,
            "object_fit": null,
            "object_position": null,
            "order": null,
            "overflow": null,
            "overflow_x": null,
            "overflow_y": null,
            "padding": null,
            "right": null,
            "top": null,
            "visibility": null,
            "width": null
          }
        },
        "172f9e6a2a564300a153a1b1580a27b1": {
          "model_module": "@jupyter-widgets/controls",
          "model_name": "ProgressStyleModel",
          "model_module_version": "1.5.0",
          "state": {
            "_model_module": "@jupyter-widgets/controls",
            "_model_module_version": "1.5.0",
            "_model_name": "ProgressStyleModel",
            "_view_count": null,
            "_view_module": "@jupyter-widgets/base",
            "_view_module_version": "1.2.0",
            "_view_name": "StyleView",
            "bar_color": null,
            "description_width": ""
          }
        },
        "0a922954bd9a4854bde73c159c562d00": {
          "model_module": "@jupyter-widgets/base",
          "model_name": "LayoutModel",
          "model_module_version": "1.2.0",
          "state": {
            "_model_module": "@jupyter-widgets/base",
            "_model_module_version": "1.2.0",
            "_model_name": "LayoutModel",
            "_view_count": null,
            "_view_module": "@jupyter-widgets/base",
            "_view_module_version": "1.2.0",
            "_view_name": "LayoutView",
            "align_content": null,
            "align_items": null,
            "align_self": null,
            "border": null,
            "bottom": null,
            "display": null,
            "flex": null,
            "flex_flow": null,
            "grid_area": null,
            "grid_auto_columns": null,
            "grid_auto_flow": null,
            "grid_auto_rows": null,
            "grid_column": null,
            "grid_gap": null,
            "grid_row": null,
            "grid_template_areas": null,
            "grid_template_columns": null,
            "grid_template_rows": null,
            "height": null,
            "justify_content": null,
            "justify_items": null,
            "left": null,
            "margin": null,
            "max_height": null,
            "max_width": null,
            "min_height": null,
            "min_width": null,
            "object_fit": null,
            "object_position": null,
            "order": null,
            "overflow": null,
            "overflow_x": null,
            "overflow_y": null,
            "padding": null,
            "right": null,
            "top": null,
            "visibility": null,
            "width": null
          }
        },
        "372dd1536f9a4d7e826de4849f40bd10": {
          "model_module": "@jupyter-widgets/controls",
          "model_name": "DescriptionStyleModel",
          "model_module_version": "1.5.0",
          "state": {
            "_model_module": "@jupyter-widgets/controls",
            "_model_module_version": "1.5.0",
            "_model_name": "DescriptionStyleModel",
            "_view_count": null,
            "_view_module": "@jupyter-widgets/base",
            "_view_module_version": "1.2.0",
            "_view_name": "StyleView",
            "description_width": ""
          }
        },
        "f05761398bd940a59d2d976de673bf79": {
          "model_module": "@jupyter-widgets/controls",
          "model_name": "HBoxModel",
          "model_module_version": "1.5.0",
          "state": {
            "_dom_classes": [],
            "_model_module": "@jupyter-widgets/controls",
            "_model_module_version": "1.5.0",
            "_model_name": "HBoxModel",
            "_view_count": null,
            "_view_module": "@jupyter-widgets/controls",
            "_view_module_version": "1.5.0",
            "_view_name": "HBoxView",
            "box_style": "",
            "children": [
              "IPY_MODEL_a06c5a9e029c45588f55600ff777df52",
              "IPY_MODEL_43b75dc92c6c43709f1173f061a0f36f",
              "IPY_MODEL_91acb995495448a8bbc7dfeb10242449"
            ],
            "layout": "IPY_MODEL_aab810c23a554a51ba341c4acb6aa656"
          }
        },
        "a06c5a9e029c45588f55600ff777df52": {
          "model_module": "@jupyter-widgets/controls",
          "model_name": "HTMLModel",
          "model_module_version": "1.5.0",
          "state": {
            "_dom_classes": [],
            "_model_module": "@jupyter-widgets/controls",
            "_model_module_version": "1.5.0",
            "_model_name": "HTMLModel",
            "_view_count": null,
            "_view_module": "@jupyter-widgets/controls",
            "_view_module_version": "1.5.0",
            "_view_name": "HTMLView",
            "description": "",
            "description_tooltip": null,
            "layout": "IPY_MODEL_7a7c68b8af78440dbdf6539407c1b851",
            "placeholder": "​",
            "style": "IPY_MODEL_48e986cc25a445188fa67096850f62f7",
            "value": "model.safetensors: 100%"
          }
        },
        "43b75dc92c6c43709f1173f061a0f36f": {
          "model_module": "@jupyter-widgets/controls",
          "model_name": "FloatProgressModel",
          "model_module_version": "1.5.0",
          "state": {
            "_dom_classes": [],
            "_model_module": "@jupyter-widgets/controls",
            "_model_module_version": "1.5.0",
            "_model_name": "FloatProgressModel",
            "_view_count": null,
            "_view_module": "@jupyter-widgets/controls",
            "_view_module_version": "1.5.0",
            "_view_name": "ProgressView",
            "bar_style": "success",
            "description": "",
            "description_tooltip": null,
            "layout": "IPY_MODEL_7ef47cb28385407db3b2bb2a42649016",
            "max": 437971872,
            "min": 0,
            "orientation": "horizontal",
            "style": "IPY_MODEL_eab0464f6d9e40e8ae5eba5a5e6e26cd",
            "value": 437971872
          }
        },
        "91acb995495448a8bbc7dfeb10242449": {
          "model_module": "@jupyter-widgets/controls",
          "model_name": "HTMLModel",
          "model_module_version": "1.5.0",
          "state": {
            "_dom_classes": [],
            "_model_module": "@jupyter-widgets/controls",
            "_model_module_version": "1.5.0",
            "_model_name": "HTMLModel",
            "_view_count": null,
            "_view_module": "@jupyter-widgets/controls",
            "_view_module_version": "1.5.0",
            "_view_name": "HTMLView",
            "description": "",
            "description_tooltip": null,
            "layout": "IPY_MODEL_aa1cc5f29b844505abfbbe3fbc199338",
            "placeholder": "​",
            "style": "IPY_MODEL_6743a770aeb2460c9d4c574f3f528bcb",
            "value": " 438M/438M [00:10&lt;00:00, 58.8MB/s]"
          }
        },
        "aab810c23a554a51ba341c4acb6aa656": {
          "model_module": "@jupyter-widgets/base",
          "model_name": "LayoutModel",
          "model_module_version": "1.2.0",
          "state": {
            "_model_module": "@jupyter-widgets/base",
            "_model_module_version": "1.2.0",
            "_model_name": "LayoutModel",
            "_view_count": null,
            "_view_module": "@jupyter-widgets/base",
            "_view_module_version": "1.2.0",
            "_view_name": "LayoutView",
            "align_content": null,
            "align_items": null,
            "align_self": null,
            "border": null,
            "bottom": null,
            "display": null,
            "flex": null,
            "flex_flow": null,
            "grid_area": null,
            "grid_auto_columns": null,
            "grid_auto_flow": null,
            "grid_auto_rows": null,
            "grid_column": null,
            "grid_gap": null,
            "grid_row": null,
            "grid_template_areas": null,
            "grid_template_columns": null,
            "grid_template_rows": null,
            "height": null,
            "justify_content": null,
            "justify_items": null,
            "left": null,
            "margin": null,
            "max_height": null,
            "max_width": null,
            "min_height": null,
            "min_width": null,
            "object_fit": null,
            "object_position": null,
            "order": null,
            "overflow": null,
            "overflow_x": null,
            "overflow_y": null,
            "padding": null,
            "right": null,
            "top": null,
            "visibility": null,
            "width": null
          }
        },
        "7a7c68b8af78440dbdf6539407c1b851": {
          "model_module": "@jupyter-widgets/base",
          "model_name": "LayoutModel",
          "model_module_version": "1.2.0",
          "state": {
            "_model_module": "@jupyter-widgets/base",
            "_model_module_version": "1.2.0",
            "_model_name": "LayoutModel",
            "_view_count": null,
            "_view_module": "@jupyter-widgets/base",
            "_view_module_version": "1.2.0",
            "_view_name": "LayoutView",
            "align_content": null,
            "align_items": null,
            "align_self": null,
            "border": null,
            "bottom": null,
            "display": null,
            "flex": null,
            "flex_flow": null,
            "grid_area": null,
            "grid_auto_columns": null,
            "grid_auto_flow": null,
            "grid_auto_rows": null,
            "grid_column": null,
            "grid_gap": null,
            "grid_row": null,
            "grid_template_areas": null,
            "grid_template_columns": null,
            "grid_template_rows": null,
            "height": null,
            "justify_content": null,
            "justify_items": null,
            "left": null,
            "margin": null,
            "max_height": null,
            "max_width": null,
            "min_height": null,
            "min_width": null,
            "object_fit": null,
            "object_position": null,
            "order": null,
            "overflow": null,
            "overflow_x": null,
            "overflow_y": null,
            "padding": null,
            "right": null,
            "top": null,
            "visibility": null,
            "width": null
          }
        },
        "48e986cc25a445188fa67096850f62f7": {
          "model_module": "@jupyter-widgets/controls",
          "model_name": "DescriptionStyleModel",
          "model_module_version": "1.5.0",
          "state": {
            "_model_module": "@jupyter-widgets/controls",
            "_model_module_version": "1.5.0",
            "_model_name": "DescriptionStyleModel",
            "_view_count": null,
            "_view_module": "@jupyter-widgets/base",
            "_view_module_version": "1.2.0",
            "_view_name": "StyleView",
            "description_width": ""
          }
        },
        "7ef47cb28385407db3b2bb2a42649016": {
          "model_module": "@jupyter-widgets/base",
          "model_name": "LayoutModel",
          "model_module_version": "1.2.0",
          "state": {
            "_model_module": "@jupyter-widgets/base",
            "_model_module_version": "1.2.0",
            "_model_name": "LayoutModel",
            "_view_count": null,
            "_view_module": "@jupyter-widgets/base",
            "_view_module_version": "1.2.0",
            "_view_name": "LayoutView",
            "align_content": null,
            "align_items": null,
            "align_self": null,
            "border": null,
            "bottom": null,
            "display": null,
            "flex": null,
            "flex_flow": null,
            "grid_area": null,
            "grid_auto_columns": null,
            "grid_auto_flow": null,
            "grid_auto_rows": null,
            "grid_column": null,
            "grid_gap": null,
            "grid_row": null,
            "grid_template_areas": null,
            "grid_template_columns": null,
            "grid_template_rows": null,
            "height": null,
            "justify_content": null,
            "justify_items": null,
            "left": null,
            "margin": null,
            "max_height": null,
            "max_width": null,
            "min_height": null,
            "min_width": null,
            "object_fit": null,
            "object_position": null,
            "order": null,
            "overflow": null,
            "overflow_x": null,
            "overflow_y": null,
            "padding": null,
            "right": null,
            "top": null,
            "visibility": null,
            "width": null
          }
        },
        "eab0464f6d9e40e8ae5eba5a5e6e26cd": {
          "model_module": "@jupyter-widgets/controls",
          "model_name": "ProgressStyleModel",
          "model_module_version": "1.5.0",
          "state": {
            "_model_module": "@jupyter-widgets/controls",
            "_model_module_version": "1.5.0",
            "_model_name": "ProgressStyleModel",
            "_view_count": null,
            "_view_module": "@jupyter-widgets/base",
            "_view_module_version": "1.2.0",
            "_view_name": "StyleView",
            "bar_color": null,
            "description_width": ""
          }
        },
        "aa1cc5f29b844505abfbbe3fbc199338": {
          "model_module": "@jupyter-widgets/base",
          "model_name": "LayoutModel",
          "model_module_version": "1.2.0",
          "state": {
            "_model_module": "@jupyter-widgets/base",
            "_model_module_version": "1.2.0",
            "_model_name": "LayoutModel",
            "_view_count": null,
            "_view_module": "@jupyter-widgets/base",
            "_view_module_version": "1.2.0",
            "_view_name": "LayoutView",
            "align_content": null,
            "align_items": null,
            "align_self": null,
            "border": null,
            "bottom": null,
            "display": null,
            "flex": null,
            "flex_flow": null,
            "grid_area": null,
            "grid_auto_columns": null,
            "grid_auto_flow": null,
            "grid_auto_rows": null,
            "grid_column": null,
            "grid_gap": null,
            "grid_row": null,
            "grid_template_areas": null,
            "grid_template_columns": null,
            "grid_template_rows": null,
            "height": null,
            "justify_content": null,
            "justify_items": null,
            "left": null,
            "margin": null,
            "max_height": null,
            "max_width": null,
            "min_height": null,
            "min_width": null,
            "object_fit": null,
            "object_position": null,
            "order": null,
            "overflow": null,
            "overflow_x": null,
            "overflow_y": null,
            "padding": null,
            "right": null,
            "top": null,
            "visibility": null,
            "width": null
          }
        },
        "6743a770aeb2460c9d4c574f3f528bcb": {
          "model_module": "@jupyter-widgets/controls",
          "model_name": "DescriptionStyleModel",
          "model_module_version": "1.5.0",
          "state": {
            "_model_module": "@jupyter-widgets/controls",
            "_model_module_version": "1.5.0",
            "_model_name": "DescriptionStyleModel",
            "_view_count": null,
            "_view_module": "@jupyter-widgets/base",
            "_view_module_version": "1.2.0",
            "_view_name": "StyleView",
            "description_width": ""
          }
        },
        "6f36a0b4193f490086b66dd60c894a9b": {
          "model_module": "@jupyter-widgets/controls",
          "model_name": "HBoxModel",
          "model_module_version": "1.5.0",
          "state": {
            "_dom_classes": [],
            "_model_module": "@jupyter-widgets/controls",
            "_model_module_version": "1.5.0",
            "_model_name": "HBoxModel",
            "_view_count": null,
            "_view_module": "@jupyter-widgets/controls",
            "_view_module_version": "1.5.0",
            "_view_name": "HBoxView",
            "box_style": "",
            "children": [
              "IPY_MODEL_b141b2e7124e4f2b9e370e341a0487d3",
              "IPY_MODEL_75ba44f852274991bd9877bb5a93b0db",
              "IPY_MODEL_b022e1ea46534cbca4d48a3272cef1e4"
            ],
            "layout": "IPY_MODEL_6d0827370cd643fab8b976d5593a1ef3"
          }
        },
        "b141b2e7124e4f2b9e370e341a0487d3": {
          "model_module": "@jupyter-widgets/controls",
          "model_name": "HTMLModel",
          "model_module_version": "1.5.0",
          "state": {
            "_dom_classes": [],
            "_model_module": "@jupyter-widgets/controls",
            "_model_module_version": "1.5.0",
            "_model_name": "HTMLModel",
            "_view_count": null,
            "_view_module": "@jupyter-widgets/controls",
            "_view_module_version": "1.5.0",
            "_view_name": "HTMLView",
            "description": "",
            "description_tooltip": null,
            "layout": "IPY_MODEL_962a5689923047e8bb3b28e0b9947450",
            "placeholder": "​",
            "style": "IPY_MODEL_3af4b04934254c05b934039f1f4f2600",
            "value": "tokenizer_config.json: 100%"
          }
        },
        "75ba44f852274991bd9877bb5a93b0db": {
          "model_module": "@jupyter-widgets/controls",
          "model_name": "FloatProgressModel",
          "model_module_version": "1.5.0",
          "state": {
            "_dom_classes": [],
            "_model_module": "@jupyter-widgets/controls",
            "_model_module_version": "1.5.0",
            "_model_name": "FloatProgressModel",
            "_view_count": null,
            "_view_module": "@jupyter-widgets/controls",
            "_view_module_version": "1.5.0",
            "_view_name": "ProgressView",
            "bar_style": "success",
            "description": "",
            "description_tooltip": null,
            "layout": "IPY_MODEL_267904f5558b44c9891795232ffd61d8",
            "max": 363,
            "min": 0,
            "orientation": "horizontal",
            "style": "IPY_MODEL_a487f39ef6e64e93a0586b438a5d8261",
            "value": 363
          }
        },
        "b022e1ea46534cbca4d48a3272cef1e4": {
          "model_module": "@jupyter-widgets/controls",
          "model_name": "HTMLModel",
          "model_module_version": "1.5.0",
          "state": {
            "_dom_classes": [],
            "_model_module": "@jupyter-widgets/controls",
            "_model_module_version": "1.5.0",
            "_model_name": "HTMLModel",
            "_view_count": null,
            "_view_module": "@jupyter-widgets/controls",
            "_view_module_version": "1.5.0",
            "_view_name": "HTMLView",
            "description": "",
            "description_tooltip": null,
            "layout": "IPY_MODEL_87baac4de0784d82bce8804a58a36991",
            "placeholder": "​",
            "style": "IPY_MODEL_00a9cc24006c415b9e624f4251160412",
            "value": " 363/363 [00:00&lt;00:00, 30.2kB/s]"
          }
        },
        "6d0827370cd643fab8b976d5593a1ef3": {
          "model_module": "@jupyter-widgets/base",
          "model_name": "LayoutModel",
          "model_module_version": "1.2.0",
          "state": {
            "_model_module": "@jupyter-widgets/base",
            "_model_module_version": "1.2.0",
            "_model_name": "LayoutModel",
            "_view_count": null,
            "_view_module": "@jupyter-widgets/base",
            "_view_module_version": "1.2.0",
            "_view_name": "LayoutView",
            "align_content": null,
            "align_items": null,
            "align_self": null,
            "border": null,
            "bottom": null,
            "display": null,
            "flex": null,
            "flex_flow": null,
            "grid_area": null,
            "grid_auto_columns": null,
            "grid_auto_flow": null,
            "grid_auto_rows": null,
            "grid_column": null,
            "grid_gap": null,
            "grid_row": null,
            "grid_template_areas": null,
            "grid_template_columns": null,
            "grid_template_rows": null,
            "height": null,
            "justify_content": null,
            "justify_items": null,
            "left": null,
            "margin": null,
            "max_height": null,
            "max_width": null,
            "min_height": null,
            "min_width": null,
            "object_fit": null,
            "object_position": null,
            "order": null,
            "overflow": null,
            "overflow_x": null,
            "overflow_y": null,
            "padding": null,
            "right": null,
            "top": null,
            "visibility": null,
            "width": null
          }
        },
        "962a5689923047e8bb3b28e0b9947450": {
          "model_module": "@jupyter-widgets/base",
          "model_name": "LayoutModel",
          "model_module_version": "1.2.0",
          "state": {
            "_model_module": "@jupyter-widgets/base",
            "_model_module_version": "1.2.0",
            "_model_name": "LayoutModel",
            "_view_count": null,
            "_view_module": "@jupyter-widgets/base",
            "_view_module_version": "1.2.0",
            "_view_name": "LayoutView",
            "align_content": null,
            "align_items": null,
            "align_self": null,
            "border": null,
            "bottom": null,
            "display": null,
            "flex": null,
            "flex_flow": null,
            "grid_area": null,
            "grid_auto_columns": null,
            "grid_auto_flow": null,
            "grid_auto_rows": null,
            "grid_column": null,
            "grid_gap": null,
            "grid_row": null,
            "grid_template_areas": null,
            "grid_template_columns": null,
            "grid_template_rows": null,
            "height": null,
            "justify_content": null,
            "justify_items": null,
            "left": null,
            "margin": null,
            "max_height": null,
            "max_width": null,
            "min_height": null,
            "min_width": null,
            "object_fit": null,
            "object_position": null,
            "order": null,
            "overflow": null,
            "overflow_x": null,
            "overflow_y": null,
            "padding": null,
            "right": null,
            "top": null,
            "visibility": null,
            "width": null
          }
        },
        "3af4b04934254c05b934039f1f4f2600": {
          "model_module": "@jupyter-widgets/controls",
          "model_name": "DescriptionStyleModel",
          "model_module_version": "1.5.0",
          "state": {
            "_model_module": "@jupyter-widgets/controls",
            "_model_module_version": "1.5.0",
            "_model_name": "DescriptionStyleModel",
            "_view_count": null,
            "_view_module": "@jupyter-widgets/base",
            "_view_module_version": "1.2.0",
            "_view_name": "StyleView",
            "description_width": ""
          }
        },
        "267904f5558b44c9891795232ffd61d8": {
          "model_module": "@jupyter-widgets/base",
          "model_name": "LayoutModel",
          "model_module_version": "1.2.0",
          "state": {
            "_model_module": "@jupyter-widgets/base",
            "_model_module_version": "1.2.0",
            "_model_name": "LayoutModel",
            "_view_count": null,
            "_view_module": "@jupyter-widgets/base",
            "_view_module_version": "1.2.0",
            "_view_name": "LayoutView",
            "align_content": null,
            "align_items": null,
            "align_self": null,
            "border": null,
            "bottom": null,
            "display": null,
            "flex": null,
            "flex_flow": null,
            "grid_area": null,
            "grid_auto_columns": null,
            "grid_auto_flow": null,
            "grid_auto_rows": null,
            "grid_column": null,
            "grid_gap": null,
            "grid_row": null,
            "grid_template_areas": null,
            "grid_template_columns": null,
            "grid_template_rows": null,
            "height": null,
            "justify_content": null,
            "justify_items": null,
            "left": null,
            "margin": null,
            "max_height": null,
            "max_width": null,
            "min_height": null,
            "min_width": null,
            "object_fit": null,
            "object_position": null,
            "order": null,
            "overflow": null,
            "overflow_x": null,
            "overflow_y": null,
            "padding": null,
            "right": null,
            "top": null,
            "visibility": null,
            "width": null
          }
        },
        "a487f39ef6e64e93a0586b438a5d8261": {
          "model_module": "@jupyter-widgets/controls",
          "model_name": "ProgressStyleModel",
          "model_module_version": "1.5.0",
          "state": {
            "_model_module": "@jupyter-widgets/controls",
            "_model_module_version": "1.5.0",
            "_model_name": "ProgressStyleModel",
            "_view_count": null,
            "_view_module": "@jupyter-widgets/base",
            "_view_module_version": "1.2.0",
            "_view_name": "StyleView",
            "bar_color": null,
            "description_width": ""
          }
        },
        "87baac4de0784d82bce8804a58a36991": {
          "model_module": "@jupyter-widgets/base",
          "model_name": "LayoutModel",
          "model_module_version": "1.2.0",
          "state": {
            "_model_module": "@jupyter-widgets/base",
            "_model_module_version": "1.2.0",
            "_model_name": "LayoutModel",
            "_view_count": null,
            "_view_module": "@jupyter-widgets/base",
            "_view_module_version": "1.2.0",
            "_view_name": "LayoutView",
            "align_content": null,
            "align_items": null,
            "align_self": null,
            "border": null,
            "bottom": null,
            "display": null,
            "flex": null,
            "flex_flow": null,
            "grid_area": null,
            "grid_auto_columns": null,
            "grid_auto_flow": null,
            "grid_auto_rows": null,
            "grid_column": null,
            "grid_gap": null,
            "grid_row": null,
            "grid_template_areas": null,
            "grid_template_columns": null,
            "grid_template_rows": null,
            "height": null,
            "justify_content": null,
            "justify_items": null,
            "left": null,
            "margin": null,
            "max_height": null,
            "max_width": null,
            "min_height": null,
            "min_width": null,
            "object_fit": null,
            "object_position": null,
            "order": null,
            "overflow": null,
            "overflow_x": null,
            "overflow_y": null,
            "padding": null,
            "right": null,
            "top": null,
            "visibility": null,
            "width": null
          }
        },
        "00a9cc24006c415b9e624f4251160412": {
          "model_module": "@jupyter-widgets/controls",
          "model_name": "DescriptionStyleModel",
          "model_module_version": "1.5.0",
          "state": {
            "_model_module": "@jupyter-widgets/controls",
            "_model_module_version": "1.5.0",
            "_model_name": "DescriptionStyleModel",
            "_view_count": null,
            "_view_module": "@jupyter-widgets/base",
            "_view_module_version": "1.2.0",
            "_view_name": "StyleView",
            "description_width": ""
          }
        },
        "28e5d73af27944028caf912443aaecd8": {
          "model_module": "@jupyter-widgets/controls",
          "model_name": "HBoxModel",
          "model_module_version": "1.5.0",
          "state": {
            "_dom_classes": [],
            "_model_module": "@jupyter-widgets/controls",
            "_model_module_version": "1.5.0",
            "_model_name": "HBoxModel",
            "_view_count": null,
            "_view_module": "@jupyter-widgets/controls",
            "_view_module_version": "1.5.0",
            "_view_name": "HBoxView",
            "box_style": "",
            "children": [
              "IPY_MODEL_f7482b8ad3c848cc8985050399014221",
              "IPY_MODEL_85a02ad928bb44729bea40f765cd9c6b",
              "IPY_MODEL_7fd2ecd191ea4fb892d600d60eb11949"
            ],
            "layout": "IPY_MODEL_4290be4716a94af08452a925fe0c4a10"
          }
        },
        "f7482b8ad3c848cc8985050399014221": {
          "model_module": "@jupyter-widgets/controls",
          "model_name": "HTMLModel",
          "model_module_version": "1.5.0",
          "state": {
            "_dom_classes": [],
            "_model_module": "@jupyter-widgets/controls",
            "_model_module_version": "1.5.0",
            "_model_name": "HTMLModel",
            "_view_count": null,
            "_view_module": "@jupyter-widgets/controls",
            "_view_module_version": "1.5.0",
            "_view_name": "HTMLView",
            "description": "",
            "description_tooltip": null,
            "layout": "IPY_MODEL_0e87330d85ba4789ad078a2d583502f9",
            "placeholder": "​",
            "style": "IPY_MODEL_99d0f62a419c4db0beea74db79261e50",
            "value": "vocab.txt: 100%"
          }
        },
        "85a02ad928bb44729bea40f765cd9c6b": {
          "model_module": "@jupyter-widgets/controls",
          "model_name": "FloatProgressModel",
          "model_module_version": "1.5.0",
          "state": {
            "_dom_classes": [],
            "_model_module": "@jupyter-widgets/controls",
            "_model_module_version": "1.5.0",
            "_model_name": "FloatProgressModel",
            "_view_count": null,
            "_view_module": "@jupyter-widgets/controls",
            "_view_module_version": "1.5.0",
            "_view_name": "ProgressView",
            "bar_style": "success",
            "description": "",
            "description_tooltip": null,
            "layout": "IPY_MODEL_8f393e5a7b8344fab8bfd9bef7dee5f9",
            "max": 231536,
            "min": 0,
            "orientation": "horizontal",
            "style": "IPY_MODEL_0ea3ce36c01c44178ca8919601169fd9",
            "value": 231536
          }
        },
        "7fd2ecd191ea4fb892d600d60eb11949": {
          "model_module": "@jupyter-widgets/controls",
          "model_name": "HTMLModel",
          "model_module_version": "1.5.0",
          "state": {
            "_dom_classes": [],
            "_model_module": "@jupyter-widgets/controls",
            "_model_module_version": "1.5.0",
            "_model_name": "HTMLModel",
            "_view_count": null,
            "_view_module": "@jupyter-widgets/controls",
            "_view_module_version": "1.5.0",
            "_view_name": "HTMLView",
            "description": "",
            "description_tooltip": null,
            "layout": "IPY_MODEL_849d91e4d490431ebdf1b9fe829ac0ce",
            "placeholder": "​",
            "style": "IPY_MODEL_61e14a97480c474483cdc58bee36533c",
            "value": " 232k/232k [00:00&lt;00:00, 7.31MB/s]"
          }
        },
        "4290be4716a94af08452a925fe0c4a10": {
          "model_module": "@jupyter-widgets/base",
          "model_name": "LayoutModel",
          "model_module_version": "1.2.0",
          "state": {
            "_model_module": "@jupyter-widgets/base",
            "_model_module_version": "1.2.0",
            "_model_name": "LayoutModel",
            "_view_count": null,
            "_view_module": "@jupyter-widgets/base",
            "_view_module_version": "1.2.0",
            "_view_name": "LayoutView",
            "align_content": null,
            "align_items": null,
            "align_self": null,
            "border": null,
            "bottom": null,
            "display": null,
            "flex": null,
            "flex_flow": null,
            "grid_area": null,
            "grid_auto_columns": null,
            "grid_auto_flow": null,
            "grid_auto_rows": null,
            "grid_column": null,
            "grid_gap": null,
            "grid_row": null,
            "grid_template_areas": null,
            "grid_template_columns": null,
            "grid_template_rows": null,
            "height": null,
            "justify_content": null,
            "justify_items": null,
            "left": null,
            "margin": null,
            "max_height": null,
            "max_width": null,
            "min_height": null,
            "min_width": null,
            "object_fit": null,
            "object_position": null,
            "order": null,
            "overflow": null,
            "overflow_x": null,
            "overflow_y": null,
            "padding": null,
            "right": null,
            "top": null,
            "visibility": null,
            "width": null
          }
        },
        "0e87330d85ba4789ad078a2d583502f9": {
          "model_module": "@jupyter-widgets/base",
          "model_name": "LayoutModel",
          "model_module_version": "1.2.0",
          "state": {
            "_model_module": "@jupyter-widgets/base",
            "_model_module_version": "1.2.0",
            "_model_name": "LayoutModel",
            "_view_count": null,
            "_view_module": "@jupyter-widgets/base",
            "_view_module_version": "1.2.0",
            "_view_name": "LayoutView",
            "align_content": null,
            "align_items": null,
            "align_self": null,
            "border": null,
            "bottom": null,
            "display": null,
            "flex": null,
            "flex_flow": null,
            "grid_area": null,
            "grid_auto_columns": null,
            "grid_auto_flow": null,
            "grid_auto_rows": null,
            "grid_column": null,
            "grid_gap": null,
            "grid_row": null,
            "grid_template_areas": null,
            "grid_template_columns": null,
            "grid_template_rows": null,
            "height": null,
            "justify_content": null,
            "justify_items": null,
            "left": null,
            "margin": null,
            "max_height": null,
            "max_width": null,
            "min_height": null,
            "min_width": null,
            "object_fit": null,
            "object_position": null,
            "order": null,
            "overflow": null,
            "overflow_x": null,
            "overflow_y": null,
            "padding": null,
            "right": null,
            "top": null,
            "visibility": null,
            "width": null
          }
        },
        "99d0f62a419c4db0beea74db79261e50": {
          "model_module": "@jupyter-widgets/controls",
          "model_name": "DescriptionStyleModel",
          "model_module_version": "1.5.0",
          "state": {
            "_model_module": "@jupyter-widgets/controls",
            "_model_module_version": "1.5.0",
            "_model_name": "DescriptionStyleModel",
            "_view_count": null,
            "_view_module": "@jupyter-widgets/base",
            "_view_module_version": "1.2.0",
            "_view_name": "StyleView",
            "description_width": ""
          }
        },
        "8f393e5a7b8344fab8bfd9bef7dee5f9": {
          "model_module": "@jupyter-widgets/base",
          "model_name": "LayoutModel",
          "model_module_version": "1.2.0",
          "state": {
            "_model_module": "@jupyter-widgets/base",
            "_model_module_version": "1.2.0",
            "_model_name": "LayoutModel",
            "_view_count": null,
            "_view_module": "@jupyter-widgets/base",
            "_view_module_version": "1.2.0",
            "_view_name": "LayoutView",
            "align_content": null,
            "align_items": null,
            "align_self": null,
            "border": null,
            "bottom": null,
            "display": null,
            "flex": null,
            "flex_flow": null,
            "grid_area": null,
            "grid_auto_columns": null,
            "grid_auto_flow": null,
            "grid_auto_rows": null,
            "grid_column": null,
            "grid_gap": null,
            "grid_row": null,
            "grid_template_areas": null,
            "grid_template_columns": null,
            "grid_template_rows": null,
            "height": null,
            "justify_content": null,
            "justify_items": null,
            "left": null,
            "margin": null,
            "max_height": null,
            "max_width": null,
            "min_height": null,
            "min_width": null,
            "object_fit": null,
            "object_position": null,
            "order": null,
            "overflow": null,
            "overflow_x": null,
            "overflow_y": null,
            "padding": null,
            "right": null,
            "top": null,
            "visibility": null,
            "width": null
          }
        },
        "0ea3ce36c01c44178ca8919601169fd9": {
          "model_module": "@jupyter-widgets/controls",
          "model_name": "ProgressStyleModel",
          "model_module_version": "1.5.0",
          "state": {
            "_model_module": "@jupyter-widgets/controls",
            "_model_module_version": "1.5.0",
            "_model_name": "ProgressStyleModel",
            "_view_count": null,
            "_view_module": "@jupyter-widgets/base",
            "_view_module_version": "1.2.0",
            "_view_name": "StyleView",
            "bar_color": null,
            "description_width": ""
          }
        },
        "849d91e4d490431ebdf1b9fe829ac0ce": {
          "model_module": "@jupyter-widgets/base",
          "model_name": "LayoutModel",
          "model_module_version": "1.2.0",
          "state": {
            "_model_module": "@jupyter-widgets/base",
            "_model_module_version": "1.2.0",
            "_model_name": "LayoutModel",
            "_view_count": null,
            "_view_module": "@jupyter-widgets/base",
            "_view_module_version": "1.2.0",
            "_view_name": "LayoutView",
            "align_content": null,
            "align_items": null,
            "align_self": null,
            "border": null,
            "bottom": null,
            "display": null,
            "flex": null,
            "flex_flow": null,
            "grid_area": null,
            "grid_auto_columns": null,
            "grid_auto_flow": null,
            "grid_auto_rows": null,
            "grid_column": null,
            "grid_gap": null,
            "grid_row": null,
            "grid_template_areas": null,
            "grid_template_columns": null,
            "grid_template_rows": null,
            "height": null,
            "justify_content": null,
            "justify_items": null,
            "left": null,
            "margin": null,
            "max_height": null,
            "max_width": null,
            "min_height": null,
            "min_width": null,
            "object_fit": null,
            "object_position": null,
            "order": null,
            "overflow": null,
            "overflow_x": null,
            "overflow_y": null,
            "padding": null,
            "right": null,
            "top": null,
            "visibility": null,
            "width": null
          }
        },
        "61e14a97480c474483cdc58bee36533c": {
          "model_module": "@jupyter-widgets/controls",
          "model_name": "DescriptionStyleModel",
          "model_module_version": "1.5.0",
          "state": {
            "_model_module": "@jupyter-widgets/controls",
            "_model_module_version": "1.5.0",
            "_model_name": "DescriptionStyleModel",
            "_view_count": null,
            "_view_module": "@jupyter-widgets/base",
            "_view_module_version": "1.2.0",
            "_view_name": "StyleView",
            "description_width": ""
          }
        },
        "7596c257582947b4a96ba7609ed84dd0": {
          "model_module": "@jupyter-widgets/controls",
          "model_name": "HBoxModel",
          "model_module_version": "1.5.0",
          "state": {
            "_dom_classes": [],
            "_model_module": "@jupyter-widgets/controls",
            "_model_module_version": "1.5.0",
            "_model_name": "HBoxModel",
            "_view_count": null,
            "_view_module": "@jupyter-widgets/controls",
            "_view_module_version": "1.5.0",
            "_view_name": "HBoxView",
            "box_style": "",
            "children": [
              "IPY_MODEL_70690608340e4034b69b336b16d5cc1e",
              "IPY_MODEL_351872fd70a14a488326745270c377c3",
              "IPY_MODEL_45e69bc4efbe4853828b1ec0b9806137"
            ],
            "layout": "IPY_MODEL_b221d2b4d3eb4dc2898b5fb18d7c82b4"
          }
        },
        "70690608340e4034b69b336b16d5cc1e": {
          "model_module": "@jupyter-widgets/controls",
          "model_name": "HTMLModel",
          "model_module_version": "1.5.0",
          "state": {
            "_dom_classes": [],
            "_model_module": "@jupyter-widgets/controls",
            "_model_module_version": "1.5.0",
            "_model_name": "HTMLModel",
            "_view_count": null,
            "_view_module": "@jupyter-widgets/controls",
            "_view_module_version": "1.5.0",
            "_view_name": "HTMLView",
            "description": "",
            "description_tooltip": null,
            "layout": "IPY_MODEL_a57aa328b7794485a9ad188452384355",
            "placeholder": "​",
            "style": "IPY_MODEL_1ccc3af987344b3089eee3410a4ab5ce",
            "value": "tokenizer.json: 100%"
          }
        },
        "351872fd70a14a488326745270c377c3": {
          "model_module": "@jupyter-widgets/controls",
          "model_name": "FloatProgressModel",
          "model_module_version": "1.5.0",
          "state": {
            "_dom_classes": [],
            "_model_module": "@jupyter-widgets/controls",
            "_model_module_version": "1.5.0",
            "_model_name": "FloatProgressModel",
            "_view_count": null,
            "_view_module": "@jupyter-widgets/controls",
            "_view_module_version": "1.5.0",
            "_view_name": "ProgressView",
            "bar_style": "success",
            "description": "",
            "description_tooltip": null,
            "layout": "IPY_MODEL_6fcc2386e0c540918ed8ca44a1dda161",
            "max": 466021,
            "min": 0,
            "orientation": "horizontal",
            "style": "IPY_MODEL_03007b41578042ac8b35904b2d85dc8b",
            "value": 466021
          }
        },
        "45e69bc4efbe4853828b1ec0b9806137": {
          "model_module": "@jupyter-widgets/controls",
          "model_name": "HTMLModel",
          "model_module_version": "1.5.0",
          "state": {
            "_dom_classes": [],
            "_model_module": "@jupyter-widgets/controls",
            "_model_module_version": "1.5.0",
            "_model_name": "HTMLModel",
            "_view_count": null,
            "_view_module": "@jupyter-widgets/controls",
            "_view_module_version": "1.5.0",
            "_view_name": "HTMLView",
            "description": "",
            "description_tooltip": null,
            "layout": "IPY_MODEL_28e70309c44746908ecf62e85fce1266",
            "placeholder": "​",
            "style": "IPY_MODEL_34fcd6a3b2254bb1baa1cf56746fb415",
            "value": " 466k/466k [00:00&lt;00:00, 12.5MB/s]"
          }
        },
        "b221d2b4d3eb4dc2898b5fb18d7c82b4": {
          "model_module": "@jupyter-widgets/base",
          "model_name": "LayoutModel",
          "model_module_version": "1.2.0",
          "state": {
            "_model_module": "@jupyter-widgets/base",
            "_model_module_version": "1.2.0",
            "_model_name": "LayoutModel",
            "_view_count": null,
            "_view_module": "@jupyter-widgets/base",
            "_view_module_version": "1.2.0",
            "_view_name": "LayoutView",
            "align_content": null,
            "align_items": null,
            "align_self": null,
            "border": null,
            "bottom": null,
            "display": null,
            "flex": null,
            "flex_flow": null,
            "grid_area": null,
            "grid_auto_columns": null,
            "grid_auto_flow": null,
            "grid_auto_rows": null,
            "grid_column": null,
            "grid_gap": null,
            "grid_row": null,
            "grid_template_areas": null,
            "grid_template_columns": null,
            "grid_template_rows": null,
            "height": null,
            "justify_content": null,
            "justify_items": null,
            "left": null,
            "margin": null,
            "max_height": null,
            "max_width": null,
            "min_height": null,
            "min_width": null,
            "object_fit": null,
            "object_position": null,
            "order": null,
            "overflow": null,
            "overflow_x": null,
            "overflow_y": null,
            "padding": null,
            "right": null,
            "top": null,
            "visibility": null,
            "width": null
          }
        },
        "a57aa328b7794485a9ad188452384355": {
          "model_module": "@jupyter-widgets/base",
          "model_name": "LayoutModel",
          "model_module_version": "1.2.0",
          "state": {
            "_model_module": "@jupyter-widgets/base",
            "_model_module_version": "1.2.0",
            "_model_name": "LayoutModel",
            "_view_count": null,
            "_view_module": "@jupyter-widgets/base",
            "_view_module_version": "1.2.0",
            "_view_name": "LayoutView",
            "align_content": null,
            "align_items": null,
            "align_self": null,
            "border": null,
            "bottom": null,
            "display": null,
            "flex": null,
            "flex_flow": null,
            "grid_area": null,
            "grid_auto_columns": null,
            "grid_auto_flow": null,
            "grid_auto_rows": null,
            "grid_column": null,
            "grid_gap": null,
            "grid_row": null,
            "grid_template_areas": null,
            "grid_template_columns": null,
            "grid_template_rows": null,
            "height": null,
            "justify_content": null,
            "justify_items": null,
            "left": null,
            "margin": null,
            "max_height": null,
            "max_width": null,
            "min_height": null,
            "min_width": null,
            "object_fit": null,
            "object_position": null,
            "order": null,
            "overflow": null,
            "overflow_x": null,
            "overflow_y": null,
            "padding": null,
            "right": null,
            "top": null,
            "visibility": null,
            "width": null
          }
        },
        "1ccc3af987344b3089eee3410a4ab5ce": {
          "model_module": "@jupyter-widgets/controls",
          "model_name": "DescriptionStyleModel",
          "model_module_version": "1.5.0",
          "state": {
            "_model_module": "@jupyter-widgets/controls",
            "_model_module_version": "1.5.0",
            "_model_name": "DescriptionStyleModel",
            "_view_count": null,
            "_view_module": "@jupyter-widgets/base",
            "_view_module_version": "1.2.0",
            "_view_name": "StyleView",
            "description_width": ""
          }
        },
        "6fcc2386e0c540918ed8ca44a1dda161": {
          "model_module": "@jupyter-widgets/base",
          "model_name": "LayoutModel",
          "model_module_version": "1.2.0",
          "state": {
            "_model_module": "@jupyter-widgets/base",
            "_model_module_version": "1.2.0",
            "_model_name": "LayoutModel",
            "_view_count": null,
            "_view_module": "@jupyter-widgets/base",
            "_view_module_version": "1.2.0",
            "_view_name": "LayoutView",
            "align_content": null,
            "align_items": null,
            "align_self": null,
            "border": null,
            "bottom": null,
            "display": null,
            "flex": null,
            "flex_flow": null,
            "grid_area": null,
            "grid_auto_columns": null,
            "grid_auto_flow": null,
            "grid_auto_rows": null,
            "grid_column": null,
            "grid_gap": null,
            "grid_row": null,
            "grid_template_areas": null,
            "grid_template_columns": null,
            "grid_template_rows": null,
            "height": null,
            "justify_content": null,
            "justify_items": null,
            "left": null,
            "margin": null,
            "max_height": null,
            "max_width": null,
            "min_height": null,
            "min_width": null,
            "object_fit": null,
            "object_position": null,
            "order": null,
            "overflow": null,
            "overflow_x": null,
            "overflow_y": null,
            "padding": null,
            "right": null,
            "top": null,
            "visibility": null,
            "width": null
          }
        },
        "03007b41578042ac8b35904b2d85dc8b": {
          "model_module": "@jupyter-widgets/controls",
          "model_name": "ProgressStyleModel",
          "model_module_version": "1.5.0",
          "state": {
            "_model_module": "@jupyter-widgets/controls",
            "_model_module_version": "1.5.0",
            "_model_name": "ProgressStyleModel",
            "_view_count": null,
            "_view_module": "@jupyter-widgets/base",
            "_view_module_version": "1.2.0",
            "_view_name": "StyleView",
            "bar_color": null,
            "description_width": ""
          }
        },
        "28e70309c44746908ecf62e85fce1266": {
          "model_module": "@jupyter-widgets/base",
          "model_name": "LayoutModel",
          "model_module_version": "1.2.0",
          "state": {
            "_model_module": "@jupyter-widgets/base",
            "_model_module_version": "1.2.0",
            "_model_name": "LayoutModel",
            "_view_count": null,
            "_view_module": "@jupyter-widgets/base",
            "_view_module_version": "1.2.0",
            "_view_name": "LayoutView",
            "align_content": null,
            "align_items": null,
            "align_self": null,
            "border": null,
            "bottom": null,
            "display": null,
            "flex": null,
            "flex_flow": null,
            "grid_area": null,
            "grid_auto_columns": null,
            "grid_auto_flow": null,
            "grid_auto_rows": null,
            "grid_column": null,
            "grid_gap": null,
            "grid_row": null,
            "grid_template_areas": null,
            "grid_template_columns": null,
            "grid_template_rows": null,
            "height": null,
            "justify_content": null,
            "justify_items": null,
            "left": null,
            "margin": null,
            "max_height": null,
            "max_width": null,
            "min_height": null,
            "min_width": null,
            "object_fit": null,
            "object_position": null,
            "order": null,
            "overflow": null,
            "overflow_x": null,
            "overflow_y": null,
            "padding": null,
            "right": null,
            "top": null,
            "visibility": null,
            "width": null
          }
        },
        "34fcd6a3b2254bb1baa1cf56746fb415": {
          "model_module": "@jupyter-widgets/controls",
          "model_name": "DescriptionStyleModel",
          "model_module_version": "1.5.0",
          "state": {
            "_model_module": "@jupyter-widgets/controls",
            "_model_module_version": "1.5.0",
            "_model_name": "DescriptionStyleModel",
            "_view_count": null,
            "_view_module": "@jupyter-widgets/base",
            "_view_module_version": "1.2.0",
            "_view_name": "StyleView",
            "description_width": ""
          }
        },
        "d0ff8a76d7094293851e67a0b81630a8": {
          "model_module": "@jupyter-widgets/controls",
          "model_name": "HBoxModel",
          "model_module_version": "1.5.0",
          "state": {
            "_dom_classes": [],
            "_model_module": "@jupyter-widgets/controls",
            "_model_module_version": "1.5.0",
            "_model_name": "HBoxModel",
            "_view_count": null,
            "_view_module": "@jupyter-widgets/controls",
            "_view_module_version": "1.5.0",
            "_view_name": "HBoxView",
            "box_style": "",
            "children": [
              "IPY_MODEL_07a7d2688ae848c6b25893db4eaed186",
              "IPY_MODEL_f2575b9b2344482faea46a974dd8715e",
              "IPY_MODEL_41ee9f40473a44dc8bc8a6a444feb0b3"
            ],
            "layout": "IPY_MODEL_c88175319a274bc483b46222600d311e"
          }
        },
        "07a7d2688ae848c6b25893db4eaed186": {
          "model_module": "@jupyter-widgets/controls",
          "model_name": "HTMLModel",
          "model_module_version": "1.5.0",
          "state": {
            "_dom_classes": [],
            "_model_module": "@jupyter-widgets/controls",
            "_model_module_version": "1.5.0",
            "_model_name": "HTMLModel",
            "_view_count": null,
            "_view_module": "@jupyter-widgets/controls",
            "_view_module_version": "1.5.0",
            "_view_name": "HTMLView",
            "description": "",
            "description_tooltip": null,
            "layout": "IPY_MODEL_37e68cc583bd485bbb333c24352a1351",
            "placeholder": "​",
            "style": "IPY_MODEL_c5daf30934ff4e87a9131006d0d74717",
            "value": "special_tokens_map.json: 100%"
          }
        },
        "f2575b9b2344482faea46a974dd8715e": {
          "model_module": "@jupyter-widgets/controls",
          "model_name": "FloatProgressModel",
          "model_module_version": "1.5.0",
          "state": {
            "_dom_classes": [],
            "_model_module": "@jupyter-widgets/controls",
            "_model_module_version": "1.5.0",
            "_model_name": "FloatProgressModel",
            "_view_count": null,
            "_view_module": "@jupyter-widgets/controls",
            "_view_module_version": "1.5.0",
            "_view_name": "ProgressView",
            "bar_style": "success",
            "description": "",
            "description_tooltip": null,
            "layout": "IPY_MODEL_e2bd4b749be14b13812a66fd03cb2425",
            "max": 239,
            "min": 0,
            "orientation": "horizontal",
            "style": "IPY_MODEL_2f81fa7d33b64ba88c0792ae0860f1cc",
            "value": 239
          }
        },
        "41ee9f40473a44dc8bc8a6a444feb0b3": {
          "model_module": "@jupyter-widgets/controls",
          "model_name": "HTMLModel",
          "model_module_version": "1.5.0",
          "state": {
            "_dom_classes": [],
            "_model_module": "@jupyter-widgets/controls",
            "_model_module_version": "1.5.0",
            "_model_name": "HTMLModel",
            "_view_count": null,
            "_view_module": "@jupyter-widgets/controls",
            "_view_module_version": "1.5.0",
            "_view_name": "HTMLView",
            "description": "",
            "description_tooltip": null,
            "layout": "IPY_MODEL_a8f2d0d28ec14575b75577892d366f5e",
            "placeholder": "​",
            "style": "IPY_MODEL_236a60b57f3f475fa2ca00e36cc0d79d",
            "value": " 239/239 [00:00&lt;00:00, 20.8kB/s]"
          }
        },
        "c88175319a274bc483b46222600d311e": {
          "model_module": "@jupyter-widgets/base",
          "model_name": "LayoutModel",
          "model_module_version": "1.2.0",
          "state": {
            "_model_module": "@jupyter-widgets/base",
            "_model_module_version": "1.2.0",
            "_model_name": "LayoutModel",
            "_view_count": null,
            "_view_module": "@jupyter-widgets/base",
            "_view_module_version": "1.2.0",
            "_view_name": "LayoutView",
            "align_content": null,
            "align_items": null,
            "align_self": null,
            "border": null,
            "bottom": null,
            "display": null,
            "flex": null,
            "flex_flow": null,
            "grid_area": null,
            "grid_auto_columns": null,
            "grid_auto_flow": null,
            "grid_auto_rows": null,
            "grid_column": null,
            "grid_gap": null,
            "grid_row": null,
            "grid_template_areas": null,
            "grid_template_columns": null,
            "grid_template_rows": null,
            "height": null,
            "justify_content": null,
            "justify_items": null,
            "left": null,
            "margin": null,
            "max_height": null,
            "max_width": null,
            "min_height": null,
            "min_width": null,
            "object_fit": null,
            "object_position": null,
            "order": null,
            "overflow": null,
            "overflow_x": null,
            "overflow_y": null,
            "padding": null,
            "right": null,
            "top": null,
            "visibility": null,
            "width": null
          }
        },
        "37e68cc583bd485bbb333c24352a1351": {
          "model_module": "@jupyter-widgets/base",
          "model_name": "LayoutModel",
          "model_module_version": "1.2.0",
          "state": {
            "_model_module": "@jupyter-widgets/base",
            "_model_module_version": "1.2.0",
            "_model_name": "LayoutModel",
            "_view_count": null,
            "_view_module": "@jupyter-widgets/base",
            "_view_module_version": "1.2.0",
            "_view_name": "LayoutView",
            "align_content": null,
            "align_items": null,
            "align_self": null,
            "border": null,
            "bottom": null,
            "display": null,
            "flex": null,
            "flex_flow": null,
            "grid_area": null,
            "grid_auto_columns": null,
            "grid_auto_flow": null,
            "grid_auto_rows": null,
            "grid_column": null,
            "grid_gap": null,
            "grid_row": null,
            "grid_template_areas": null,
            "grid_template_columns": null,
            "grid_template_rows": null,
            "height": null,
            "justify_content": null,
            "justify_items": null,
            "left": null,
            "margin": null,
            "max_height": null,
            "max_width": null,
            "min_height": null,
            "min_width": null,
            "object_fit": null,
            "object_position": null,
            "order": null,
            "overflow": null,
            "overflow_x": null,
            "overflow_y": null,
            "padding": null,
            "right": null,
            "top": null,
            "visibility": null,
            "width": null
          }
        },
        "c5daf30934ff4e87a9131006d0d74717": {
          "model_module": "@jupyter-widgets/controls",
          "model_name": "DescriptionStyleModel",
          "model_module_version": "1.5.0",
          "state": {
            "_model_module": "@jupyter-widgets/controls",
            "_model_module_version": "1.5.0",
            "_model_name": "DescriptionStyleModel",
            "_view_count": null,
            "_view_module": "@jupyter-widgets/base",
            "_view_module_version": "1.2.0",
            "_view_name": "StyleView",
            "description_width": ""
          }
        },
        "e2bd4b749be14b13812a66fd03cb2425": {
          "model_module": "@jupyter-widgets/base",
          "model_name": "LayoutModel",
          "model_module_version": "1.2.0",
          "state": {
            "_model_module": "@jupyter-widgets/base",
            "_model_module_version": "1.2.0",
            "_model_name": "LayoutModel",
            "_view_count": null,
            "_view_module": "@jupyter-widgets/base",
            "_view_module_version": "1.2.0",
            "_view_name": "LayoutView",
            "align_content": null,
            "align_items": null,
            "align_self": null,
            "border": null,
            "bottom": null,
            "display": null,
            "flex": null,
            "flex_flow": null,
            "grid_area": null,
            "grid_auto_columns": null,
            "grid_auto_flow": null,
            "grid_auto_rows": null,
            "grid_column": null,
            "grid_gap": null,
            "grid_row": null,
            "grid_template_areas": null,
            "grid_template_columns": null,
            "grid_template_rows": null,
            "height": null,
            "justify_content": null,
            "justify_items": null,
            "left": null,
            "margin": null,
            "max_height": null,
            "max_width": null,
            "min_height": null,
            "min_width": null,
            "object_fit": null,
            "object_position": null,
            "order": null,
            "overflow": null,
            "overflow_x": null,
            "overflow_y": null,
            "padding": null,
            "right": null,
            "top": null,
            "visibility": null,
            "width": null
          }
        },
        "2f81fa7d33b64ba88c0792ae0860f1cc": {
          "model_module": "@jupyter-widgets/controls",
          "model_name": "ProgressStyleModel",
          "model_module_version": "1.5.0",
          "state": {
            "_model_module": "@jupyter-widgets/controls",
            "_model_module_version": "1.5.0",
            "_model_name": "ProgressStyleModel",
            "_view_count": null,
            "_view_module": "@jupyter-widgets/base",
            "_view_module_version": "1.2.0",
            "_view_name": "StyleView",
            "bar_color": null,
            "description_width": ""
          }
        },
        "a8f2d0d28ec14575b75577892d366f5e": {
          "model_module": "@jupyter-widgets/base",
          "model_name": "LayoutModel",
          "model_module_version": "1.2.0",
          "state": {
            "_model_module": "@jupyter-widgets/base",
            "_model_module_version": "1.2.0",
            "_model_name": "LayoutModel",
            "_view_count": null,
            "_view_module": "@jupyter-widgets/base",
            "_view_module_version": "1.2.0",
            "_view_name": "LayoutView",
            "align_content": null,
            "align_items": null,
            "align_self": null,
            "border": null,
            "bottom": null,
            "display": null,
            "flex": null,
            "flex_flow": null,
            "grid_area": null,
            "grid_auto_columns": null,
            "grid_auto_flow": null,
            "grid_auto_rows": null,
            "grid_column": null,
            "grid_gap": null,
            "grid_row": null,
            "grid_template_areas": null,
            "grid_template_columns": null,
            "grid_template_rows": null,
            "height": null,
            "justify_content": null,
            "justify_items": null,
            "left": null,
            "margin": null,
            "max_height": null,
            "max_width": null,
            "min_height": null,
            "min_width": null,
            "object_fit": null,
            "object_position": null,
            "order": null,
            "overflow": null,
            "overflow_x": null,
            "overflow_y": null,
            "padding": null,
            "right": null,
            "top": null,
            "visibility": null,
            "width": null
          }
        },
        "236a60b57f3f475fa2ca00e36cc0d79d": {
          "model_module": "@jupyter-widgets/controls",
          "model_name": "DescriptionStyleModel",
          "model_module_version": "1.5.0",
          "state": {
            "_model_module": "@jupyter-widgets/controls",
            "_model_module_version": "1.5.0",
            "_model_name": "DescriptionStyleModel",
            "_view_count": null,
            "_view_module": "@jupyter-widgets/base",
            "_view_module_version": "1.2.0",
            "_view_name": "StyleView",
            "description_width": ""
          }
        },
        "d8fd128be4ba4f9e979258e3a01d71c2": {
          "model_module": "@jupyter-widgets/controls",
          "model_name": "HBoxModel",
          "model_module_version": "1.5.0",
          "state": {
            "_dom_classes": [],
            "_model_module": "@jupyter-widgets/controls",
            "_model_module_version": "1.5.0",
            "_model_name": "HBoxModel",
            "_view_count": null,
            "_view_module": "@jupyter-widgets/controls",
            "_view_module_version": "1.5.0",
            "_view_name": "HBoxView",
            "box_style": "",
            "children": [
              "IPY_MODEL_9dda2aee29fb491b9ee275e17fe656e1",
              "IPY_MODEL_bd84b2339b1f4292becdb354d5e000cf",
              "IPY_MODEL_1386c2f76a1247cb83ca29a19fd98d9f"
            ],
            "layout": "IPY_MODEL_1c2ddc8c2923414fae57ad7394d9e83c"
          }
        },
        "9dda2aee29fb491b9ee275e17fe656e1": {
          "model_module": "@jupyter-widgets/controls",
          "model_name": "HTMLModel",
          "model_module_version": "1.5.0",
          "state": {
            "_dom_classes": [],
            "_model_module": "@jupyter-widgets/controls",
            "_model_module_version": "1.5.0",
            "_model_name": "HTMLModel",
            "_view_count": null,
            "_view_module": "@jupyter-widgets/controls",
            "_view_module_version": "1.5.0",
            "_view_name": "HTMLView",
            "description": "",
            "description_tooltip": null,
            "layout": "IPY_MODEL_751cfd46ecf540b1a0cd136e58f7db32",
            "placeholder": "​",
            "style": "IPY_MODEL_89ad689a0fa54ec9a9fc8e0c3daedeb7",
            "value": "config.json: 100%"
          }
        },
        "bd84b2339b1f4292becdb354d5e000cf": {
          "model_module": "@jupyter-widgets/controls",
          "model_name": "FloatProgressModel",
          "model_module_version": "1.5.0",
          "state": {
            "_dom_classes": [],
            "_model_module": "@jupyter-widgets/controls",
            "_model_module_version": "1.5.0",
            "_model_name": "FloatProgressModel",
            "_view_count": null,
            "_view_module": "@jupyter-widgets/controls",
            "_view_module_version": "1.5.0",
            "_view_name": "ProgressView",
            "bar_style": "success",
            "description": "",
            "description_tooltip": null,
            "layout": "IPY_MODEL_4df72ae0e7b645359c5c6d4101ee32ad",
            "max": 190,
            "min": 0,
            "orientation": "horizontal",
            "style": "IPY_MODEL_311e558b34b3464e8029e02c2a21a965",
            "value": 190
          }
        },
        "1386c2f76a1247cb83ca29a19fd98d9f": {
          "model_module": "@jupyter-widgets/controls",
          "model_name": "HTMLModel",
          "model_module_version": "1.5.0",
          "state": {
            "_dom_classes": [],
            "_model_module": "@jupyter-widgets/controls",
            "_model_module_version": "1.5.0",
            "_model_name": "HTMLModel",
            "_view_count": null,
            "_view_module": "@jupyter-widgets/controls",
            "_view_module_version": "1.5.0",
            "_view_name": "HTMLView",
            "description": "",
            "description_tooltip": null,
            "layout": "IPY_MODEL_b386a832fedd4cffa3192649760f3968",
            "placeholder": "​",
            "style": "IPY_MODEL_a164767af4c84ebea6cacf7a0de8edb7",
            "value": " 190/190 [00:00&lt;00:00, 10.2kB/s]"
          }
        },
        "1c2ddc8c2923414fae57ad7394d9e83c": {
          "model_module": "@jupyter-widgets/base",
          "model_name": "LayoutModel",
          "model_module_version": "1.2.0",
          "state": {
            "_model_module": "@jupyter-widgets/base",
            "_model_module_version": "1.2.0",
            "_model_name": "LayoutModel",
            "_view_count": null,
            "_view_module": "@jupyter-widgets/base",
            "_view_module_version": "1.2.0",
            "_view_name": "LayoutView",
            "align_content": null,
            "align_items": null,
            "align_self": null,
            "border": null,
            "bottom": null,
            "display": null,
            "flex": null,
            "flex_flow": null,
            "grid_area": null,
            "grid_auto_columns": null,
            "grid_auto_flow": null,
            "grid_auto_rows": null,
            "grid_column": null,
            "grid_gap": null,
            "grid_row": null,
            "grid_template_areas": null,
            "grid_template_columns": null,
            "grid_template_rows": null,
            "height": null,
            "justify_content": null,
            "justify_items": null,
            "left": null,
            "margin": null,
            "max_height": null,
            "max_width": null,
            "min_height": null,
            "min_width": null,
            "object_fit": null,
            "object_position": null,
            "order": null,
            "overflow": null,
            "overflow_x": null,
            "overflow_y": null,
            "padding": null,
            "right": null,
            "top": null,
            "visibility": null,
            "width": null
          }
        },
        "751cfd46ecf540b1a0cd136e58f7db32": {
          "model_module": "@jupyter-widgets/base",
          "model_name": "LayoutModel",
          "model_module_version": "1.2.0",
          "state": {
            "_model_module": "@jupyter-widgets/base",
            "_model_module_version": "1.2.0",
            "_model_name": "LayoutModel",
            "_view_count": null,
            "_view_module": "@jupyter-widgets/base",
            "_view_module_version": "1.2.0",
            "_view_name": "LayoutView",
            "align_content": null,
            "align_items": null,
            "align_self": null,
            "border": null,
            "bottom": null,
            "display": null,
            "flex": null,
            "flex_flow": null,
            "grid_area": null,
            "grid_auto_columns": null,
            "grid_auto_flow": null,
            "grid_auto_rows": null,
            "grid_column": null,
            "grid_gap": null,
            "grid_row": null,
            "grid_template_areas": null,
            "grid_template_columns": null,
            "grid_template_rows": null,
            "height": null,
            "justify_content": null,
            "justify_items": null,
            "left": null,
            "margin": null,
            "max_height": null,
            "max_width": null,
            "min_height": null,
            "min_width": null,
            "object_fit": null,
            "object_position": null,
            "order": null,
            "overflow": null,
            "overflow_x": null,
            "overflow_y": null,
            "padding": null,
            "right": null,
            "top": null,
            "visibility": null,
            "width": null
          }
        },
        "89ad689a0fa54ec9a9fc8e0c3daedeb7": {
          "model_module": "@jupyter-widgets/controls",
          "model_name": "DescriptionStyleModel",
          "model_module_version": "1.5.0",
          "state": {
            "_model_module": "@jupyter-widgets/controls",
            "_model_module_version": "1.5.0",
            "_model_name": "DescriptionStyleModel",
            "_view_count": null,
            "_view_module": "@jupyter-widgets/base",
            "_view_module_version": "1.2.0",
            "_view_name": "StyleView",
            "description_width": ""
          }
        },
        "4df72ae0e7b645359c5c6d4101ee32ad": {
          "model_module": "@jupyter-widgets/base",
          "model_name": "LayoutModel",
          "model_module_version": "1.2.0",
          "state": {
            "_model_module": "@jupyter-widgets/base",
            "_model_module_version": "1.2.0",
            "_model_name": "LayoutModel",
            "_view_count": null,
            "_view_module": "@jupyter-widgets/base",
            "_view_module_version": "1.2.0",
            "_view_name": "LayoutView",
            "align_content": null,
            "align_items": null,
            "align_self": null,
            "border": null,
            "bottom": null,
            "display": null,
            "flex": null,
            "flex_flow": null,
            "grid_area": null,
            "grid_auto_columns": null,
            "grid_auto_flow": null,
            "grid_auto_rows": null,
            "grid_column": null,
            "grid_gap": null,
            "grid_row": null,
            "grid_template_areas": null,
            "grid_template_columns": null,
            "grid_template_rows": null,
            "height": null,
            "justify_content": null,
            "justify_items": null,
            "left": null,
            "margin": null,
            "max_height": null,
            "max_width": null,
            "min_height": null,
            "min_width": null,
            "object_fit": null,
            "object_position": null,
            "order": null,
            "overflow": null,
            "overflow_x": null,
            "overflow_y": null,
            "padding": null,
            "right": null,
            "top": null,
            "visibility": null,
            "width": null
          }
        },
        "311e558b34b3464e8029e02c2a21a965": {
          "model_module": "@jupyter-widgets/controls",
          "model_name": "ProgressStyleModel",
          "model_module_version": "1.5.0",
          "state": {
            "_model_module": "@jupyter-widgets/controls",
            "_model_module_version": "1.5.0",
            "_model_name": "ProgressStyleModel",
            "_view_count": null,
            "_view_module": "@jupyter-widgets/base",
            "_view_module_version": "1.2.0",
            "_view_name": "StyleView",
            "bar_color": null,
            "description_width": ""
          }
        },
        "b386a832fedd4cffa3192649760f3968": {
          "model_module": "@jupyter-widgets/base",
          "model_name": "LayoutModel",
          "model_module_version": "1.2.0",
          "state": {
            "_model_module": "@jupyter-widgets/base",
            "_model_module_version": "1.2.0",
            "_model_name": "LayoutModel",
            "_view_count": null,
            "_view_module": "@jupyter-widgets/base",
            "_view_module_version": "1.2.0",
            "_view_name": "LayoutView",
            "align_content": null,
            "align_items": null,
            "align_self": null,
            "border": null,
            "bottom": null,
            "display": null,
            "flex": null,
            "flex_flow": null,
            "grid_area": null,
            "grid_auto_columns": null,
            "grid_auto_flow": null,
            "grid_auto_rows": null,
            "grid_column": null,
            "grid_gap": null,
            "grid_row": null,
            "grid_template_areas": null,
            "grid_template_columns": null,
            "grid_template_rows": null,
            "height": null,
            "justify_content": null,
            "justify_items": null,
            "left": null,
            "margin": null,
            "max_height": null,
            "max_width": null,
            "min_height": null,
            "min_width": null,
            "object_fit": null,
            "object_position": null,
            "order": null,
            "overflow": null,
            "overflow_x": null,
            "overflow_y": null,
            "padding": null,
            "right": null,
            "top": null,
            "visibility": null,
            "width": null
          }
        },
        "a164767af4c84ebea6cacf7a0de8edb7": {
          "model_module": "@jupyter-widgets/controls",
          "model_name": "DescriptionStyleModel",
          "model_module_version": "1.5.0",
          "state": {
            "_model_module": "@jupyter-widgets/controls",
            "_model_module_version": "1.5.0",
            "_model_name": "DescriptionStyleModel",
            "_view_count": null,
            "_view_module": "@jupyter-widgets/base",
            "_view_module_version": "1.2.0",
            "_view_name": "StyleView",
            "description_width": ""
          }
        }
      }
    }
  },
  "nbformat": 4,
  "nbformat_minor": 5
}